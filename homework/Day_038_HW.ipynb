{
 "cells": [
  {
   "cell_type": "markdown",
   "metadata": {},
   "source": [
    "## [作業重點]\n",
    "使用 Sklearn 中的線性迴歸模型，來訓練各種資料集，務必了解送進去模型訓練的**資料型態**為何，也請了解模型中各項參數的意義"
   ]
  },
  {
   "cell_type": "markdown",
   "metadata": {},
   "source": [
    "## 作業\n",
    "試著使用 sklearn datasets 的其他資料集 (wine, boston, ...)，來訓練自己的線性迴歸模型。"
   ]
  },
  {
   "cell_type": "markdown",
   "metadata": {},
   "source": [
    "### HINT: 注意 label 的型態，確定資料集的目標是分類還是回歸，在使用正確的模型訓練！"
   ]
  },
  {
   "cell_type": "code",
   "execution_count": 1,
   "metadata": {
    "collapsed": true
   },
   "outputs": [],
   "source": [
    "import numpy as np\n",
    "import matplotlib.pyplot as plt\n",
    "from sklearn import datasets, linear_model\n",
    "from sklearn.model_selection import train_test_split\n",
    "from sklearn.metrics import mean_squared_error, r2_score, accuracy_score"
   ]
  },
  {
   "cell_type": "code",
   "execution_count": 2,
   "metadata": {
    "collapsed": true
   },
   "outputs": [],
   "source": [
    "wine = datasets.load_wine()\n",
    "boston = datasets.load_boston()\n",
    "breast_cancer = datasets.load_breast_cancer()"
   ]
  },
  {
   "cell_type": "markdown",
   "metadata": {},
   "source": [
    "### Wine Dataset"
   ]
  },
  {
   "cell_type": "code",
   "execution_count": 4,
   "metadata": {},
   "outputs": [],
   "source": [
    "wine_X = wine['data']\n",
    "wine_Y = wine['target']"
   ]
  },
  {
   "cell_type": "code",
   "execution_count": 7,
   "metadata": {},
   "outputs": [
    {
     "name": "stdout",
     "output_type": "stream",
     "text": [
      "[2 2 0 0 1 2 0 0 0 1 1 0 2 2 0 1 0 1]\n"
     ]
    }
   ],
   "source": [
    "wine_x_train, wine_x_test, wine_y_train, wine_y_test = train_test_split(wine_X, wine_Y, test_size=0.1, random_state=4)\n",
    "\n",
    "# 建立模型\n",
    "logreg = linear_model.LogisticRegression()\n",
    "\n",
    "# 訓練模型\n",
    "logreg.fit(wine_x_train, wine_y_train)\n",
    "\n",
    "# 預測測試集\n",
    "wine_y_pred = logreg.predict(wine_x_test)\n",
    "\n",
    "print(wine_y_pred)"
   ]
  },
  {
   "cell_type": "markdown",
   "metadata": {},
   "source": [
    "### Boston Dataser"
   ]
  },
  {
   "cell_type": "code",
   "execution_count": 9,
   "metadata": {},
   "outputs": [],
   "source": [
    "boston_X = boston['data']\n",
    "boston_Y = boston['target']"
   ]
  },
  {
   "cell_type": "code",
   "execution_count": 10,
   "metadata": {},
   "outputs": [
    {
     "name": "stdout",
     "output_type": "stream",
     "text": [
      "[11.45205045 26.79893954 17.4389957  17.55865164 37.38780218 25.07916896\n",
      " 31.05238585 20.30370747 19.64480088 22.81953877 28.46801756 28.53611318\n",
      " 18.73366894 33.12612617 21.34336692 15.15701287 21.57699678 10.90890168\n",
      " 11.70299582 13.53411236  5.09729175 17.39210046 20.69749481 22.72926151\n",
      " 16.46555139 20.42654693 17.53845045 14.22898943 21.53186669 17.32909124\n",
      " 14.24832679 23.93479881 34.3093138  22.04348852 17.47586862 20.19415293\n",
      " 30.71010805 35.20725477 24.07143917 24.52122017 36.77264011 33.16092018\n",
      " 19.66583637 31.93741979 33.55342098 25.59618586 40.58825361 17.99528829\n",
      " 19.92152544 23.65491319 33.48996916]\n"
     ]
    }
   ],
   "source": [
    "boston_x_train, boston_x_test, boston_y_train, boston_y_test = train_test_split(boston_X, boston_Y, test_size=0.1, random_state=4)\n",
    "\n",
    "# 建立模型\n",
    "lr = linear_model.LinearRegression()\n",
    "\n",
    "# 訓練模型\n",
    "lr.fit(boston_x_train, boston_y_train)\n",
    "\n",
    "# 預測測試集\n",
    "boston_y_pred = lr.predict(boston_x_test)\n",
    "\n",
    "print(boston_y_pred)"
   ]
  },
  {
   "cell_type": "code",
   "execution_count": 13,
   "metadata": {},
   "outputs": [],
   "source": [
    "breast_cancer_X = breast_cancer['data']\n",
    "breast_cancer_Y = breast_cancer['target']"
   ]
  },
  {
   "cell_type": "code",
   "execution_count": 14,
   "metadata": {},
   "outputs": [
    {
     "name": "stdout",
     "output_type": "stream",
     "text": [
      "[0 1 0 0 0 0 1 1 0 1 0 1 1 1 1 1 1 1 1 1 1 1 0 1 1 0 1 1 1 1 1 1 1 1 1 0 1\n",
      " 0 0 0 1 1 0 1 1 1 0 0 1 1 0 1 1 0 1 1 0]\n"
     ]
    }
   ],
   "source": [
    "breast_cancer_x_train, breast_cancer_x_test, breast_cancer_y_train, breast_cancer_y_test = train_test_split(breast_cancer_X, breast_cancer_Y, test_size=0.1, random_state=4)\n",
    "\n",
    "# 建立模型\n",
    "logreg = linear_model.LogisticRegression()\n",
    "\n",
    "# 訓練模型\n",
    "logreg.fit(breast_cancer_x_train, breast_cancer_y_train)\n",
    "\n",
    "# 預測測試集\n",
    "breast_cancer_y_pred = logreg.predict(breast_cancer_x_test)\n",
    "\n",
    "print(breast_cancer_y_pred)"
   ]
  },
  {
   "cell_type": "code",
   "execution_count": null,
   "metadata": {
    "collapsed": true
   },
   "outputs": [],
   "source": []
  }
 ],
 "metadata": {
  "kernelspec": {
   "display_name": "Python 3",
   "language": "python",
   "name": "python3"
  },
  "language_info": {
   "codemirror_mode": {
    "name": "ipython",
    "version": 3
   },
   "file_extension": ".py",
   "mimetype": "text/x-python",
   "name": "python",
   "nbconvert_exporter": "python",
   "pygments_lexer": "ipython3",
   "version": "3.6.3"
  }
 },
 "nbformat": 4,
 "nbformat_minor": 2
}
