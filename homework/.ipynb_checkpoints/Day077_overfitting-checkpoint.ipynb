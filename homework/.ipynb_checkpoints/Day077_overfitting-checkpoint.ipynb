{
 "cells": [
  {
   "cell_type": "markdown",
   "metadata": {},
   "source": [
    "## 範例重點\n",
    "* 學會從 Keras 內建函式取得資料\n",
    "* 能夠建立簡易的深度學習模型\n",
    "* 觀察並了解 Overfit 現象"
   ]
  },
  {
   "cell_type": "code",
   "execution_count": 1,
   "metadata": {},
   "outputs": [
    {
     "name": "stderr",
     "output_type": "stream",
     "text": [
      "Using TensorFlow backend.\n"
     ]
    }
   ],
   "source": [
    "import os\n",
    "import keras\n",
    "\n",
    "# 本範例不需使用 GPU, 將 GPU 設定為 \"無\"\n",
    "os.environ[\"CUDA_VISIBLE_DEVICES\"] = \"\""
   ]
  },
  {
   "cell_type": "code",
   "execution_count": 2,
   "metadata": {},
   "outputs": [],
   "source": [
    "# 從 Keras 的內建功能中，取得 train 與 test 資料集\n",
    "train, test = keras.datasets.cifar10.load_data()"
   ]
  },
  {
   "cell_type": "code",
   "execution_count": 3,
   "metadata": {},
   "outputs": [],
   "source": [
    "# 將 X 與 Y 獨立放進變數\n",
    "x_train, y_train = train\n",
    "x_test, y_test = test\n",
    "# 資料前處理 - 標準化\n",
    "x_train = x_train / 255.\n",
    "x_test = x_test / 255.\n",
    "\n",
    "# 將資料從圖形 (RGB) 轉為向量 (Single Vector)\n",
    "x_train = x_train.reshape((len(x_train), -1))\n",
    "x_test = x_test.reshape((len(x_test), -1))\n",
    "\n",
    "# 將目標轉為 one-hot encoding\n",
    "y_train = keras.utils.to_categorical(y_train, num_classes=10)\n",
    "y_test = keras.utils.to_categorical(y_test, num_classes=10)"
   ]
  },
  {
   "cell_type": "code",
   "execution_count": 4,
   "metadata": {},
   "outputs": [],
   "source": [
    "# 建立一個有三層隱藏層之神經網路\n",
    "def build_mlp():\n",
    "    input_layer = keras.layers.Input([x_train.shape[-1]])\n",
    "    x = keras.layers.Dense(units=512, activation=\"relu\")(input_layer)\n",
    "    x = keras.layers.Dense(units=256, activation=\"relu\")(x)\n",
    "    x = keras.layers.Dense(units=128, activation=\"relu\")(x)\n",
    "    out = keras.layers.Dense(units=10, activation=\"softmax\")(x)\n",
    "    \n",
    "    model = keras.models.Model(inputs=[input_layer], outputs=[out])\n",
    "    return model"
   ]
  },
  {
   "cell_type": "code",
   "execution_count": 5,
   "metadata": {},
   "outputs": [
    {
     "name": "stdout",
     "output_type": "stream",
     "text": [
      "WARNING:tensorflow:From C:\\Users\\KenChen\\AppData\\Local\\Continuum\\anaconda3\\lib\\site-packages\\tensorflow\\python\\framework\\op_def_library.py:263: colocate_with (from tensorflow.python.framework.ops) is deprecated and will be removed in a future version.\n",
      "Instructions for updating:\n",
      "Colocations handled automatically by placer.\n",
      "_________________________________________________________________\n",
      "Layer (type)                 Output Shape              Param #   \n",
      "=================================================================\n",
      "input_1 (InputLayer)         (None, 3072)              0         \n",
      "_________________________________________________________________\n",
      "dense_1 (Dense)              (None, 512)               1573376   \n",
      "_________________________________________________________________\n",
      "dense_2 (Dense)              (None, 256)               131328    \n",
      "_________________________________________________________________\n",
      "dense_3 (Dense)              (None, 128)               32896     \n",
      "_________________________________________________________________\n",
      "dense_4 (Dense)              (None, 10)                1290      \n",
      "=================================================================\n",
      "Total params: 1,738,890\n",
      "Trainable params: 1,738,890\n",
      "Non-trainable params: 0\n",
      "_________________________________________________________________\n"
     ]
    }
   ],
   "source": [
    "model = build_mlp()\n",
    "# 用 Keras 內建方法檢視模型各層參數量\n",
    "model.summary()\n",
    "\n",
    "optimizer = keras.optimizers.Adam(lr=0.001)\n",
    "model.compile(loss=\"categorical_crossentropy\", metrics=[\"accuracy\"], optimizer=optimizer)"
   ]
  },
  {
   "cell_type": "code",
   "execution_count": null,
   "metadata": {},
   "outputs": [
    {
     "name": "stdout",
     "output_type": "stream",
     "text": [
      "WARNING:tensorflow:From C:\\Users\\KenChen\\AppData\\Local\\Continuum\\anaconda3\\lib\\site-packages\\tensorflow\\python\\ops\\math_ops.py:3066: to_int32 (from tensorflow.python.ops.math_ops) is deprecated and will be removed in a future version.\n",
      "Instructions for updating:\n",
      "Use tf.cast instead.\n",
      "Train on 50000 samples, validate on 10000 samples\n",
      "Epoch 1/100\n",
      "50000/50000 [==============================] - 18s 368us/step - loss: 1.9238 - acc: 0.3108 - val_loss: 1.7963 - val_acc: 0.3479\n",
      "Epoch 2/100\n",
      "50000/50000 [==============================] - 16s 322us/step - loss: 1.7167 - acc: 0.3852 - val_loss: 1.6778 - val_acc: 0.4002\n",
      "Epoch 3/100\n",
      "50000/50000 [==============================] - 17s 342us/step - loss: 1.6147 - acc: 0.4256 - val_loss: 1.5746 - val_acc: 0.4417\n",
      "Epoch 4/100\n",
      "50000/50000 [==============================] - 16s 313us/step - loss: 1.5487 - acc: 0.4467 - val_loss: 1.5729 - val_acc: 0.4377\n",
      "Epoch 5/100\n",
      "50000/50000 [==============================] - 15s 290us/step - loss: 1.5047 - acc: 0.4642 - val_loss: 1.4944 - val_acc: 0.4684\n",
      "Epoch 6/100\n",
      "50000/50000 [==============================] - 16s 326us/step - loss: 1.4700 - acc: 0.4752 - val_loss: 1.5290 - val_acc: 0.4488\n",
      "Epoch 7/100\n",
      "50000/50000 [==============================] - 15s 307us/step - loss: 1.4324 - acc: 0.4914 - val_loss: 1.4918 - val_acc: 0.4659\n",
      "Epoch 8/100\n",
      "50000/50000 [==============================] - 14s 286us/step - loss: 1.4152 - acc: 0.4931 - val_loss: 1.4480 - val_acc: 0.4876\n",
      "Epoch 9/100\n",
      "50000/50000 [==============================] - 15s 295us/step - loss: 1.3778 - acc: 0.5082 - val_loss: 1.4361 - val_acc: 0.4989\n",
      "Epoch 10/100\n",
      "50000/50000 [==============================] - 16s 321us/step - loss: 1.3445 - acc: 0.5211 - val_loss: 1.4359 - val_acc: 0.4891\n",
      "Epoch 11/100\n",
      "50000/50000 [==============================] - 15s 299us/step - loss: 1.3210 - acc: 0.5302 - val_loss: 1.4227 - val_acc: 0.4915\n",
      "Epoch 12/100\n",
      "50000/50000 [==============================] - 14s 283us/step - loss: 1.3032 - acc: 0.5374 - val_loss: 1.3919 - val_acc: 0.5095\n",
      "Epoch 13/100\n",
      "50000/50000 [==============================] - 16s 324us/step - loss: 1.2682 - acc: 0.5486 - val_loss: 1.3875 - val_acc: 0.5109\n",
      "Epoch 14/100\n",
      "50000/50000 [==============================] - 15s 303us/step - loss: 1.2451 - acc: 0.5560 - val_loss: 1.4161 - val_acc: 0.5063\n",
      "Epoch 15/100\n",
      "50000/50000 [==============================] - 17s 338us/step - loss: 1.2205 - acc: 0.5658 - val_loss: 1.3830 - val_acc: 0.5105\n",
      "Epoch 16/100\n",
      "50000/50000 [==============================] - 15s 300us/step - loss: 1.2029 - acc: 0.5716 - val_loss: 1.4067 - val_acc: 0.5030\n",
      "Epoch 17/100\n",
      "50000/50000 [==============================] - 16s 322us/step - loss: 1.1811 - acc: 0.5778 - val_loss: 1.4162 - val_acc: 0.4984\n",
      "Epoch 18/100\n",
      "50000/50000 [==============================] - 17s 341us/step - loss: 1.1578 - acc: 0.5843 - val_loss: 1.4425 - val_acc: 0.5082\n",
      "Epoch 19/100\n",
      "39680/50000 [======================>.......] - ETA: 3s - loss: 1.1334 - acc: 0.595"
     ]
    }
   ],
   "source": [
    "# 訓練模型並檢視驗證集的結果\n",
    "model.fit(x_train, y_train, \n",
    "          epochs=100, \n",
    "          batch_size=256, \n",
    "          validation_data=(x_test, y_test), \n",
    "          shuffle=True)"
   ]
  },
  {
   "cell_type": "code",
   "execution_count": 9,
   "metadata": {},
   "outputs": [
    {
     "data": {
      "image/png": "[encoded data removed]",
      "text/plain": [
       "<Figure size 432x288 with 1 Axes>"
      ]
     },
     "metadata": {},
     "output_type": "display_data"
    },
    {
     "data": {
      "image/png": "[encoded data removed]",
      "text/plain": [
       "<Figure size 432x288 with 1 Axes>"
      ]
     },
     "metadata": {},
     "output_type": "display_data"
    }
   ],
   "source": [
    "# 以視覺畫方式檢視訓練過程\n",
    "import matplotlib.pyplot as plt\n",
    "train_loss = model.history.history[\"loss\"]\n",
    "valid_loss = model.history.history[\"val_loss\"]\n",
    "\n",
    "train_acc = model.history.history[\"acc\"]\n",
    "valid_acc = model.history.history[\"val_acc\"]\n",
    "\n",
    "plt.plot(range(len(train_loss)), train_loss, label=\"train loss\")\n",
    "plt.plot(range(len(valid_loss)), valid_loss, label=\"valid loss\")\n",
    "plt.legend()\n",
    "plt.title(\"Loss\")\n",
    "plt.show()\n",
    "\n",
    "plt.plot(range(len(train_acc)), train_acc, label=\"train accuracy\")\n",
    "plt.plot(range(len(valid_acc)), valid_acc, label=\"valid accuracy\")\n",
    "plt.legend()\n",
    "plt.title(\"Accuracy\")\n",
    "plt.show()"
   ]
  },
  {
   "cell_type": "markdown",
   "metadata": {},
   "source": [
    "## 作業\n",
    "1. 請將 Epoch 加到 500 個，並觀察 learning curve 的走勢\n",
    "2. 請將 Optimizer 換成 SGD，並觀察 learning curve 的走勢"
   ]
  }
 ],
 "metadata": {
  "kernelspec": {
   "display_name": "Python 3",
   "language": "python",
   "name": "python3"
  },
  "language_info": {
   "codemirror_mode": {
    "name": "ipython",
    "version": 3
   },
   "file_extension": ".py",
   "mimetype": "text/x-python",
   "name": "python",
   "nbconvert_exporter": "python",
   "pygments_lexer": "ipython3",
   "version": "3.7.3"
  }
 },
 "nbformat": 4,
 "nbformat_minor": 2
}
