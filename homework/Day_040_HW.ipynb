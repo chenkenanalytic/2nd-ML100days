{
 "cells": [
  {
   "cell_type": "markdown",
   "metadata": {},
   "source": [
    "## [作業重點]\n",
    "使用 Sklearn 中的 Lasso, Ridge 模型，來訓練各種資料集，務必了解送進去模型訓練的**資料型態**為何，也請了解模型中各項參數的意義。\n",
    "\n",
    "機器學習的模型非常多種，但要訓練的資料多半有固定的格式，確保你了解訓練資料的格式為何，這樣在應用新模型時，就能夠最快的上手開始訓練！"
   ]
  },
  {
   "cell_type": "markdown",
   "metadata": {},
   "source": [
    "## 練習時間\n",
    "試著使用 sklearn datasets 的其他資料集 (boston, ...)，來訓練自己的線性迴歸模型，並加上適當的正則話來觀察訓練情形。"
   ]
  },
  {
   "cell_type": "code",
   "execution_count": 1,
   "metadata": {
    "collapsed": true
   },
   "outputs": [],
   "source": [
    "import numpy as np\n",
    "import matplotlib.pyplot as plt\n",
    "from sklearn import datasets, linear_model\n",
    "from sklearn.model_selection import train_test_split\n",
    "from sklearn.metrics import mean_squared_error, r2_score"
   ]
  },
  {
   "cell_type": "code",
   "execution_count": 2,
   "metadata": {
    "collapsed": true
   },
   "outputs": [],
   "source": [
    "boston = datasets.load_boston()"
   ]
  },
  {
   "cell_type": "code",
   "execution_count": 4,
   "metadata": {},
   "outputs": [],
   "source": [
    "boston_X = boston['data']\n",
    "boston_Y = boston['target']\n",
    "boston_x_train, boston_x_test, boston_y_train, boston_y_test = train_test_split(boston_X, boston_Y, test_size=0.1, random_state=4)"
   ]
  },
  {
   "cell_type": "code",
   "execution_count": 6,
   "metadata": {},
   "outputs": [
    {
     "name": "stdout",
     "output_type": "stream",
     "text": [
      "[-1.24793110e-01  4.83961673e-02  1.88111508e-02  3.08800922e+00\n",
      " -1.73655165e+01  3.60982405e+00  2.27233321e-03 -1.49381500e+00\n",
      "  3.19455416e-01 -1.27236845e-02 -9.28369630e-01  9.60925451e-03\n",
      " -5.34508193e-01]\n",
      "Mean squared error: 17.03\n"
     ]
    }
   ],
   "source": [
    "# 建立模型\n",
    "lr = linear_model.LinearRegression()\n",
    "\n",
    "# 訓練模型\n",
    "lr.fit(boston_x_train, boston_y_train)\n",
    "\n",
    "# 預測測試集\n",
    "boston_y_pred = lr.predict(boston_x_test)\n",
    "\n",
    "print(lr.coef_)\n",
    "print(\"Mean squared error: %.2f\" % mean_squared_error(boston_y_test, boston_y_pred))"
   ]
  },
  {
   "cell_type": "code",
   "execution_count": 11,
   "metadata": {},
   "outputs": [
    {
     "name": "stdout",
     "output_type": "stream",
     "text": [
      "[-1.24213728e-01  4.85666495e-02  1.39415979e-02  3.06255833e+00\n",
      " -1.61907863e+01  3.61960624e+00  1.18592552e-03 -1.47707444e+00\n",
      "  3.16498163e-01 -1.27991909e-02 -9.16087572e-01  9.66690828e-03\n",
      " -5.35993678e-01]\n",
      "Mean squared error: 17.06\n"
     ]
    }
   ],
   "source": [
    "# 建立模型\n",
    "ridge = linear_model.Ridge(alpha = 0.1)\n",
    "\n",
    "# 訓練模型\n",
    "ridge.fit(boston_x_train, boston_y_train)\n",
    "\n",
    "# 預測測試集\n",
    "boston_y_pred = ridge.predict(boston_x_test)\n",
    "\n",
    "print(ridge.coef_)\n",
    "print(\"Mean squared error: %.2f\" % mean_squared_error(boston_y_test, boston_y_pred))"
   ]
  },
  {
   "cell_type": "code",
   "execution_count": 17,
   "metadata": {},
   "outputs": [
    {
     "name": "stdout",
     "output_type": "stream",
     "text": [
      "[-1.24608437e-01  4.84430349e-02  1.74242154e-02  3.06770561e+00\n",
      " -1.70249289e+01  3.61068049e+00  1.99453904e-03 -1.48863671e+00\n",
      "  3.18635656e-01 -1.27479297e-02 -9.24868599e-01  9.62578785e-03\n",
      " -5.35124906e-01]\n",
      "Mean squared error: 17.03\n"
     ]
    }
   ],
   "source": [
    "# 建立模型\n",
    "lasso = linear_model.Lasso(alpha = 0.001)\n",
    "\n",
    "# 訓練模型\n",
    "lasso.fit(boston_x_train, boston_y_train)\n",
    "\n",
    "# 預測測試集\n",
    "boston_y_pred = lasso.predict(boston_x_test)\n",
    "\n",
    "print(lasso.coef_)\n",
    "print(\"Mean squared error: %.2f\" % mean_squared_error(boston_y_test, boston_y_pred))"
   ]
  },
  {
   "cell_type": "code",
   "execution_count": null,
   "metadata": {
    "collapsed": true
   },
   "outputs": [],
   "source": []
  }
 ],
 "metadata": {
  "kernelspec": {
   "display_name": "Python 3",
   "language": "python",
   "name": "python3"
  },
  "language_info": {
   "codemirror_mode": {
    "name": "ipython",
    "version": 3
   },
   "file_extension": ".py",
   "mimetype": "text/x-python",
   "name": "python",
   "nbconvert_exporter": "python",
   "pygments_lexer": "ipython3",
   "version": "3.6.3"
  }
 },
 "nbformat": 4,
 "nbformat_minor": 2
}
