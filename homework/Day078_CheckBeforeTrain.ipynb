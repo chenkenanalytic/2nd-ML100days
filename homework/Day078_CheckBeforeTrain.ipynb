{
 "cells": [
  {
   "cell_type": "markdown",
   "metadata": {},
   "source": [
    "## 範例重點\n",
    "### 學習在模型開始前檢查各個環節\n",
    "1. 是否有 GPU 資源\n",
    "2. 將前處理轉為函式，統一處理訓練、驗證與測試集\n",
    "3. 將超參數變數化，易於重複使用函式、模型等"
   ]
  },
  {
   "cell_type": "code",
   "execution_count": 1,
   "metadata": {},
   "outputs": [
    {
     "name": "stderr",
     "output_type": "stream",
     "text": [
      "'nvidia-smi' 不是內部或外部命令、可執行的程式或批次檔。\n"
     ]
    }
   ],
   "source": [
    "## 確認硬體資源 (如果你是在 Linux, 若是在 Windows, 請參考 https://blog.csdn.net/idwtwt/article/details/78017565)\n",
    "!nvidia-smi"
   ]
  },
  {
   "cell_type": "code",
   "execution_count": 2,
   "metadata": {},
   "outputs": [
    {
     "name": "stderr",
     "output_type": "stream",
     "text": [
      "Using TensorFlow backend.\n"
     ]
    }
   ],
   "source": [
    "import os\n",
    "import keras\n",
    "\n",
    "# 本範例不需使用 GPU, 將 GPU 設定為 \"無\"\n",
    "os.environ[\"CUDA_VISIBLE_DEVICES\"] = \"\""
   ]
  },
  {
   "cell_type": "code",
   "execution_count": 3,
   "metadata": {},
   "outputs": [],
   "source": [
    "# 從 Keras 的內建功能中，取得 train 與 test 資料集\n",
    "train, test = keras.datasets.cifar10.load_data()"
   ]
  },
  {
   "cell_type": "code",
   "execution_count": 4,
   "metadata": {},
   "outputs": [],
   "source": [
    "## 資料前處理\n",
    "import numpy as np\n",
    "\n",
    "def preproc_x(x, flatten=True):\n",
    "    x = np.cos(x)\n",
    "    if flatten:\n",
    "        x = x.reshape((len(x), -1))\n",
    "    return x\n",
    "\n",
    "def preproc_y(y, num_classes=10):\n",
    "    if y.shape[-1] == 1:\n",
    "        y = keras.utils.to_categorical(y, num_classes)\n",
    "    return y    "
   ]
  },
  {
   "cell_type": "code",
   "execution_count": 5,
   "metadata": {},
   "outputs": [],
   "source": [
    "x_train, y_train = train\n",
    "x_test, y_test = test\n",
    "\n",
    "# 資料前處理 - X 標準化\n",
    "x_train = preproc_x(x_train)\n",
    "x_test = preproc_x(x_test)\n",
    "\n",
    "# 資料前處理 -Y 轉成 onehot\n",
    "y_train = preproc_y(y_train)\n",
    "y_test = preproc_y(y_test)"
   ]
  },
  {
   "cell_type": "code",
   "execution_count": 6,
   "metadata": {},
   "outputs": [],
   "source": [
    "def build_mlp(input_shape, output_units=10, num_neurons=[512, 256, 128]):\n",
    "    input_layer = keras.layers.Input(input_shape)\n",
    "    \n",
    "    for i, n_units in enumerate(num_neurons):\n",
    "        if i == 0:\n",
    "            x = keras.layers.Dense(units=n_units, activation=\"relu\", name=\"hidden_layer\"+str(i+1))(input_layer)\n",
    "        else:\n",
    "            x = keras.layers.Dense(units=n_units, activation=\"relu\", name=\"hidden_layer\"+str(i+1))(x)\n",
    "    \n",
    "    out = keras.layers.Dense(units=output_units, activation=\"softmax\", name=\"output\")(x)\n",
    "    \n",
    "    model = keras.models.Model(inputs=[input_layer], outputs=[out])\n",
    "    return model"
   ]
  },
  {
   "cell_type": "code",
   "execution_count": 7,
   "metadata": {},
   "outputs": [
    {
     "name": "stdout",
     "output_type": "stream",
     "text": [
      "WARNING:tensorflow:From C:\\Users\\KenChen\\AppData\\Local\\Continuum\\anaconda3\\lib\\site-packages\\tensorflow\\python\\framework\\op_def_library.py:263: colocate_with (from tensorflow.python.framework.ops) is deprecated and will be removed in a future version.\n",
      "Instructions for updating:\n",
      "Colocations handled automatically by placer.\n",
      "_________________________________________________________________\n",
      "Layer (type)                 Output Shape              Param #   \n",
      "=================================================================\n",
      "input_1 (InputLayer)         (None, 3072)              0         \n",
      "_________________________________________________________________\n",
      "hidden_layer1 (Dense)        (None, 512)               1573376   \n",
      "_________________________________________________________________\n",
      "hidden_layer2 (Dense)        (None, 256)               131328    \n",
      "_________________________________________________________________\n",
      "hidden_layer3 (Dense)        (None, 128)               32896     \n",
      "_________________________________________________________________\n",
      "output (Dense)               (None, 10)                1290      \n",
      "=================================================================\n",
      "Total params: 1,738,890\n",
      "Trainable params: 1,738,890\n",
      "Non-trainable params: 0\n",
      "_________________________________________________________________\n"
     ]
    }
   ],
   "source": [
    "model = build_mlp(input_shape=x_train.shape[1:])\n",
    "model.summary()"
   ]
  },
  {
   "cell_type": "code",
   "execution_count": 8,
   "metadata": {},
   "outputs": [],
   "source": [
    "## 超參數設定\n",
    "LEARNING_RATE = 0.001\n",
    "EPOCHS = 100\n",
    "BATCH_SIZE = 256"
   ]
  },
  {
   "cell_type": "code",
   "execution_count": 9,
   "metadata": {},
   "outputs": [],
   "source": [
    "optimizer = keras.optimizers.Adam(lr=LEARNING_RATE)\n",
    "model.compile(loss=\"categorical_crossentropy\", metrics=[\"accuracy\"], optimizer=optimizer)"
   ]
  },
  {
   "cell_type": "code",
   "execution_count": 10,
   "metadata": {},
   "outputs": [
    {
     "name": "stdout",
     "output_type": "stream",
     "text": [
      "WARNING:tensorflow:From C:\\Users\\KenChen\\AppData\\Local\\Continuum\\anaconda3\\lib\\site-packages\\tensorflow\\python\\ops\\math_ops.py:3066: to_int32 (from tensorflow.python.ops.math_ops) is deprecated and will be removed in a future version.\n",
      "Instructions for updating:\n",
      "Use tf.cast instead.\n",
      "Train on 50000 samples, validate on 10000 samples\n",
      "Epoch 1/100\n",
      "50000/50000 [==============================] - 14s 285us/step - loss: 1.9438 - acc: 0.3024 - val_loss: 1.7606 - val_acc: 0.3652\n",
      "Epoch 2/100\n",
      "50000/50000 [==============================] - 15s 296us/step - loss: 1.7096 - acc: 0.3870 - val_loss: 1.6403 - val_acc: 0.4120\n",
      "Epoch 3/100\n",
      "50000/50000 [==============================] - 16s 322us/step - loss: 1.6282 - acc: 0.4192 - val_loss: 1.5711 - val_acc: 0.4435\n",
      "Epoch 4/100\n",
      "50000/50000 [==============================] - 16s 312us/step - loss: 1.5612 - acc: 0.4425 - val_loss: 1.5284 - val_acc: 0.4506\n",
      "Epoch 5/100\n",
      "50000/50000 [==============================] - 15s 293us/step - loss: 1.5135 - acc: 0.4600 - val_loss: 1.5617 - val_acc: 0.4356\n",
      "Epoch 6/100\n",
      "50000/50000 [==============================] - 13s 268us/step - loss: 1.4803 - acc: 0.4706 - val_loss: 1.5613 - val_acc: 0.4454\n",
      "Epoch 7/100\n",
      "50000/50000 [==============================] - 14s 275us/step - loss: 1.4346 - acc: 0.4885 - val_loss: 1.4774 - val_acc: 0.4760\n",
      "Epoch 8/100\n",
      "50000/50000 [==============================] - 13s 267us/step - loss: 1.4167 - acc: 0.4945 - val_loss: 1.4577 - val_acc: 0.4815\n",
      "Epoch 9/100\n",
      "50000/50000 [==============================] - 15s 304us/step - loss: 1.3820 - acc: 0.5078 - val_loss: 1.4413 - val_acc: 0.4926\n",
      "Epoch 10/100\n",
      "50000/50000 [==============================] - 13s 263us/step - loss: 1.3652 - acc: 0.5105 - val_loss: 1.4240 - val_acc: 0.4953\n",
      "Epoch 11/100\n",
      "50000/50000 [==============================] - 13s 254us/step - loss: 1.3284 - acc: 0.5264 - val_loss: 1.4730 - val_acc: 0.4781\n",
      "Epoch 12/100\n",
      "50000/50000 [==============================] - 13s 251us/step - loss: 1.3089 - acc: 0.5343 - val_loss: 1.3985 - val_acc: 0.5053\n",
      "Epoch 13/100\n",
      "50000/50000 [==============================] - 15s 307us/step - loss: 1.2882 - acc: 0.5426 - val_loss: 1.3856 - val_acc: 0.5093\n",
      "Epoch 14/100\n",
      "50000/50000 [==============================] - 16s 329us/step - loss: 1.2672 - acc: 0.5496 - val_loss: 1.4138 - val_acc: 0.5043\n",
      "Epoch 15/100\n",
      "50000/50000 [==============================] - 15s 300us/step - loss: 1.2438 - acc: 0.5576 - val_loss: 1.4354 - val_acc: 0.4977\n",
      "Epoch 16/100\n",
      "50000/50000 [==============================] - 14s 287us/step - loss: 1.2123 - acc: 0.5696 - val_loss: 1.4299 - val_acc: 0.5008\n",
      "Epoch 17/100\n",
      "50000/50000 [==============================] - 15s 305us/step - loss: 1.1937 - acc: 0.5751 - val_loss: 1.3815 - val_acc: 0.5130\n",
      "Epoch 18/100\n",
      "50000/50000 [==============================] - 14s 276us/step - loss: 1.1755 - acc: 0.5822 - val_loss: 1.3693 - val_acc: 0.5266\n",
      "Epoch 19/100\n",
      "50000/50000 [==============================] - 15s 295us/step - loss: 1.1551 - acc: 0.5882 - val_loss: 1.3978 - val_acc: 0.5117\n",
      "Epoch 20/100\n",
      "50000/50000 [==============================] - 13s 254us/step - loss: 1.1343 - acc: 0.5956 - val_loss: 1.3624 - val_acc: 0.5219\n",
      "Epoch 21/100\n",
      "50000/50000 [==============================] - 13s 262us/step - loss: 1.1166 - acc: 0.6022 - val_loss: 1.3865 - val_acc: 0.5153\n",
      "Epoch 22/100\n",
      "50000/50000 [==============================] - 14s 280us/step - loss: 1.0985 - acc: 0.6106 - val_loss: 1.4047 - val_acc: 0.5139\n",
      "Epoch 23/100\n",
      "50000/50000 [==============================] - 16s 326us/step - loss: 1.0675 - acc: 0.6193 - val_loss: 1.3771 - val_acc: 0.5256\n",
      "Epoch 24/100\n",
      "50000/50000 [==============================] - 16s 322us/step - loss: 1.0569 - acc: 0.6243 - val_loss: 1.3809 - val_acc: 0.5267\n",
      "Epoch 25/100\n",
      "50000/50000 [==============================] - 14s 288us/step - loss: 1.0374 - acc: 0.6305 - val_loss: 1.4395 - val_acc: 0.5151\n",
      "Epoch 26/100\n",
      "50000/50000 [==============================] - 15s 290us/step - loss: 1.0281 - acc: 0.6311 - val_loss: 1.4066 - val_acc: 0.5212\n",
      "Epoch 27/100\n",
      "50000/50000 [==============================] - 13s 266us/step - loss: 0.9999 - acc: 0.6430 - val_loss: 1.3855 - val_acc: 0.5268\n",
      "Epoch 28/100\n",
      "50000/50000 [==============================] - 13s 258us/step - loss: 0.9844 - acc: 0.6482 - val_loss: 1.4083 - val_acc: 0.5278\n",
      "Epoch 29/100\n",
      "50000/50000 [==============================] - 13s 258us/step - loss: 0.9640 - acc: 0.6563 - val_loss: 1.4346 - val_acc: 0.5260\n",
      "Epoch 30/100\n",
      "50000/50000 [==============================] - 13s 255us/step - loss: 0.9455 - acc: 0.6638 - val_loss: 1.4294 - val_acc: 0.5264\n",
      "Epoch 31/100\n",
      "50000/50000 [==============================] - 13s 260us/step - loss: 0.9323 - acc: 0.6685 - val_loss: 1.4548 - val_acc: 0.5257\n",
      "Epoch 32/100\n",
      "50000/50000 [==============================] - 13s 258us/step - loss: 0.9213 - acc: 0.6712 - val_loss: 1.4448 - val_acc: 0.5292\n",
      "Epoch 33/100\n",
      "50000/50000 [==============================] - 12s 249us/step - loss: 0.8968 - acc: 0.6804 - val_loss: 1.4700 - val_acc: 0.5289\n",
      "Epoch 34/100\n",
      "50000/50000 [==============================] - 14s 273us/step - loss: 0.8911 - acc: 0.6820 - val_loss: 1.5231 - val_acc: 0.5175\n",
      "Epoch 35/100\n",
      "50000/50000 [==============================] - 13s 262us/step - loss: 0.8708 - acc: 0.6897 - val_loss: 1.5145 - val_acc: 0.5182\n",
      "Epoch 36/100\n",
      "50000/50000 [==============================] - 16s 318us/step - loss: 0.8510 - acc: 0.6980 - val_loss: 1.5074 - val_acc: 0.5276\n",
      "Epoch 37/100\n",
      "50000/50000 [==============================] - 15s 309us/step - loss: 0.8294 - acc: 0.7049 - val_loss: 1.5261 - val_acc: 0.5231\n",
      "Epoch 38/100\n",
      "50000/50000 [==============================] - 14s 278us/step - loss: 0.8274 - acc: 0.7065 - val_loss: 1.5493 - val_acc: 0.5180\n",
      "Epoch 39/100\n",
      "50000/50000 [==============================] - 16s 316us/step - loss: 0.7993 - acc: 0.7174 - val_loss: 1.5946 - val_acc: 0.5136\n",
      "Epoch 40/100\n",
      "50000/50000 [==============================] - 17s 335us/step - loss: 0.8000 - acc: 0.7164 - val_loss: 1.6657 - val_acc: 0.5156\n",
      "Epoch 41/100\n",
      "50000/50000 [==============================] - 14s 287us/step - loss: 0.7704 - acc: 0.7246 - val_loss: 1.6132 - val_acc: 0.5208\n",
      "Epoch 42/100\n",
      "50000/50000 [==============================] - 15s 305us/step - loss: 0.7622 - acc: 0.7271 - val_loss: 1.5999 - val_acc: 0.5213\n",
      "Epoch 43/100\n",
      "50000/50000 [==============================] - 15s 308us/step - loss: 0.7378 - acc: 0.7381 - val_loss: 1.5962 - val_acc: 0.5242\n",
      "Epoch 44/100\n",
      "50000/50000 [==============================] - 15s 300us/step - loss: 0.7380 - acc: 0.7347 - val_loss: 1.6756 - val_acc: 0.5194\n",
      "Epoch 45/100\n",
      "50000/50000 [==============================] - 16s 322us/step - loss: 0.7306 - acc: 0.7392 - val_loss: 1.6980 - val_acc: 0.5217\n",
      "Epoch 46/100\n",
      "50000/50000 [==============================] - 16s 318us/step - loss: 0.6969 - acc: 0.7537 - val_loss: 1.7054 - val_acc: 0.5171\n",
      "Epoch 47/100\n",
      "50000/50000 [==============================] - 14s 289us/step - loss: 0.6887 - acc: 0.7544 - val_loss: 1.7290 - val_acc: 0.5209\n",
      "Epoch 48/100\n",
      "50000/50000 [==============================] - 14s 276us/step - loss: 0.6846 - acc: 0.7527 - val_loss: 1.6923 - val_acc: 0.5230\n",
      "Epoch 49/100\n",
      "50000/50000 [==============================] - 23s 468us/step - loss: 0.6574 - acc: 0.7636 - val_loss: 1.7683 - val_acc: 0.5184\n",
      "Epoch 50/100\n",
      "50000/50000 [==============================] - 25s 509us/step - loss: 0.6636 - acc: 0.7613 - val_loss: 1.8395 - val_acc: 0.5085\n",
      "Epoch 51/100\n",
      "50000/50000 [==============================] - 24s 475us/step - loss: 0.6393 - acc: 0.7730 - val_loss: 1.7842 - val_acc: 0.5237\n",
      "Epoch 52/100\n",
      "50000/50000 [==============================] - 24s 482us/step - loss: 0.6186 - acc: 0.7784 - val_loss: 1.9219 - val_acc: 0.5158\n",
      "Epoch 53/100\n",
      "50000/50000 [==============================] - 24s 476us/step - loss: 0.6145 - acc: 0.7795 - val_loss: 1.8876 - val_acc: 0.5033\n",
      "Epoch 54/100\n",
      "50000/50000 [==============================] - 24s 483us/step - loss: 0.6015 - acc: 0.7855 - val_loss: 1.8915 - val_acc: 0.5122\n",
      "Epoch 55/100\n",
      "50000/50000 [==============================] - 24s 478us/step - loss: 0.5924 - acc: 0.7872 - val_loss: 1.9143 - val_acc: 0.5114\n",
      "Epoch 56/100\n",
      "50000/50000 [==============================] - 24s 470us/step - loss: 0.5813 - acc: 0.7914 - val_loss: 1.9903 - val_acc: 0.5094\n"
     ]
    },
    {
     "name": "stdout",
     "output_type": "stream",
     "text": [
      "Epoch 57/100\n",
      "50000/50000 [==============================] - 23s 460us/step - loss: 0.5733 - acc: 0.7938 - val_loss: 1.9510 - val_acc: 0.5115\n",
      "Epoch 58/100\n",
      "50000/50000 [==============================] - 23s 460us/step - loss: 0.5559 - acc: 0.7984 - val_loss: 1.9926 - val_acc: 0.5047\n",
      "Epoch 59/100\n",
      "50000/50000 [==============================] - 24s 487us/step - loss: 0.5499 - acc: 0.8014 - val_loss: 2.0775 - val_acc: 0.5094\n",
      "Epoch 60/100\n",
      "50000/50000 [==============================] - 25s 502us/step - loss: 0.5389 - acc: 0.8078 - val_loss: 2.0576 - val_acc: 0.5085\n",
      "Epoch 61/100\n",
      "50000/50000 [==============================] - 25s 494us/step - loss: 0.5360 - acc: 0.8059 - val_loss: 1.9950 - val_acc: 0.5116\n",
      "Epoch 62/100\n",
      "50000/50000 [==============================] - 24s 474us/step - loss: 0.5157 - acc: 0.8153 - val_loss: 2.1445 - val_acc: 0.5061\n",
      "Epoch 63/100\n",
      "50000/50000 [==============================] - 24s 479us/step - loss: 0.5150 - acc: 0.8150 - val_loss: 2.1006 - val_acc: 0.5129\n",
      "Epoch 64/100\n",
      "50000/50000 [==============================] - 24s 479us/step - loss: 0.5103 - acc: 0.8180 - val_loss: 2.1598 - val_acc: 0.5061\n",
      "Epoch 65/100\n",
      "50000/50000 [==============================] - 24s 479us/step - loss: 0.4968 - acc: 0.8194 - val_loss: 2.1501 - val_acc: 0.5154\n",
      "Epoch 66/100\n",
      "50000/50000 [==============================] - 16s 310us/step - loss: 0.4827 - acc: 0.8256 - val_loss: 2.2060 - val_acc: 0.5096\n",
      "Epoch 67/100\n",
      "50000/50000 [==============================] - 15s 306us/step - loss: 0.4769 - acc: 0.8282 - val_loss: 2.2475 - val_acc: 0.5087\n",
      "Epoch 68/100\n",
      "50000/50000 [==============================] - 13s 254us/step - loss: 0.4674 - acc: 0.8335 - val_loss: 2.3566 - val_acc: 0.5055\n",
      "Epoch 69/100\n",
      "50000/50000 [==============================] - 14s 279us/step - loss: 0.4579 - acc: 0.8361 - val_loss: 2.3215 - val_acc: 0.5006\n",
      "Epoch 70/100\n",
      "50000/50000 [==============================] - 14s 284us/step - loss: 0.4554 - acc: 0.8368 - val_loss: 2.2800 - val_acc: 0.5082\n",
      "Epoch 71/100\n",
      "50000/50000 [==============================] - 12s 244us/step - loss: 0.4407 - acc: 0.8435 - val_loss: 2.3483 - val_acc: 0.5069\n",
      "Epoch 72/100\n",
      "50000/50000 [==============================] - 14s 273us/step - loss: 0.4293 - acc: 0.8467 - val_loss: 2.4529 - val_acc: 0.4984\n",
      "Epoch 73/100\n",
      "50000/50000 [==============================] - 12s 246us/step - loss: 0.4391 - acc: 0.8425 - val_loss: 2.4863 - val_acc: 0.4995\n",
      "Epoch 74/100\n",
      "50000/50000 [==============================] - 12s 248us/step - loss: 0.4093 - acc: 0.8536 - val_loss: 2.4531 - val_acc: 0.4944\n",
      "Epoch 75/100\n",
      "50000/50000 [==============================] - 13s 262us/step - loss: 0.4243 - acc: 0.8480 - val_loss: 2.4240 - val_acc: 0.5052\n",
      "Epoch 76/100\n",
      "50000/50000 [==============================] - 15s 294us/step - loss: 0.4123 - acc: 0.8495 - val_loss: 2.4787 - val_acc: 0.5064\n",
      "Epoch 77/100\n",
      "50000/50000 [==============================] - 13s 259us/step - loss: 0.4154 - acc: 0.8490 - val_loss: 2.5261 - val_acc: 0.5049\n",
      "Epoch 78/100\n",
      "50000/50000 [==============================] - 12s 239us/step - loss: 0.4007 - acc: 0.8559 - val_loss: 2.5421 - val_acc: 0.5018\n",
      "Epoch 79/100\n",
      "50000/50000 [==============================] - 13s 252us/step - loss: 0.3943 - acc: 0.8572 - val_loss: 2.5493 - val_acc: 0.5023\n",
      "Epoch 80/100\n",
      "50000/50000 [==============================] - 13s 258us/step - loss: 0.3776 - acc: 0.8636 - val_loss: 2.5873 - val_acc: 0.5072\n",
      "Epoch 81/100\n",
      "50000/50000 [==============================] - 12s 239us/step - loss: 0.3893 - acc: 0.8600 - val_loss: 2.6029 - val_acc: 0.5043\n",
      "Epoch 82/100\n",
      "50000/50000 [==============================] - 13s 266us/step - loss: 0.3835 - acc: 0.8633 - val_loss: 2.6520 - val_acc: 0.5017\n",
      "Epoch 83/100\n",
      "50000/50000 [==============================] - 15s 305us/step - loss: 0.3618 - acc: 0.8698 - val_loss: 2.6419 - val_acc: 0.5013\n",
      "Epoch 84/100\n",
      "50000/50000 [==============================] - 14s 270us/step - loss: 0.3421 - acc: 0.8769 - val_loss: 2.7395 - val_acc: 0.5109\n",
      "Epoch 85/100\n",
      "50000/50000 [==============================] - 15s 294us/step - loss: 0.3363 - acc: 0.8804 - val_loss: 2.7371 - val_acc: 0.5028\n",
      "Epoch 86/100\n",
      "50000/50000 [==============================] - 13s 265us/step - loss: 0.3338 - acc: 0.8820 - val_loss: 2.7774 - val_acc: 0.5024\n",
      "Epoch 87/100\n",
      "50000/50000 [==============================] - 13s 265us/step - loss: 0.3521 - acc: 0.8731 - val_loss: 2.8025 - val_acc: 0.5070\n",
      "Epoch 88/100\n",
      "50000/50000 [==============================] - 16s 315us/step - loss: 0.3246 - acc: 0.8839 - val_loss: 2.8338 - val_acc: 0.5057\n",
      "Epoch 89/100\n",
      "50000/50000 [==============================] - 15s 294us/step - loss: 0.3369 - acc: 0.8784 - val_loss: 2.8440 - val_acc: 0.4957\n",
      "Epoch 90/100\n",
      "50000/50000 [==============================] - 12s 246us/step - loss: 0.3295 - acc: 0.8821 - val_loss: 2.8297 - val_acc: 0.5002\n",
      "Epoch 91/100\n",
      "50000/50000 [==============================] - 13s 261us/step - loss: 0.3253 - acc: 0.8821 - val_loss: 2.9472 - val_acc: 0.4971\n",
      "Epoch 92/100\n",
      "50000/50000 [==============================] - 14s 272us/step - loss: 0.3322 - acc: 0.8830 - val_loss: 2.9539 - val_acc: 0.5023\n",
      "Epoch 93/100\n",
      "50000/50000 [==============================] - 13s 258us/step - loss: 0.3215 - acc: 0.8827 - val_loss: 2.9320 - val_acc: 0.5057\n",
      "Epoch 94/100\n",
      "50000/50000 [==============================] - 13s 267us/step - loss: 0.3047 - acc: 0.8910 - val_loss: 2.8713 - val_acc: 0.5040\n",
      "Epoch 95/100\n",
      "50000/50000 [==============================] - 13s 253us/step - loss: 0.3094 - acc: 0.8860 - val_loss: 3.0055 - val_acc: 0.4989\n",
      "Epoch 96/100\n",
      "50000/50000 [==============================] - 12s 243us/step - loss: 0.3093 - acc: 0.8889 - val_loss: 3.0256 - val_acc: 0.4962\n",
      "Epoch 97/100\n",
      "50000/50000 [==============================] - 12s 246us/step - loss: 0.2938 - acc: 0.8940 - val_loss: 3.0430 - val_acc: 0.5030\n",
      "Epoch 98/100\n",
      "50000/50000 [==============================] - 15s 290us/step - loss: 0.2931 - acc: 0.8941 - val_loss: 3.0980 - val_acc: 0.5054\n",
      "Epoch 99/100\n",
      "50000/50000 [==============================] - 14s 283us/step - loss: 0.2960 - acc: 0.8946 - val_loss: 3.0329 - val_acc: 0.5014\n",
      "Epoch 100/100\n",
      "50000/50000 [==============================] - 14s 287us/step - loss: 0.2945 - acc: 0.8932 - val_loss: 3.0654 - val_acc: 0.5016\n"
     ]
    },
    {
     "data": {
      "text/plain": [
       "<keras.callbacks.History at 0x2345e321f28>"
      ]
     },
     "execution_count": 10,
     "metadata": {},
     "output_type": "execute_result"
    }
   ],
   "source": [
    "model.fit(x_train, y_train, \n",
    "          epochs=EPOCHS, \n",
    "          batch_size=BATCH_SIZE, \n",
    "          validation_data=(x_test, y_test), \n",
    "          shuffle=True)"
   ]
  },
  {
   "cell_type": "code",
   "execution_count": 12,
   "metadata": {},
   "outputs": [
    {
     "data": {
      "image/png": "[encoded data removed]",
      "text/plain": [
       "<Figure size 432x288 with 1 Axes>"
      ]
     },
     "metadata": {
      "needs_background": "light"
     },
     "output_type": "display_data"
    },
    {
     "data": {
      "image/png": "[encoded data removed]",
      "text/plain": [
       "<Figure size 432x288 with 1 Axes>"
      ]
     },
     "metadata": {
      "needs_background": "light"
     },
     "output_type": "display_data"
    }
   ],
   "source": [
    "# 訓練模型並檢視驗證集的結果\n",
    "import matplotlib.pyplot as plt\n",
    "\n",
    "train_loss = model.history.history[\"loss\"]\n",
    "valid_loss = model.history.history[\"val_loss\"]\n",
    "\n",
    "train_acc = model.history.history[\"acc\"]\n",
    "valid_acc = model.history.history[\"val_acc\"]\n",
    "\n",
    "plt.plot(range(len(train_loss)), train_loss, label=\"train loss\")\n",
    "plt.plot(range(len(valid_loss)), valid_loss, label=\"valid loss\")\n",
    "plt.legend()\n",
    "plt.title(\"Loss\")\n",
    "plt.show()\n",
    "\n",
    "plt.plot(range(len(train_acc)), train_acc, label=\"train accuracy\")\n",
    "plt.plot(range(len(valid_acc)), valid_acc, label=\"valid accuracy\")\n",
    "plt.legend()\n",
    "plt.title(\"Accuracy\")\n",
    "plt.show()"
   ]
  },
  {
   "cell_type": "markdown",
   "metadata": {},
   "source": [
    "## Work\n",
    "1. 請嘗試將 preproc_x 替換成以每筆資料的 min/max 進行標準化至 -1 ~ 1 間，再進行訓練\n",
    "2. 請嘗試將 mlp 疊更深 (e.g 5~10 層)，進行訓練後觀察 learning curve 的走勢\n",
    "3. (optional) 請改用 GPU 進行訓練 (如果你有 GPU 的話)，比較使用 CPU 與 GPU 的訓練速度"
   ]
  }
 ],
 "metadata": {
  "kernelspec": {
   "display_name": "Python 3",
   "language": "python",
   "name": "python3"
  },
  "language_info": {
   "codemirror_mode": {
    "name": "ipython",
    "version": 3
   },
   "file_extension": ".py",
   "mimetype": "text/x-python",
   "name": "python",
   "nbconvert_exporter": "python",
   "pygments_lexer": "ipython3",
   "version": "3.7.3"
  }
 },
 "nbformat": 4,
 "nbformat_minor": 2
}
