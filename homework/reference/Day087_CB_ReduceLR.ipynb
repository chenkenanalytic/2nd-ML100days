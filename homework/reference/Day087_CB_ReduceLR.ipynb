{
 "cells": [
  {
   "cell_type": "markdown",
   "metadata": {},
   "source": [
    "## 範例重點\n",
    "* 學習如何在 keras 中加入 reduce learning rate\n",
    "* 知道如何設定 reduce_lr 的監控目標\n",
    "* 比較使用有無使用 reduce_lr 時的 performance"
   ]
  },
  {
   "cell_type": "code",
   "execution_count": 1,
   "metadata": {},
   "outputs": [
    {
     "name": "stderr",
     "output_type": "stream",
     "text": [
      "Using TensorFlow backend.\n"
     ]
    }
   ],
   "source": [
    "import os\n",
    "import keras\n",
    "\n",
    "# 本範例不需使用 GPU, 將 GPU 設定為 \"無\"\n",
    "os.environ[\"CUDA_VISIBLE_DEVICES\"] = \"\""
   ]
  },
  {
   "cell_type": "code",
   "execution_count": 2,
   "metadata": {},
   "outputs": [],
   "source": [
    "train, test = keras.datasets.cifar10.load_data()"
   ]
  },
  {
   "cell_type": "code",
   "execution_count": 3,
   "metadata": {},
   "outputs": [],
   "source": [
    "## 資料前處理\n",
    "def preproc_x(x, flatten=True):\n",
    "    x = x / 255.\n",
    "    if flatten:\n",
    "        x = x.reshape((len(x), -1))\n",
    "    return x\n",
    "\n",
    "def preproc_y(y, num_classes=10):\n",
    "    if y.shape[-1] == 1:\n",
    "        y = keras.utils.to_categorical(y, num_classes)\n",
    "    return y    "
   ]
  },
  {
   "cell_type": "code",
   "execution_count": 4,
   "metadata": {},
   "outputs": [],
   "source": [
    "x_train, y_train = train\n",
    "x_test, y_test = test\n",
    "\n",
    "# 資料前處理 - X 標準化\n",
    "x_train = preproc_x(x_train)\n",
    "x_test = preproc_x(x_test)\n",
    "\n",
    "# 資料前處理 -Y 轉成 onehot\n",
    "y_train = preproc_y(y_train)\n",
    "y_test = preproc_y(y_test)"
   ]
  },
  {
   "cell_type": "code",
   "execution_count": 5,
   "metadata": {},
   "outputs": [],
   "source": [
    "from keras.layers import BatchNormalization\n",
    "\n",
    "\"\"\"\n",
    "建立神經網路，並加入 BN layer\n",
    "\"\"\"\n",
    "def build_mlp(input_shape, output_units=10, num_neurons=[512, 256, 128]):\n",
    "    input_layer = keras.layers.Input(input_shape)\n",
    "    \n",
    "    for i, n_units in enumerate(num_neurons):\n",
    "        if i == 0:\n",
    "            x = keras.layers.Dense(units=n_units, \n",
    "                                   activation=\"relu\", \n",
    "                                   name=\"hidden_layer\"+str(i+1))(input_layer)\n",
    "            x = BatchNormalization()(x)\n",
    "        else:\n",
    "            x = keras.layers.Dense(units=n_units, \n",
    "                                   activation=\"relu\", \n",
    "                                   name=\"hidden_layer\"+str(i+1))(x)\n",
    "            x = BatchNormalization()(x)\n",
    "    \n",
    "    out = keras.layers.Dense(units=output_units, activation=\"softmax\", name=\"output\")(x)\n",
    "    \n",
    "    model = keras.models.Model(inputs=[input_layer], outputs=[out])\n",
    "    return model"
   ]
  },
  {
   "cell_type": "code",
   "execution_count": 6,
   "metadata": {},
   "outputs": [],
   "source": [
    "## 超參數設定\n",
    "LEARNING_RATE = 1e-3\n",
    "EPOCHS = 50\n",
    "BATCH_SIZE = 1024\n",
    "MOMENTUM = 0.95"
   ]
  },
  {
   "cell_type": "code",
   "execution_count": 7,
   "metadata": {},
   "outputs": [],
   "source": [
    "\"\"\"\n",
    "# 載入 Callbacks, 並設定監控目標為 validation loss\n",
    "\"\"\"\n",
    "from keras.callbacks import ReduceLROnPlateau\n",
    "\n",
    "reduce_lr = ReduceLROnPlateau(factor=0.5, \n",
    "                              min_lr=1e-12, \n",
    "                              monitor='val_loss', \n",
    "                              patience=5, \n",
    "                              verbose=1)"
   ]
  },
  {
   "cell_type": "code",
   "execution_count": 8,
   "metadata": {
    "scrolled": true
   },
   "outputs": [
    {
     "name": "stdout",
     "output_type": "stream",
     "text": [
      "WARNING:tensorflow:From C:\\Users\\KenChen\\AppData\\Local\\Continuum\\anaconda3\\lib\\site-packages\\tensorflow\\python\\framework\\op_def_library.py:263: colocate_with (from tensorflow.python.framework.ops) is deprecated and will be removed in a future version.\n",
      "Instructions for updating:\n",
      "Colocations handled automatically by placer.\n",
      "_________________________________________________________________\n",
      "Layer (type)                 Output Shape              Param #   \n",
      "=================================================================\n",
      "input_1 (InputLayer)         (None, 3072)              0         \n",
      "_________________________________________________________________\n",
      "hidden_layer1 (Dense)        (None, 512)               1573376   \n",
      "_________________________________________________________________\n",
      "batch_normalization_1 (Batch (None, 512)               2048      \n",
      "_________________________________________________________________\n",
      "hidden_layer2 (Dense)        (None, 256)               131328    \n",
      "_________________________________________________________________\n",
      "batch_normalization_2 (Batch (None, 256)               1024      \n",
      "_________________________________________________________________\n",
      "hidden_layer3 (Dense)        (None, 128)               32896     \n",
      "_________________________________________________________________\n",
      "batch_normalization_3 (Batch (None, 128)               512       \n",
      "_________________________________________________________________\n",
      "output (Dense)               (None, 10)                1290      \n",
      "=================================================================\n",
      "Total params: 1,742,474\n",
      "Trainable params: 1,740,682\n",
      "Non-trainable params: 1,792\n",
      "_________________________________________________________________\n",
      "WARNING:tensorflow:From C:\\Users\\KenChen\\AppData\\Local\\Continuum\\anaconda3\\lib\\site-packages\\tensorflow\\python\\ops\\math_ops.py:3066: to_int32 (from tensorflow.python.ops.math_ops) is deprecated and will be removed in a future version.\n",
      "Instructions for updating:\n",
      "Use tf.cast instead.\n",
      "Train on 50000 samples, validate on 10000 samples\n",
      "Epoch 1/50\n",
      "50000/50000 [==============================] - 10s 199us/step - loss: 2.1924 - acc: 0.2752 - val_loss: 2.1343 - val_acc: 0.3147\n",
      "Epoch 2/50\n",
      "50000/50000 [==============================] - 8s 161us/step - loss: 1.7421 - acc: 0.3930 - val_loss: 1.8358 - val_acc: 0.3694\n",
      "Epoch 3/50\n",
      "50000/50000 [==============================] - 8s 158us/step - loss: 1.6160 - acc: 0.4346 - val_loss: 1.6842 - val_acc: 0.4053\n",
      "Epoch 4/50\n",
      "50000/50000 [==============================] - 8s 165us/step - loss: 1.5413 - acc: 0.4610 - val_loss: 1.6090 - val_acc: 0.4390\n",
      "Epoch 5/50\n",
      "50000/50000 [==============================] - 10s 191us/step - loss: 1.4847 - acc: 0.4810 - val_loss: 1.5877 - val_acc: 0.4452\n",
      "Epoch 6/50\n",
      "50000/50000 [==============================] - 9s 172us/step - loss: 1.4361 - acc: 0.5012 - val_loss: 1.5535 - val_acc: 0.4547\n",
      "Epoch 7/50\n",
      "50000/50000 [==============================] - 8s 164us/step - loss: 1.3962 - acc: 0.5143 - val_loss: 1.5307 - val_acc: 0.4655\n",
      "Epoch 8/50\n",
      "50000/50000 [==============================] - 8s 160us/step - loss: 1.3592 - acc: 0.5271 - val_loss: 1.5263 - val_acc: 0.4683\n",
      "Epoch 9/50\n",
      "50000/50000 [==============================] - 9s 189us/step - loss: 1.3287 - acc: 0.5395 - val_loss: 1.5073 - val_acc: 0.4688\n",
      "Epoch 10/50\n",
      "50000/50000 [==============================] - 10s 201us/step - loss: 1.2963 - acc: 0.5507 - val_loss: 1.4886 - val_acc: 0.4777\n",
      "Epoch 11/50\n",
      "50000/50000 [==============================] - 9s 184us/step - loss: 1.2696 - acc: 0.5597 - val_loss: 1.4853 - val_acc: 0.4841\n",
      "Epoch 12/50\n",
      "50000/50000 [==============================] - 10s 207us/step - loss: 1.2415 - acc: 0.5700 - val_loss: 1.4669 - val_acc: 0.4856\n",
      "Epoch 13/50\n",
      "50000/50000 [==============================] - 12s 239us/step - loss: 1.2149 - acc: 0.5817 - val_loss: 1.4592 - val_acc: 0.4906\n",
      "Epoch 14/50\n",
      "50000/50000 [==============================] - 8s 164us/step - loss: 1.1904 - acc: 0.5883 - val_loss: 1.4538 - val_acc: 0.4899\n",
      "Epoch 15/50\n",
      "50000/50000 [==============================] - 8s 160us/step - loss: 1.1670 - acc: 0.5978 - val_loss: 1.4518 - val_acc: 0.4935\n",
      "Epoch 16/50\n",
      "50000/50000 [==============================] - 8s 169us/step - loss: 1.1432 - acc: 0.6063 - val_loss: 1.4458 - val_acc: 0.4970\n",
      "Epoch 17/50\n",
      "50000/50000 [==============================] - 8s 163us/step - loss: 1.1204 - acc: 0.6146 - val_loss: 1.4432 - val_acc: 0.5021\n",
      "Epoch 18/50\n",
      "50000/50000 [==============================] - 8s 158us/step - loss: 1.0993 - acc: 0.6217 - val_loss: 1.4624 - val_acc: 0.4867\n",
      "Epoch 19/50\n",
      "50000/50000 [==============================] - 8s 158us/step - loss: 1.0767 - acc: 0.6327 - val_loss: 1.4500 - val_acc: 0.4975\n",
      "Epoch 20/50\n",
      "50000/50000 [==============================] - 8s 167us/step - loss: 1.0548 - acc: 0.6378 - val_loss: 1.4574 - val_acc: 0.4957\n",
      "Epoch 21/50\n",
      "50000/50000 [==============================] - 11s 219us/step - loss: 1.0342 - acc: 0.6484 - val_loss: 1.4545 - val_acc: 0.4954\n",
      "Epoch 22/50\n",
      "50000/50000 [==============================] - 12s 239us/step - loss: 1.0137 - acc: 0.6543 - val_loss: 1.4620 - val_acc: 0.4962\n",
      "\n",
      "Epoch 00022: ReduceLROnPlateau reducing learning rate to 0.0005000000237487257.\n",
      "Epoch 23/50\n",
      "50000/50000 [==============================] - 10s 209us/step - loss: 0.9852 - acc: 0.6677 - val_loss: 1.4315 - val_acc: 0.5028\n",
      "Epoch 24/50\n",
      "50000/50000 [==============================] - 9s 190us/step - loss: 0.9661 - acc: 0.6752 - val_loss: 1.4355 - val_acc: 0.5010\n",
      "Epoch 25/50\n",
      "50000/50000 [==============================] - 11s 212us/step - loss: 0.9531 - acc: 0.6813 - val_loss: 1.4355 - val_acc: 0.5040\n",
      "Epoch 26/50\n",
      "50000/50000 [==============================] - 8s 156us/step - loss: 0.9421 - acc: 0.6843 - val_loss: 1.4426 - val_acc: 0.5018\n",
      "Epoch 27/50\n",
      "50000/50000 [==============================] - 8s 153us/step - loss: 0.9318 - acc: 0.6887 - val_loss: 1.4384 - val_acc: 0.5029\n",
      "Epoch 28/50\n",
      "50000/50000 [==============================] - 8s 169us/step - loss: 0.9214 - acc: 0.6930 - val_loss: 1.4375 - val_acc: 0.5053\n",
      "\n",
      "Epoch 00028: ReduceLROnPlateau reducing learning rate to 0.0002500000118743628.\n",
      "Epoch 29/50\n",
      "50000/50000 [==============================] - 8s 163us/step - loss: 0.9062 - acc: 0.6988 - val_loss: 1.4372 - val_acc: 0.5025\n",
      "Epoch 30/50\n",
      "50000/50000 [==============================] - 11s 221us/step - loss: 0.8965 - acc: 0.7032 - val_loss: 1.4399 - val_acc: 0.5029\n",
      "Epoch 31/50\n",
      "50000/50000 [==============================] - 11s 223us/step - loss: 0.8898 - acc: 0.7067 - val_loss: 1.4423 - val_acc: 0.5043\n",
      "Epoch 32/50\n",
      "50000/50000 [==============================] - 10s 207us/step - loss: 0.8851 - acc: 0.7085 - val_loss: 1.4435 - val_acc: 0.5033\n",
      "Epoch 33/50\n",
      "50000/50000 [==============================] - 8s 168us/step - loss: 0.8780 - acc: 0.7105 - val_loss: 1.4484 - val_acc: 0.5028\n",
      "\n",
      "Epoch 00033: ReduceLROnPlateau reducing learning rate to 0.0001250000059371814.\n",
      "Epoch 34/50\n",
      "50000/50000 [==============================] - 8s 169us/step - loss: 0.8714 - acc: 0.7128 - val_loss: 1.4402 - val_acc: 0.5059\n",
      "Epoch 35/50\n",
      "50000/50000 [==============================] - 9s 172us/step - loss: 0.8647 - acc: 0.7168 - val_loss: 1.4459 - val_acc: 0.5064\n",
      "Epoch 36/50\n",
      "50000/50000 [==============================] - 9s 173us/step - loss: 0.8637 - acc: 0.7169 - val_loss: 1.4432 - val_acc: 0.5068\n",
      "Epoch 37/50\n",
      "50000/50000 [==============================] - 10s 190us/step - loss: 0.8596 - acc: 0.7187 - val_loss: 1.4456 - val_acc: 0.5060\n",
      "Epoch 38/50\n",
      "50000/50000 [==============================] - 9s 180us/step - loss: 0.8564 - acc: 0.7206 - val_loss: 1.4468 - val_acc: 0.5059\n",
      "\n",
      "Epoch 00038: ReduceLROnPlateau reducing learning rate to 6.25000029685907e-05.\n",
      "Epoch 39/50\n",
      "50000/50000 [==============================] - 9s 170us/step - loss: 0.8534 - acc: 0.7219 - val_loss: 1.4446 - val_acc: 0.5051\n",
      "Epoch 40/50\n",
      "50000/50000 [==============================] - 8s 158us/step - loss: 0.8496 - acc: 0.7238 - val_loss: 1.4457 - val_acc: 0.5057\n",
      "Epoch 41/50\n",
      "50000/50000 [==============================] - 8s 159us/step - loss: 0.8487 - acc: 0.7236 - val_loss: 1.4466 - val_acc: 0.5055\n",
      "Epoch 42/50\n",
      "50000/50000 [==============================] - 8s 159us/step - loss: 0.8468 - acc: 0.7228 - val_loss: 1.4463 - val_acc: 0.5058\n"
     ]
    },
    {
     "name": "stdout",
     "output_type": "stream",
     "text": [
      "Epoch 43/50\n",
      "50000/50000 [==============================] - 9s 176us/step - loss: 0.8455 - acc: 0.7243 - val_loss: 1.4478 - val_acc: 0.5053\n",
      "\n",
      "Epoch 00043: ReduceLROnPlateau reducing learning rate to 3.125000148429535e-05.\n",
      "Epoch 44/50\n",
      "50000/50000 [==============================] - 9s 171us/step - loss: 0.8438 - acc: 0.7249 - val_loss: 1.4471 - val_acc: 0.5076\n",
      "Epoch 45/50\n",
      "50000/50000 [==============================] - 9s 179us/step - loss: 0.8420 - acc: 0.7268 - val_loss: 1.4479 - val_acc: 0.5063\n",
      "Epoch 46/50\n",
      "50000/50000 [==============================] - 10s 198us/step - loss: 0.8420 - acc: 0.7271 - val_loss: 1.4481 - val_acc: 0.5059\n",
      "Epoch 47/50\n",
      "50000/50000 [==============================] - 9s 176us/step - loss: 0.8398 - acc: 0.7262 - val_loss: 1.4485 - val_acc: 0.5061\n",
      "Epoch 48/50\n",
      "50000/50000 [==============================] - 8s 158us/step - loss: 0.8401 - acc: 0.7267 - val_loss: 1.4484 - val_acc: 0.5070\n",
      "\n",
      "Epoch 00048: ReduceLROnPlateau reducing learning rate to 1.5625000742147677e-05.\n",
      "Epoch 49/50\n",
      "50000/50000 [==============================] - 8s 158us/step - loss: 0.8391 - acc: 0.7277 - val_loss: 1.4487 - val_acc: 0.5062\n",
      "Epoch 50/50\n",
      "50000/50000 [==============================] - 8s 162us/step - loss: 0.8377 - acc: 0.7280 - val_loss: 1.4486 - val_acc: 0.5061\n"
     ]
    }
   ],
   "source": [
    "model = build_mlp(input_shape=x_train.shape[1:])\n",
    "model.summary()\n",
    "optimizer = keras.optimizers.SGD(lr=LEARNING_RATE, nesterov=True, momentum=MOMENTUM)\n",
    "model.compile(loss=\"categorical_crossentropy\", metrics=[\"accuracy\"], optimizer=optimizer)\n",
    "\n",
    "model.fit(x_train, y_train, \n",
    "          epochs=EPOCHS, \n",
    "          batch_size=BATCH_SIZE, \n",
    "          validation_data=(x_test, y_test), \n",
    "          shuffle=True,\n",
    "          callbacks=[reduce_lr]\n",
    "         )\n",
    "\n",
    "# Collect results\n",
    "train_loss = model.history.history[\"loss\"]\n",
    "valid_loss = model.history.history[\"val_loss\"]\n",
    "train_acc = model.history.history[\"acc\"]\n",
    "valid_acc = model.history.history[\"val_acc\"]"
   ]
  },
  {
   "cell_type": "code",
   "execution_count": 9,
   "metadata": {},
   "outputs": [
    {
     "data": {
      "image/png": "[encoded data removed]",
      "text/plain": [
       "<Figure size 432x288 with 1 Axes>"
      ]
     },
     "metadata": {
      "needs_background": "light"
     },
     "output_type": "display_data"
    },
    {
     "data": {
      "image/png": "[encoded data removed]",
      "text/plain": [
       "<Figure size 432x288 with 1 Axes>"
      ]
     },
     "metadata": {
      "needs_background": "light"
     },
     "output_type": "display_data"
    }
   ],
   "source": [
    "import matplotlib.pyplot as plt\n",
    "%matplotlib inline\n",
    "\n",
    "plt.plot(range(len(train_loss)), train_loss, label=\"train loss\")\n",
    "plt.plot(range(len(valid_loss)), valid_loss, label=\"valid loss\")\n",
    "plt.legend()\n",
    "plt.title(\"Loss\")\n",
    "plt.show()\n",
    "\n",
    "plt.plot(range(len(train_acc)), train_acc, label=\"train accuracy\")\n",
    "plt.plot(range(len(valid_acc)), valid_acc, label=\"valid accuracy\")\n",
    "plt.legend()\n",
    "plt.title(\"Accuracy\")\n",
    "plt.show()"
   ]
  },
  {
   "cell_type": "markdown",
   "metadata": {},
   "source": [
    "## Work\n",
    "1. 請改變 reduce_lr 的 patience 和 factor 並比較不同設定下，對訓練/驗證集的影響\n",
    "2. 請將 optimizer 換成 Adam、RMSprop 搭配 reduce_lr 並比較訓練結果"
   ]
  }
 ],
 "metadata": {
  "kernelspec": {
   "display_name": "Python 3",
   "language": "python",
   "name": "python3"
  },
  "language_info": {
   "codemirror_mode": {
    "name": "ipython",
    "version": 3
   },
   "file_extension": ".py",
   "mimetype": "text/x-python",
   "name": "python",
   "nbconvert_exporter": "python",
   "pygments_lexer": "ipython3",
   "version": "3.7.3"
  }
 },
 "nbformat": 4,
 "nbformat_minor": 2
}
