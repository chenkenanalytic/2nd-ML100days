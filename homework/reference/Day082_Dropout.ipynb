{
 "cells": [
  {
   "cell_type": "markdown",
   "metadata": {},
   "source": [
    "## 範例重點\n",
    "* 知道如何在 keras 中加入 dropout\n",
    "* 了解 dropout 中 ratio 的意義與對訓練的影響"
   ]
  },
  {
   "cell_type": "code",
   "execution_count": 1,
   "metadata": {},
   "outputs": [
    {
     "name": "stderr",
     "output_type": "stream",
     "text": [
      "Using TensorFlow backend.\n"
     ]
    }
   ],
   "source": [
    "import os\n",
    "import keras\n",
    "\n",
    "# 本範例不需使用 GPU, 將 GPU 設定為 \"無\"\n",
    "os.environ[\"CUDA_VISIBLE_DEVICES\"] = \"\""
   ]
  },
  {
   "cell_type": "code",
   "execution_count": 2,
   "metadata": {},
   "outputs": [],
   "source": [
    "train, test = keras.datasets.cifar10.load_data()"
   ]
  },
  {
   "cell_type": "code",
   "execution_count": 3,
   "metadata": {},
   "outputs": [],
   "source": [
    "## 資料前處理\n",
    "def preproc_x(x, flatten=True):\n",
    "    x = x / 255.\n",
    "    if flatten:\n",
    "        x = x.reshape((len(x), -1))\n",
    "    return x\n",
    "\n",
    "def preproc_y(y, num_classes=10):\n",
    "    if y.shape[-1] == 1:\n",
    "        y = keras.utils.to_categorical(y, num_classes)\n",
    "    return y    "
   ]
  },
  {
   "cell_type": "code",
   "execution_count": 4,
   "metadata": {},
   "outputs": [],
   "source": [
    "x_train, y_train = train\n",
    "x_test, y_test = test\n",
    "\n",
    "# 資料前處理 - X 標準化\n",
    "x_train = preproc_x(x_train)\n",
    "x_test = preproc_x(x_test)\n",
    "\n",
    "# 資料前處理 -Y 轉成 onehot\n",
    "y_train = preproc_y(y_train)\n",
    "y_test = preproc_y(y_test)"
   ]
  },
  {
   "cell_type": "code",
   "execution_count": 5,
   "metadata": {},
   "outputs": [],
   "source": [
    "from keras.layers import Dropout\n",
    "\n",
    "\"\"\"\n",
    "建立神經網路，並加入 dropout layer\n",
    "\"\"\"\n",
    "def build_mlp(input_shape, output_units=10, num_neurons=[512, 256, 128], drp_ratio=0.2):\n",
    "    input_layer = keras.layers.Input(input_shape)\n",
    "    \n",
    "    for i, n_units in enumerate(num_neurons):\n",
    "        if i == 0:\n",
    "            x = keras.layers.Dense(units=n_units, \n",
    "                                   activation=\"relu\", \n",
    "                                   name=\"hidden_layer\"+str(i+1))(input_layer)\n",
    "            x = Dropout(drp_ratio)(x)\n",
    "        else:\n",
    "            x = keras.layers.Dense(units=n_units, \n",
    "                                   activation=\"relu\", \n",
    "                                   name=\"hidden_layer\"+str(i+1))(x)\n",
    "            x = Dropout(drp_ratio)(x)\n",
    "    \n",
    "    out = keras.layers.Dense(units=output_units, activation=\"softmax\", name=\"output\")(x)\n",
    "    \n",
    "    model = keras.models.Model(inputs=[input_layer], outputs=[out])\n",
    "    return model"
   ]
  },
  {
   "cell_type": "code",
   "execution_count": 6,
   "metadata": {},
   "outputs": [],
   "source": [
    "## 超參數設定\n",
    "LEARNING_RATE = 1e-3\n",
    "EPOCHS = 50\n",
    "BATCH_SIZE = 256\n",
    "MOMENTUM = 0.95\n",
    "Dropout_EXP = 0.25"
   ]
  },
  {
   "cell_type": "code",
   "execution_count": 7,
   "metadata": {
    "scrolled": true
   },
   "outputs": [
    {
     "name": "stdout",
     "output_type": "stream",
     "text": [
      "WARNING:tensorflow:From C:\\Users\\KenChen\\AppData\\Local\\Continuum\\anaconda3\\lib\\site-packages\\tensorflow\\python\\framework\\op_def_library.py:263: colocate_with (from tensorflow.python.framework.ops) is deprecated and will be removed in a future version.\n",
      "Instructions for updating:\n",
      "Colocations handled automatically by placer.\n",
      "WARNING:tensorflow:From C:\\Users\\KenChen\\AppData\\Local\\Continuum\\anaconda3\\lib\\site-packages\\keras\\backend\\tensorflow_backend.py:3445: calling dropout (from tensorflow.python.ops.nn_ops) with keep_prob is deprecated and will be removed in a future version.\n",
      "Instructions for updating:\n",
      "Please use `rate` instead of `keep_prob`. Rate should be set to `rate = 1 - keep_prob`.\n",
      "_________________________________________________________________\n",
      "Layer (type)                 Output Shape              Param #   \n",
      "=================================================================\n",
      "input_1 (InputLayer)         (None, 3072)              0         \n",
      "_________________________________________________________________\n",
      "hidden_layer1 (Dense)        (None, 512)               1573376   \n",
      "_________________________________________________________________\n",
      "dropout_1 (Dropout)          (None, 512)               0         \n",
      "_________________________________________________________________\n",
      "hidden_layer2 (Dense)        (None, 256)               131328    \n",
      "_________________________________________________________________\n",
      "dropout_2 (Dropout)          (None, 256)               0         \n",
      "_________________________________________________________________\n",
      "hidden_layer3 (Dense)        (None, 128)               32896     \n",
      "_________________________________________________________________\n",
      "dropout_3 (Dropout)          (None, 128)               0         \n",
      "_________________________________________________________________\n",
      "output (Dense)               (None, 10)                1290      \n",
      "=================================================================\n",
      "Total params: 1,738,890\n",
      "Trainable params: 1,738,890\n",
      "Non-trainable params: 0\n",
      "_________________________________________________________________\n",
      "WARNING:tensorflow:From C:\\Users\\KenChen\\AppData\\Local\\Continuum\\anaconda3\\lib\\site-packages\\tensorflow\\python\\ops\\math_ops.py:3066: to_int32 (from tensorflow.python.ops.math_ops) is deprecated and will be removed in a future version.\n",
      "Instructions for updating:\n",
      "Use tf.cast instead.\n",
      "Train on 50000 samples, validate on 10000 samples\n",
      "Epoch 1/50\n",
      "50000/50000 [==============================] - 11s 229us/step - loss: 2.1822 - acc: 0.1899 - val_loss: 1.9912 - val_acc: 0.2879\n",
      "Epoch 2/50\n",
      "50000/50000 [==============================] - 12s 243us/step - loss: 1.9967 - acc: 0.2686 - val_loss: 1.8730 - val_acc: 0.3376\n",
      "Epoch 3/50\n",
      "50000/50000 [==============================] - 10s 209us/step - loss: 1.9108 - acc: 0.3090 - val_loss: 1.8027 - val_acc: 0.3636\n",
      "Epoch 4/50\n",
      "50000/50000 [==============================] - 10s 203us/step - loss: 1.8537 - acc: 0.3361 - val_loss: 1.7477 - val_acc: 0.3846\n",
      "Epoch 5/50\n",
      "50000/50000 [==============================] - 10s 205us/step - loss: 1.8117 - acc: 0.3510 - val_loss: 1.7110 - val_acc: 0.3949\n",
      "Epoch 6/50\n",
      "50000/50000 [==============================] - 10s 202us/step - loss: 1.7776 - acc: 0.3648 - val_loss: 1.6711 - val_acc: 0.4094\n",
      "Epoch 7/50\n",
      "50000/50000 [==============================] - 11s 214us/step - loss: 1.7468 - acc: 0.3753 - val_loss: 1.6495 - val_acc: 0.4170\n",
      "Epoch 8/50\n",
      "50000/50000 [==============================] - 10s 205us/step - loss: 1.7201 - acc: 0.3852 - val_loss: 1.6224 - val_acc: 0.4281\n",
      "Epoch 9/50\n",
      "50000/50000 [==============================] - 10s 207us/step - loss: 1.7008 - acc: 0.3949 - val_loss: 1.6033 - val_acc: 0.4346\n",
      "Epoch 10/50\n",
      "50000/50000 [==============================] - 11s 230us/step - loss: 1.6808 - acc: 0.3999 - val_loss: 1.5827 - val_acc: 0.4418\n",
      "Epoch 11/50\n",
      "50000/50000 [==============================] - 11s 216us/step - loss: 1.6564 - acc: 0.4069 - val_loss: 1.5648 - val_acc: 0.4469\n",
      "Epoch 12/50\n",
      "50000/50000 [==============================] - 11s 212us/step - loss: 1.6421 - acc: 0.4174 - val_loss: 1.5491 - val_acc: 0.4550\n",
      "Epoch 13/50\n",
      "50000/50000 [==============================] - 9s 187us/step - loss: 1.6220 - acc: 0.4230 - val_loss: 1.5371 - val_acc: 0.4552\n",
      "Epoch 14/50\n",
      "50000/50000 [==============================] - 11s 210us/step - loss: 1.6075 - acc: 0.4295 - val_loss: 1.5167 - val_acc: 0.4599\n",
      "Epoch 15/50\n",
      "50000/50000 [==============================] - 11s 214us/step - loss: 1.5931 - acc: 0.4348 - val_loss: 1.5151 - val_acc: 0.4649\n",
      "Epoch 16/50\n",
      "50000/50000 [==============================] - 10s 197us/step - loss: 1.5744 - acc: 0.4414 - val_loss: 1.4926 - val_acc: 0.4710\n",
      "Epoch 17/50\n",
      "50000/50000 [==============================] - 10s 201us/step - loss: 1.5677 - acc: 0.4436 - val_loss: 1.4837 - val_acc: 0.4757\n",
      "Epoch 18/50\n",
      "50000/50000 [==============================] - 11s 212us/step - loss: 1.5561 - acc: 0.4481 - val_loss: 1.4703 - val_acc: 0.4789\n",
      "Epoch 19/50\n",
      "50000/50000 [==============================] - 12s 230us/step - loss: 1.5390 - acc: 0.4522 - val_loss: 1.4668 - val_acc: 0.4789\n",
      "Epoch 20/50\n",
      "50000/50000 [==============================] - 11s 221us/step - loss: 1.5265 - acc: 0.4594 - val_loss: 1.4545 - val_acc: 0.4817\n",
      "Epoch 21/50\n",
      "50000/50000 [==============================] - 11s 220us/step - loss: 1.5182 - acc: 0.4629 - val_loss: 1.4515 - val_acc: 0.4831\n",
      "Epoch 22/50\n",
      "50000/50000 [==============================] - 10s 196us/step - loss: 1.5031 - acc: 0.4677 - val_loss: 1.4301 - val_acc: 0.4916\n",
      "Epoch 23/50\n",
      "50000/50000 [==============================] - 10s 200us/step - loss: 1.4957 - acc: 0.4669 - val_loss: 1.4284 - val_acc: 0.4872\n",
      "Epoch 24/50\n",
      "50000/50000 [==============================] - 11s 222us/step - loss: 1.4832 - acc: 0.4716 - val_loss: 1.4288 - val_acc: 0.4935\n",
      "Epoch 25/50\n",
      "50000/50000 [==============================] - 10s 192us/step - loss: 1.4714 - acc: 0.4770 - val_loss: 1.4087 - val_acc: 0.4984\n",
      "Epoch 26/50\n",
      "50000/50000 [==============================] - 12s 238us/step - loss: 1.4637 - acc: 0.4785 - val_loss: 1.4073 - val_acc: 0.4960\n",
      "Epoch 27/50\n",
      "50000/50000 [==============================] - 11s 229us/step - loss: 1.4592 - acc: 0.4807 - val_loss: 1.4060 - val_acc: 0.4967\n",
      "Epoch 28/50\n",
      "50000/50000 [==============================] - 11s 220us/step - loss: 1.4505 - acc: 0.4831 - val_loss: 1.4039 - val_acc: 0.4969\n",
      "Epoch 29/50\n",
      "50000/50000 [==============================] - 13s 254us/step - loss: 1.4335 - acc: 0.4897 - val_loss: 1.3960 - val_acc: 0.4980\n",
      "Epoch 30/50\n",
      "50000/50000 [==============================] - 13s 250us/step - loss: 1.4246 - acc: 0.4924 - val_loss: 1.3944 - val_acc: 0.5082\n",
      "Epoch 31/50\n",
      "50000/50000 [==============================] - 11s 225us/step - loss: 1.4144 - acc: 0.4959 - val_loss: 1.3792 - val_acc: 0.5063\n",
      "Epoch 32/50\n",
      "50000/50000 [==============================] - 11s 216us/step - loss: 1.4057 - acc: 0.4979 - val_loss: 1.3864 - val_acc: 0.5046\n",
      "Epoch 33/50\n",
      "50000/50000 [==============================] - 11s 229us/step - loss: 1.4015 - acc: 0.5006 - val_loss: 1.3681 - val_acc: 0.5113\n",
      "Epoch 34/50\n",
      "50000/50000 [==============================] - 11s 227us/step - loss: 1.3915 - acc: 0.5024 - val_loss: 1.3673 - val_acc: 0.5089\n",
      "Epoch 35/50\n",
      "50000/50000 [==============================] - 11s 217us/step - loss: 1.3917 - acc: 0.5027 - val_loss: 1.3627 - val_acc: 0.5110\n",
      "Epoch 36/50\n",
      "50000/50000 [==============================] - 11s 220us/step - loss: 1.3808 - acc: 0.5058 - val_loss: 1.3572 - val_acc: 0.5156\n",
      "Epoch 37/50\n",
      "50000/50000 [==============================] - 11s 213us/step - loss: 1.3744 - acc: 0.5091 - val_loss: 1.3677 - val_acc: 0.5059\n",
      "Epoch 38/50\n",
      "50000/50000 [==============================] - 13s 253us/step - loss: 1.3659 - acc: 0.5124 - val_loss: 1.3674 - val_acc: 0.5103\n",
      "Epoch 39/50\n",
      "50000/50000 [==============================] - 13s 269us/step - loss: 1.3591 - acc: 0.5153 - val_loss: 1.3450 - val_acc: 0.5187\n",
      "Epoch 40/50\n",
      "50000/50000 [==============================] - 11s 224us/step - loss: 1.3521 - acc: 0.5165 - val_loss: 1.3405 - val_acc: 0.5211\n",
      "Epoch 41/50\n",
      "50000/50000 [==============================] - 11s 210us/step - loss: 1.3431 - acc: 0.5179 - val_loss: 1.3379 - val_acc: 0.5170\n",
      "Epoch 42/50\n"
     ]
    },
    {
     "name": "stdout",
     "output_type": "stream",
     "text": [
      "50000/50000 [==============================] - 10s 204us/step - loss: 1.3403 - acc: 0.5202 - val_loss: 1.3353 - val_acc: 0.5227\n",
      "Epoch 43/50\n",
      "50000/50000 [==============================] - 9s 187us/step - loss: 1.3291 - acc: 0.5228 - val_loss: 1.3470 - val_acc: 0.5176\n",
      "Epoch 44/50\n",
      "50000/50000 [==============================] - 10s 210us/step - loss: 1.3261 - acc: 0.5238 - val_loss: 1.3273 - val_acc: 0.5250\n",
      "Epoch 45/50\n",
      "50000/50000 [==============================] - 13s 254us/step - loss: 1.3188 - acc: 0.5281 - val_loss: 1.3456 - val_acc: 0.5174\n",
      "Epoch 46/50\n",
      "50000/50000 [==============================] - 12s 237us/step - loss: 1.3124 - acc: 0.5317 - val_loss: 1.3242 - val_acc: 0.5261\n",
      "Epoch 47/50\n",
      "50000/50000 [==============================] - 12s 248us/step - loss: 1.3075 - acc: 0.5329 - val_loss: 1.3268 - val_acc: 0.5269\n",
      "Epoch 48/50\n",
      "50000/50000 [==============================] - 10s 208us/step - loss: 1.2970 - acc: 0.5373 - val_loss: 1.3239 - val_acc: 0.5279\n",
      "Epoch 49/50\n",
      "50000/50000 [==============================] - 9s 189us/step - loss: 1.2968 - acc: 0.5353 - val_loss: 1.3158 - val_acc: 0.5246\n",
      "Epoch 50/50\n",
      "50000/50000 [==============================] - 10s 209us/step - loss: 1.2873 - acc: 0.5400 - val_loss: 1.3134 - val_acc: 0.5287\n"
     ]
    }
   ],
   "source": [
    "model = build_mlp(input_shape=x_train.shape[1:], drp_ratio=Dropout_EXP)\n",
    "model.summary()\n",
    "optimizer = keras.optimizers.SGD(lr=LEARNING_RATE, nesterov=True, momentum=MOMENTUM)\n",
    "model.compile(loss=\"categorical_crossentropy\", metrics=[\"accuracy\"], optimizer=optimizer)\n",
    "\n",
    "model.fit(x_train, y_train, \n",
    "          epochs=EPOCHS, \n",
    "          batch_size=BATCH_SIZE, \n",
    "          validation_data=(x_test, y_test), \n",
    "          shuffle=True)\n",
    "\n",
    "# Collect results\n",
    "train_loss = model.history.history[\"loss\"]\n",
    "valid_loss = model.history.history[\"val_loss\"]\n",
    "train_acc = model.history.history[\"acc\"]\n",
    "valid_acc = model.history.history[\"val_acc\"]"
   ]
  },
  {
   "cell_type": "code",
   "execution_count": 8,
   "metadata": {},
   "outputs": [
    {
     "data": {
      "image/png": "[encoded data removed]",
      "text/plain": [
       "<Figure size 432x288 with 1 Axes>"
      ]
     },
     "metadata": {
      "needs_background": "light"
     },
     "output_type": "display_data"
    },
    {
     "data": {
      "image/png": "[encoded data removed]",
      "text/plain": [
       "<Figure size 432x288 with 1 Axes>"
      ]
     },
     "metadata": {
      "needs_background": "light"
     },
     "output_type": "display_data"
    }
   ],
   "source": [
    "import matplotlib.pyplot as plt\n",
    "%matplotlib inline\n",
    "\n",
    "plt.plot(range(len(train_loss)), train_loss, label=\"train loss\")\n",
    "plt.plot(range(len(valid_loss)), valid_loss, label=\"valid loss\")\n",
    "plt.legend()\n",
    "plt.title(\"Loss\")\n",
    "plt.show()\n",
    "\n",
    "plt.plot(range(len(train_acc)), train_acc, label=\"train accuracy\")\n",
    "plt.plot(range(len(valid_acc)), valid_acc, label=\"valid accuracy\")\n",
    "plt.legend()\n",
    "plt.title(\"Accuracy\")\n",
    "plt.show()"
   ]
  },
  {
   "cell_type": "markdown",
   "metadata": {},
   "source": [
    "## Work\n",
    "1. 請比較使用不同層數以及不同 Dropout rate 對訓練的效果\n",
    "2. 將 optimizer 改成使用 Adam 並加上適當的 dropout rate 檢視結果"
   ]
  }
 ],
 "metadata": {
  "kernelspec": {
   "display_name": "Python 3",
   "language": "python",
   "name": "python3"
  },
  "language_info": {
   "codemirror_mode": {
    "name": "ipython",
    "version": 3
   },
   "file_extension": ".py",
   "mimetype": "text/x-python",
   "name": "python",
   "nbconvert_exporter": "python",
   "pygments_lexer": "ipython3",
   "version": "3.7.3"
  }
 },
 "nbformat": 4,
 "nbformat_minor": 2
}
