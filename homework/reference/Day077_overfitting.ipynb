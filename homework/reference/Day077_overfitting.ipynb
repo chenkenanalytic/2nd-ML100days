{
 "cells": [
  {
   "cell_type": "markdown",
   "metadata": {},
   "source": [
    "## 範例重點\n",
    "* 學會從 Keras 內建函式取得資料\n",
    "* 能夠建立簡易的深度學習模型\n",
    "* 觀察並了解 Overfit 現象"
   ]
  },
  {
   "cell_type": "code",
   "execution_count": 1,
   "metadata": {},
   "outputs": [
    {
     "name": "stderr",
     "output_type": "stream",
     "text": [
      "Using TensorFlow backend.\n"
     ]
    }
   ],
   "source": [
    "import os\n",
    "import keras\n",
    "\n",
    "# 本範例不需使用 GPU, 將 GPU 設定為 \"無\"\n",
    "os.environ[\"CUDA_VISIBLE_DEVICES\"] = \"\""
   ]
  },
  {
   "cell_type": "code",
   "execution_count": 2,
   "metadata": {},
   "outputs": [],
   "source": [
    "# 從 Keras 的內建功能中，取得 train 與 test 資料集\n",
    "train, test = keras.datasets.cifar10.load_data()"
   ]
  },
  {
   "cell_type": "code",
   "execution_count": 3,
   "metadata": {},
   "outputs": [],
   "source": [
    "# 將 X 與 Y 獨立放進變數\n",
    "x_train, y_train = train\n",
    "x_test, y_test = test\n",
    "# 資料前處理 - 標準化\n",
    "x_train = x_train / 255.\n",
    "x_test = x_test / 255.\n",
    "\n",
    "# 將資料從圖形 (RGB) 轉為向量 (Single Vector)\n",
    "x_train = x_train.reshape((len(x_train), -1))\n",
    "x_test = x_test.reshape((len(x_test), -1))\n",
    "\n",
    "# 將目標轉為 one-hot encoding\n",
    "y_train = keras.utils.to_categorical(y_train, num_classes=10)\n",
    "y_test = keras.utils.to_categorical(y_test, num_classes=10)"
   ]
  },
  {
   "cell_type": "code",
   "execution_count": 4,
   "metadata": {},
   "outputs": [],
   "source": [
    "# 建立一個有三層隱藏層之神經網路\n",
    "def build_mlp():\n",
    "    input_layer = keras.layers.Input([x_train.shape[-1]])\n",
    "    x = keras.layers.Dense(units=512, activation=\"relu\")(input_layer)\n",
    "    x = keras.layers.Dense(units=256, activation=\"relu\")(x)\n",
    "    x = keras.layers.Dense(units=128, activation=\"relu\")(x)\n",
    "    out = keras.layers.Dense(units=10, activation=\"softmax\")(x)\n",
    "    \n",
    "    model = keras.models.Model(inputs=[input_layer], outputs=[out])\n",
    "    return model"
   ]
  },
  {
   "cell_type": "code",
   "execution_count": 5,
   "metadata": {},
   "outputs": [
    {
     "name": "stdout",
     "output_type": "stream",
     "text": [
      "WARNING:tensorflow:From C:\\Users\\KenChen\\AppData\\Local\\Continuum\\anaconda3\\lib\\site-packages\\tensorflow\\python\\framework\\op_def_library.py:263: colocate_with (from tensorflow.python.framework.ops) is deprecated and will be removed in a future version.\n",
      "Instructions for updating:\n",
      "Colocations handled automatically by placer.\n",
      "_________________________________________________________________\n",
      "Layer (type)                 Output Shape              Param #   \n",
      "=================================================================\n",
      "input_1 (InputLayer)         (None, 3072)              0         \n",
      "_________________________________________________________________\n",
      "dense_1 (Dense)              (None, 512)               1573376   \n",
      "_________________________________________________________________\n",
      "dense_2 (Dense)              (None, 256)               131328    \n",
      "_________________________________________________________________\n",
      "dense_3 (Dense)              (None, 128)               32896     \n",
      "_________________________________________________________________\n",
      "dense_4 (Dense)              (None, 10)                1290      \n",
      "=================================================================\n",
      "Total params: 1,738,890\n",
      "Trainable params: 1,738,890\n",
      "Non-trainable params: 0\n",
      "_________________________________________________________________\n"
     ]
    }
   ],
   "source": [
    "model = build_mlp()\n",
    "# 用 Keras 內建方法檢視模型各層參數量\n",
    "model.summary()\n",
    "\n",
    "optimizer = keras.optimizers.Adam(lr=0.001)\n",
    "model.compile(loss=\"categorical_crossentropy\", metrics=[\"accuracy\"], optimizer=optimizer)"
   ]
  },
  {
   "cell_type": "code",
   "execution_count": 6,
   "metadata": {},
   "outputs": [
    {
     "name": "stdout",
     "output_type": "stream",
     "text": [
      "WARNING:tensorflow:From C:\\Users\\KenChen\\AppData\\Local\\Continuum\\anaconda3\\lib\\site-packages\\tensorflow\\python\\ops\\math_ops.py:3066: to_int32 (from tensorflow.python.ops.math_ops) is deprecated and will be removed in a future version.\n",
      "Instructions for updating:\n",
      "Use tf.cast instead.\n",
      "Train on 50000 samples, validate on 10000 samples\n",
      "Epoch 1/100\n",
      "50000/50000 [==============================] - 18s 368us/step - loss: 1.9238 - acc: 0.3108 - val_loss: 1.7963 - val_acc: 0.3479\n",
      "Epoch 2/100\n",
      "50000/50000 [==============================] - 16s 322us/step - loss: 1.7167 - acc: 0.3852 - val_loss: 1.6778 - val_acc: 0.4002\n",
      "Epoch 3/100\n",
      "50000/50000 [==============================] - 17s 342us/step - loss: 1.6147 - acc: 0.4256 - val_loss: 1.5746 - val_acc: 0.4417\n",
      "Epoch 4/100\n",
      "50000/50000 [==============================] - 16s 313us/step - loss: 1.5487 - acc: 0.4467 - val_loss: 1.5729 - val_acc: 0.4377\n",
      "Epoch 5/100\n",
      "50000/50000 [==============================] - 15s 290us/step - loss: 1.5047 - acc: 0.4642 - val_loss: 1.4944 - val_acc: 0.4684\n",
      "Epoch 6/100\n",
      "50000/50000 [==============================] - 16s 326us/step - loss: 1.4700 - acc: 0.4752 - val_loss: 1.5290 - val_acc: 0.4488\n",
      "Epoch 7/100\n",
      "50000/50000 [==============================] - 15s 307us/step - loss: 1.4324 - acc: 0.4914 - val_loss: 1.4918 - val_acc: 0.4659\n",
      "Epoch 8/100\n",
      "50000/50000 [==============================] - 14s 286us/step - loss: 1.4152 - acc: 0.4931 - val_loss: 1.4480 - val_acc: 0.4876\n",
      "Epoch 9/100\n",
      "50000/50000 [==============================] - 15s 295us/step - loss: 1.3778 - acc: 0.5082 - val_loss: 1.4361 - val_acc: 0.4989\n",
      "Epoch 10/100\n",
      "50000/50000 [==============================] - 16s 321us/step - loss: 1.3445 - acc: 0.5211 - val_loss: 1.4359 - val_acc: 0.4891\n",
      "Epoch 11/100\n",
      "50000/50000 [==============================] - 15s 299us/step - loss: 1.3210 - acc: 0.5302 - val_loss: 1.4227 - val_acc: 0.4915\n",
      "Epoch 12/100\n",
      "50000/50000 [==============================] - 14s 283us/step - loss: 1.3032 - acc: 0.5374 - val_loss: 1.3919 - val_acc: 0.5095\n",
      "Epoch 13/100\n",
      "50000/50000 [==============================] - 16s 324us/step - loss: 1.2682 - acc: 0.5486 - val_loss: 1.3875 - val_acc: 0.5109\n",
      "Epoch 14/100\n",
      "50000/50000 [==============================] - 15s 303us/step - loss: 1.2451 - acc: 0.5560 - val_loss: 1.4161 - val_acc: 0.5063\n",
      "Epoch 15/100\n",
      "50000/50000 [==============================] - 17s 338us/step - loss: 1.2205 - acc: 0.5658 - val_loss: 1.3830 - val_acc: 0.5105\n",
      "Epoch 16/100\n",
      "50000/50000 [==============================] - 15s 300us/step - loss: 1.2029 - acc: 0.5716 - val_loss: 1.4067 - val_acc: 0.5030\n",
      "Epoch 17/100\n",
      "50000/50000 [==============================] - 16s 322us/step - loss: 1.1811 - acc: 0.5778 - val_loss: 1.4162 - val_acc: 0.4984\n",
      "Epoch 18/100\n",
      "50000/50000 [==============================] - 17s 341us/step - loss: 1.1578 - acc: 0.5843 - val_loss: 1.4425 - val_acc: 0.5082\n",
      "Epoch 19/100\n",
      "50000/50000 [==============================] - 17s 341us/step - loss: 1.1366 - acc: 0.5947 - val_loss: 1.3906 - val_acc: 0.5181\n",
      "Epoch 20/100\n",
      "50000/50000 [==============================] - 16s 328us/step - loss: 1.1278 - acc: 0.5976 - val_loss: 1.3811 - val_acc: 0.5119\n",
      "Epoch 21/100\n",
      "50000/50000 [==============================] - 16s 327us/step - loss: 1.0982 - acc: 0.6065 - val_loss: 1.3480 - val_acc: 0.5309\n",
      "Epoch 22/100\n",
      "50000/50000 [==============================] - 16s 323us/step - loss: 1.0686 - acc: 0.6185 - val_loss: 1.3726 - val_acc: 0.5283\n",
      "Epoch 23/100\n",
      "50000/50000 [==============================] - 17s 342us/step - loss: 1.0617 - acc: 0.6223 - val_loss: 1.4014 - val_acc: 0.5170\n",
      "Epoch 24/100\n",
      "50000/50000 [==============================] - 16s 324us/step - loss: 1.0379 - acc: 0.6297 - val_loss: 1.4362 - val_acc: 0.5140\n",
      "Epoch 25/100\n",
      "50000/50000 [==============================] - 15s 307us/step - loss: 1.0192 - acc: 0.6355 - val_loss: 1.4182 - val_acc: 0.5171\n",
      "Epoch 26/100\n",
      "50000/50000 [==============================] - 16s 325us/step - loss: 0.9956 - acc: 0.6436 - val_loss: 1.3907 - val_acc: 0.5337\n",
      "Epoch 27/100\n",
      "50000/50000 [==============================] - 16s 320us/step - loss: 0.9755 - acc: 0.6520 - val_loss: 1.3929 - val_acc: 0.5363\n",
      "Epoch 28/100\n",
      "50000/50000 [==============================] - 16s 322us/step - loss: 0.9655 - acc: 0.6569 - val_loss: 1.4257 - val_acc: 0.5249\n",
      "Epoch 29/100\n",
      "50000/50000 [==============================] - 16s 325us/step - loss: 0.9382 - acc: 0.6657 - val_loss: 1.4201 - val_acc: 0.5266\n",
      "Epoch 30/100\n",
      "50000/50000 [==============================] - 15s 303us/step - loss: 0.9241 - acc: 0.6686 - val_loss: 1.4316 - val_acc: 0.5290\n",
      "Epoch 31/100\n",
      "50000/50000 [==============================] - 15s 291us/step - loss: 0.9047 - acc: 0.6767 - val_loss: 1.4462 - val_acc: 0.5236\n",
      "Epoch 32/100\n",
      "50000/50000 [==============================] - 15s 296us/step - loss: 0.8884 - acc: 0.6826 - val_loss: 1.5127 - val_acc: 0.5186\n",
      "Epoch 33/100\n",
      "50000/50000 [==============================] - 14s 287us/step - loss: 0.8738 - acc: 0.6874 - val_loss: 1.4881 - val_acc: 0.5282\n",
      "Epoch 34/100\n",
      "50000/50000 [==============================] - 19s 371us/step - loss: 0.8504 - acc: 0.6967 - val_loss: 1.4990 - val_acc: 0.5177\n",
      "Epoch 35/100\n",
      "50000/50000 [==============================] - 15s 304us/step - loss: 0.8397 - acc: 0.6988 - val_loss: 1.5127 - val_acc: 0.5249\n",
      "Epoch 36/100\n",
      "50000/50000 [==============================] - 14s 276us/step - loss: 0.8309 - acc: 0.7034 - val_loss: 1.5482 - val_acc: 0.5086\n",
      "Epoch 37/100\n",
      "50000/50000 [==============================] - 14s 280us/step - loss: 0.8117 - acc: 0.7112 - val_loss: 1.5773 - val_acc: 0.5237\n",
      "Epoch 38/100\n",
      "50000/50000 [==============================] - 16s 318us/step - loss: 0.7935 - acc: 0.7156 - val_loss: 1.5909 - val_acc: 0.5120\n",
      "Epoch 39/100\n",
      "50000/50000 [==============================] - 15s 294us/step - loss: 0.7746 - acc: 0.7239 - val_loss: 1.6088 - val_acc: 0.5215\n",
      "Epoch 40/100\n",
      "50000/50000 [==============================] - 15s 300us/step - loss: 0.7606 - acc: 0.7278 - val_loss: 1.6160 - val_acc: 0.5169\n",
      "Epoch 41/100\n",
      "50000/50000 [==============================] - 16s 330us/step - loss: 0.7428 - acc: 0.7334 - val_loss: 1.6121 - val_acc: 0.5103\n",
      "Epoch 42/100\n",
      "50000/50000 [==============================] - 14s 288us/step - loss: 0.7405 - acc: 0.7359 - val_loss: 1.6328 - val_acc: 0.5173\n",
      "Epoch 43/100\n",
      "50000/50000 [==============================] - 15s 307us/step - loss: 0.7314 - acc: 0.7390 - val_loss: 1.6731 - val_acc: 0.5133\n",
      "Epoch 44/100\n",
      "50000/50000 [==============================] - 15s 293us/step - loss: 0.7122 - acc: 0.7432 - val_loss: 1.7384 - val_acc: 0.5137\n",
      "Epoch 45/100\n",
      "50000/50000 [==============================] - 15s 310us/step - loss: 0.6873 - acc: 0.7533 - val_loss: 1.6699 - val_acc: 0.5245\n",
      "Epoch 46/100\n",
      "50000/50000 [==============================] - 16s 317us/step - loss: 0.6717 - acc: 0.7607 - val_loss: 1.7419 - val_acc: 0.5137\n",
      "Epoch 47/100\n",
      "50000/50000 [==============================] - 17s 335us/step - loss: 0.6632 - acc: 0.7625 - val_loss: 1.7296 - val_acc: 0.5153\n",
      "Epoch 48/100\n",
      "50000/50000 [==============================] - 17s 335us/step - loss: 0.6435 - acc: 0.7693 - val_loss: 1.8103 - val_acc: 0.5096\n",
      "Epoch 49/100\n",
      "50000/50000 [==============================] - 16s 328us/step - loss: 0.6421 - acc: 0.7706 - val_loss: 1.8461 - val_acc: 0.5111\n",
      "Epoch 50/100\n",
      "50000/50000 [==============================] - 16s 321us/step - loss: 0.6270 - acc: 0.7766 - val_loss: 1.8214 - val_acc: 0.5174\n",
      "Epoch 51/100\n",
      "50000/50000 [==============================] - 16s 317us/step - loss: 0.6155 - acc: 0.7798 - val_loss: 1.8676 - val_acc: 0.5114\n",
      "Epoch 52/100\n",
      "50000/50000 [==============================] - 16s 316us/step - loss: 0.5980 - acc: 0.7874 - val_loss: 1.8969 - val_acc: 0.5031\n",
      "Epoch 53/100\n",
      "50000/50000 [==============================] - 17s 333us/step - loss: 0.5806 - acc: 0.7930 - val_loss: 1.8923 - val_acc: 0.5087\n",
      "Epoch 54/100\n",
      "50000/50000 [==============================] - 16s 330us/step - loss: 0.5746 - acc: 0.7950 - val_loss: 1.9595 - val_acc: 0.5165\n",
      "Epoch 55/100\n",
      "50000/50000 [==============================] - 15s 293us/step - loss: 0.5528 - acc: 0.8024 - val_loss: 1.9541 - val_acc: 0.5137\n",
      "Epoch 56/100\n",
      "50000/50000 [==============================] - 14s 286us/step - loss: 0.5516 - acc: 0.8022 - val_loss: 1.9901 - val_acc: 0.5081\n"
     ]
    },
    {
     "name": "stdout",
     "output_type": "stream",
     "text": [
      "Epoch 57/100\n",
      "50000/50000 [==============================] - 16s 323us/step - loss: 0.5367 - acc: 0.8092 - val_loss: 2.0252 - val_acc: 0.5078\n",
      "Epoch 58/100\n",
      "50000/50000 [==============================] - 17s 337us/step - loss: 0.5251 - acc: 0.8126 - val_loss: 1.9952 - val_acc: 0.5201\n",
      "Epoch 59/100\n",
      "50000/50000 [==============================] - 16s 324us/step - loss: 0.5171 - acc: 0.8135 - val_loss: 2.0853 - val_acc: 0.5013\n",
      "Epoch 60/100\n",
      "50000/50000 [==============================] - 17s 344us/step - loss: 0.5076 - acc: 0.8170 - val_loss: 2.0884 - val_acc: 0.4994\n",
      "Epoch 61/100\n",
      "50000/50000 [==============================] - 20s 401us/step - loss: 0.4968 - acc: 0.8207 - val_loss: 2.1395 - val_acc: 0.5068\n",
      "Epoch 62/100\n",
      "50000/50000 [==============================] - 23s 465us/step - loss: 0.5009 - acc: 0.8204 - val_loss: 2.1303 - val_acc: 0.5048\n",
      "Epoch 63/100\n",
      "50000/50000 [==============================] - 22s 442us/step - loss: 0.4707 - acc: 0.8335 - val_loss: 2.1933 - val_acc: 0.5066\n",
      "Epoch 64/100\n",
      "50000/50000 [==============================] - 22s 444us/step - loss: 0.4737 - acc: 0.8301 - val_loss: 2.2854 - val_acc: 0.5033\n",
      "Epoch 65/100\n",
      "50000/50000 [==============================] - 21s 417us/step - loss: 0.4706 - acc: 0.8311 - val_loss: 2.2512 - val_acc: 0.5039\n",
      "Epoch 66/100\n",
      "50000/50000 [==============================] - 20s 402us/step - loss: 0.4623 - acc: 0.8349 - val_loss: 2.2876 - val_acc: 0.5060\n",
      "Epoch 67/100\n",
      "50000/50000 [==============================] - 20s 409us/step - loss: 0.4346 - acc: 0.8451 - val_loss: 2.3642 - val_acc: 0.4945\n",
      "Epoch 68/100\n",
      "50000/50000 [==============================] - 21s 411us/step - loss: 0.4255 - acc: 0.8475 - val_loss: 2.3491 - val_acc: 0.5060\n",
      "Epoch 69/100\n",
      "50000/50000 [==============================] - 21s 412us/step - loss: 0.4275 - acc: 0.8465 - val_loss: 2.3181 - val_acc: 0.4979\n",
      "Epoch 70/100\n",
      "50000/50000 [==============================] - 21s 416us/step - loss: 0.4313 - acc: 0.8443 - val_loss: 2.3722 - val_acc: 0.5060\n",
      "Epoch 71/100\n",
      "50000/50000 [==============================] - 21s 420us/step - loss: 0.4140 - acc: 0.8502 - val_loss: 2.4650 - val_acc: 0.4911\n",
      "Epoch 72/100\n",
      "50000/50000 [==============================] - 21s 421us/step - loss: 0.4266 - acc: 0.8465 - val_loss: 2.4361 - val_acc: 0.5062\n",
      "Epoch 73/100\n",
      "50000/50000 [==============================] - 21s 414us/step - loss: 0.4064 - acc: 0.8547 - val_loss: 2.3730 - val_acc: 0.5065\n",
      "Epoch 74/100\n",
      "50000/50000 [==============================] - 21s 412us/step - loss: 0.4002 - acc: 0.8556 - val_loss: 2.4399 - val_acc: 0.5079\n",
      "Epoch 75/100\n",
      "50000/50000 [==============================] - 21s 413us/step - loss: 0.3718 - acc: 0.8675 - val_loss: 2.6026 - val_acc: 0.4933\n",
      "Epoch 76/100\n",
      "50000/50000 [==============================] - 21s 420us/step - loss: 0.3727 - acc: 0.8643 - val_loss: 2.5488 - val_acc: 0.5021\n",
      "Epoch 77/100\n",
      "50000/50000 [==============================] - 22s 438us/step - loss: 0.3673 - acc: 0.8672 - val_loss: 2.6920 - val_acc: 0.4935\n",
      "Epoch 78/100\n",
      "50000/50000 [==============================] - 22s 437us/step - loss: 0.3829 - acc: 0.8611 - val_loss: 2.6111 - val_acc: 0.4994\n",
      "Epoch 79/100\n",
      "50000/50000 [==============================] - 21s 424us/step - loss: 0.3581 - acc: 0.8708 - val_loss: 2.6296 - val_acc: 0.5026\n",
      "Epoch 80/100\n",
      "50000/50000 [==============================] - 21s 414us/step - loss: 0.3561 - acc: 0.8712 - val_loss: 2.6830 - val_acc: 0.5059\n",
      "Epoch 81/100\n",
      "50000/50000 [==============================] - 21s 414us/step - loss: 0.3440 - acc: 0.8761 - val_loss: 2.6981 - val_acc: 0.4973\n",
      "Epoch 82/100\n",
      "50000/50000 [==============================] - 21s 414us/step - loss: 0.3609 - acc: 0.8696 - val_loss: 2.8032 - val_acc: 0.4988\n",
      "Epoch 83/100\n",
      "50000/50000 [==============================] - 21s 429us/step - loss: 0.3443 - acc: 0.8773 - val_loss: 2.8008 - val_acc: 0.4915\n",
      "Epoch 84/100\n",
      "50000/50000 [==============================] - 21s 417us/step - loss: 0.3355 - acc: 0.8784 - val_loss: 2.8846 - val_acc: 0.4968\n",
      "Epoch 85/100\n",
      "50000/50000 [==============================] - 21s 413us/step - loss: 0.3365 - acc: 0.8787 - val_loss: 2.8054 - val_acc: 0.5046\n",
      "Epoch 86/100\n",
      "50000/50000 [==============================] - 21s 415us/step - loss: 0.2953 - acc: 0.8936 - val_loss: 2.8444 - val_acc: 0.4997\n",
      "Epoch 87/100\n",
      "50000/50000 [==============================] - 21s 418us/step - loss: 0.3323 - acc: 0.8807 - val_loss: 2.8679 - val_acc: 0.4988\n",
      "Epoch 88/100\n",
      "50000/50000 [==============================] - 21s 411us/step - loss: 0.3189 - acc: 0.8847 - val_loss: 2.8842 - val_acc: 0.4958\n",
      "Epoch 89/100\n",
      "50000/50000 [==============================] - 21s 413us/step - loss: 0.3084 - acc: 0.8897 - val_loss: 2.9596 - val_acc: 0.4935\n",
      "Epoch 90/100\n",
      "50000/50000 [==============================] - 21s 419us/step - loss: 0.3049 - acc: 0.8906 - val_loss: 3.0730 - val_acc: 0.4898\n",
      "Epoch 91/100\n",
      "50000/50000 [==============================] - 22s 437us/step - loss: 0.3237 - acc: 0.8842 - val_loss: 2.9141 - val_acc: 0.4982\n",
      "Epoch 92/100\n",
      "50000/50000 [==============================] - 23s 451us/step - loss: 0.2966 - acc: 0.8913 - val_loss: 2.9993 - val_acc: 0.4977\n",
      "Epoch 93/100\n",
      "50000/50000 [==============================] - 22s 448us/step - loss: 0.3117 - acc: 0.8867 - val_loss: 3.0044 - val_acc: 0.4981\n",
      "Epoch 94/100\n",
      "50000/50000 [==============================] - 21s 412us/step - loss: 0.2833 - acc: 0.8985 - val_loss: 2.9988 - val_acc: 0.4988\n",
      "Epoch 95/100\n",
      "50000/50000 [==============================] - 21s 416us/step - loss: 0.2793 - acc: 0.9004 - val_loss: 3.0553 - val_acc: 0.4949\n",
      "Epoch 96/100\n",
      "50000/50000 [==============================] - 21s 413us/step - loss: 0.2912 - acc: 0.8952 - val_loss: 3.0701 - val_acc: 0.4860\n",
      "Epoch 97/100\n",
      "50000/50000 [==============================] - 21s 418us/step - loss: 0.2951 - acc: 0.8929 - val_loss: 3.1252 - val_acc: 0.4966\n",
      "Epoch 98/100\n",
      "50000/50000 [==============================] - 21s 421us/step - loss: 0.2539 - acc: 0.9093 - val_loss: 3.0891 - val_acc: 0.4939\n",
      "Epoch 99/100\n",
      "50000/50000 [==============================] - 21s 417us/step - loss: 0.2663 - acc: 0.9043 - val_loss: 3.2648 - val_acc: 0.4962\n",
      "Epoch 100/100\n",
      "50000/50000 [==============================] - 21s 422us/step - loss: 0.2777 - acc: 0.8989 - val_loss: 3.1819 - val_acc: 0.4927\n"
     ]
    },
    {
     "data": {
      "text/plain": [
       "<keras.callbacks.History at 0x2b24c372940>"
      ]
     },
     "execution_count": 6,
     "metadata": {},
     "output_type": "execute_result"
    }
   ],
   "source": [
    "# 訓練模型並檢視驗證集的結果\n",
    "model.fit(x_train, y_train, \n",
    "          epochs=100, \n",
    "          batch_size=256, \n",
    "          validation_data=(x_test, y_test), \n",
    "          shuffle=True)"
   ]
  },
  {
   "cell_type": "code",
   "execution_count": 10,
   "metadata": {},
   "outputs": [
    {
     "data": {
      "image/png": "[encoded data removed]",
      "text/plain": [
       "<Figure size 432x288 with 1 Axes>"
      ]
     },
     "metadata": {
      "needs_background": "light"
     },
     "output_type": "display_data"
    }
   ],
   "source": [
    "# 以視覺畫方式檢視訓練過程\n",
    "import matplotlib.pyplot as plt\n",
    "train_loss = model.history.history[\"loss\"]\n",
    "valid_loss = model.history.history[\"val_loss\"]\n",
    "\n",
    "train_acc = model.history.history[\"acc\"]\n",
    "valid_acc = model.history.history[\"val_acc\"]\n",
    "\n",
    "plt.plot(range(len(train_loss)), train_loss, label=\"train loss\")\n",
    "plt.plot(range(len(valid_loss)), valid_loss, label=\"valid loss\")\n",
    "plt.legend()\n",
    "plt.title(\"Loss\")\n",
    "plt.show()"
   ]
  },
  {
   "cell_type": "code",
   "execution_count": 11,
   "metadata": {},
   "outputs": [
    {
     "data": {
      "image/png": "[encoded data removed]",
      "text/plain": [
       "<Figure size 432x288 with 1 Axes>"
      ]
     },
     "metadata": {
      "needs_background": "light"
     },
     "output_type": "display_data"
    }
   ],
   "source": [
    "plt.plot(range(len(train_acc)), train_acc, label=\"train accuracy\")\n",
    "plt.plot(range(len(valid_acc)), valid_acc, label=\"valid accuracy\")\n",
    "plt.legend()\n",
    "plt.title(\"Accuracy\")\n",
    "plt.show()"
   ]
  },
  {
   "cell_type": "markdown",
   "metadata": {},
   "source": [
    "## 作業\n",
    "1. 請將 Epoch 加到 500 個，並觀察 learning curve 的走勢\n",
    "2. 請將 Optimizer 換成 SGD，並觀察 learning curve 的走勢"
   ]
  }
 ],
 "metadata": {
  "kernelspec": {
   "display_name": "Python 3",
   "language": "python",
   "name": "python3"
  },
  "language_info": {
   "codemirror_mode": {
    "name": "ipython",
    "version": 3
   },
   "file_extension": ".py",
   "mimetype": "text/x-python",
   "name": "python",
   "nbconvert_exporter": "python",
   "pygments_lexer": "ipython3",
   "version": "3.7.3"
  }
 },
 "nbformat": 4,
 "nbformat_minor": 2
}
