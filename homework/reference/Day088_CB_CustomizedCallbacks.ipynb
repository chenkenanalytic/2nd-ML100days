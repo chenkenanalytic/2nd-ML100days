{
 "cells": [
  {
   "cell_type": "markdown",
   "metadata": {},
   "source": [
    "## 範例重點\n",
    "* 學習如何在 keras 中加入自定義的 callbacks\n",
    "* 知道 callback function 可以動作的時機"
   ]
  },
  {
   "cell_type": "code",
   "execution_count": 1,
   "metadata": {},
   "outputs": [
    {
     "name": "stderr",
     "output_type": "stream",
     "text": [
      "Using TensorFlow backend.\n"
     ]
    }
   ],
   "source": [
    "import os\n",
    "import keras\n",
    "\n",
    "# 本範例不需使用 GPU, 將 GPU 設定為 \"無\"\n",
    "os.environ[\"CUDA_VISIBLE_DEVICES\"] = \"\""
   ]
  },
  {
   "cell_type": "code",
   "execution_count": 2,
   "metadata": {},
   "outputs": [],
   "source": [
    "train, test = keras.datasets.cifar10.load_data()"
   ]
  },
  {
   "cell_type": "code",
   "execution_count": 3,
   "metadata": {},
   "outputs": [],
   "source": [
    "## 資料前處理\n",
    "def preproc_x(x, flatten=True):\n",
    "    x = x / 255.\n",
    "    if flatten:\n",
    "        x = x.reshape((len(x), -1))\n",
    "    return x\n",
    "\n",
    "def preproc_y(y, num_classes=10):\n",
    "    if y.shape[-1] == 1:\n",
    "        y = keras.utils.to_categorical(y, num_classes)\n",
    "    return y    "
   ]
  },
  {
   "cell_type": "code",
   "execution_count": 11,
   "metadata": {},
   "outputs": [
    {
     "data": {
      "text/plain": [
       "array([[0., 0., 0., ..., 0., 0., 0.],\n",
       "       [0., 0., 0., ..., 0., 0., 1.],\n",
       "       [0., 0., 0., ..., 0., 0., 1.],\n",
       "       ...,\n",
       "       [0., 0., 0., ..., 0., 0., 1.],\n",
       "       [0., 1., 0., ..., 0., 0., 0.],\n",
       "       [0., 1., 0., ..., 0., 0., 0.]], dtype=float32)"
      ]
     },
     "execution_count": 11,
     "metadata": {},
     "output_type": "execute_result"
    }
   ],
   "source": [
    "x_train, y_train = train\n",
    "x_test, y_test = test\n",
    "\n",
    "# 資料前處理 - X 標準化\n",
    "x_train = preproc_x(x_train)\n",
    "x_test = preproc_x(x_test)\n",
    "\n",
    "# 資料前處理 -Y 轉成 onehot\n",
    "y_train = preproc_y(y_train)\n",
    "y_test = preproc_y(y_test)"
   ]
  },
  {
   "cell_type": "code",
   "execution_count": 5,
   "metadata": {},
   "outputs": [],
   "source": [
    "from keras.layers import BatchNormalization\n",
    "\n",
    "\"\"\"\n",
    "建立神經網路，並加入 BN layer\n",
    "\"\"\"\n",
    "def build_mlp(input_shape, output_units=10, num_neurons=[512, 256, 128]):\n",
    "    input_layer = keras.layers.Input(input_shape)\n",
    "    \n",
    "    for i, n_units in enumerate(num_neurons):\n",
    "        if i == 0:\n",
    "            x = keras.layers.Dense(units=n_units, \n",
    "                                   activation=\"relu\", \n",
    "                                   name=\"hidden_layer\"+str(i+1))(input_layer)\n",
    "            x = BatchNormalization()(x)\n",
    "        else:\n",
    "            x = keras.layers.Dense(units=n_units, \n",
    "                                   activation=\"relu\", \n",
    "                                   name=\"hidden_layer\"+str(i+1))(x)\n",
    "            x = BatchNormalization()(x)\n",
    "    \n",
    "    out = keras.layers.Dense(units=output_units, activation=\"softmax\", name=\"output\")(x)\n",
    "    \n",
    "    model = keras.models.Model(inputs=[input_layer], outputs=[out])\n",
    "    return model"
   ]
  },
  {
   "cell_type": "code",
   "execution_count": 6,
   "metadata": {},
   "outputs": [],
   "source": [
    "## 超參數設定\n",
    "LEARNING_RATE = 1e-3\n",
    "EPOCHS = 50\n",
    "BATCH_SIZE = 1024\n",
    "MOMENTUM = 0.95"
   ]
  },
  {
   "cell_type": "code",
   "execution_count": 8,
   "metadata": {},
   "outputs": [],
   "source": [
    "\"\"\"\n",
    "# 載入 Callbacks，撰寫一個 f1 score 的 callback function\n",
    "\"\"\"\n",
    "\n",
    "from keras.callbacks import Callback\n",
    "from sklearn.metrics import f1_score\n",
    "\n",
    "class f1sc(Callback):\n",
    "    def on_train_begin(self, epoch, logs = {}):\n",
    "        logs = logs or {}\n",
    "        record_items = [\"val_auc\", \"val_f1sc\", \"val_fp\", \"val_fn\", \"val_tp\", \"val_tn\"]\n",
    "        for i in record_items:\n",
    "            if i not in self.params['metrics']:\n",
    "                self.params['metrics'].append(i)\n",
    "    \n",
    "    def on_epoch_end(self, epoch, logs = {}, thres=0.5):\n",
    "        logs = logs or {}\n",
    "        y_true = self.validation_data[1].argmax(axis = 1)\n",
    "        y_pred = self.model.predict(self.validation_data[0])\n",
    "        y_pred = (y_pred[:, 1] >= thres) * 1\n",
    "        \n",
    "        logs[\"val_f1sc\"] = f1_score(y_true = y_true, y_pred = y_pred, average=\"weighted\")\n",
    "        \n",
    "log_f1sc = f1sc()"
   ]
  },
  {
   "cell_type": "code",
   "execution_count": 9,
   "metadata": {
    "scrolled": true
   },
   "outputs": [
    {
     "name": "stdout",
     "output_type": "stream",
     "text": [
      "_________________________________________________________________\n",
      "Layer (type)                 Output Shape              Param #   \n",
      "=================================================================\n",
      "input_2 (InputLayer)         (None, 3072)              0         \n",
      "_________________________________________________________________\n",
      "hidden_layer1 (Dense)        (None, 512)               1573376   \n",
      "_________________________________________________________________\n",
      "batch_normalization_4 (Batch (None, 512)               2048      \n",
      "_________________________________________________________________\n",
      "hidden_layer2 (Dense)        (None, 256)               131328    \n",
      "_________________________________________________________________\n",
      "batch_normalization_5 (Batch (None, 256)               1024      \n",
      "_________________________________________________________________\n",
      "hidden_layer3 (Dense)        (None, 128)               32896     \n",
      "_________________________________________________________________\n",
      "batch_normalization_6 (Batch (None, 128)               512       \n",
      "_________________________________________________________________\n",
      "output (Dense)               (None, 10)                1290      \n",
      "=================================================================\n",
      "Total params: 1,742,474\n",
      "Trainable params: 1,740,682\n",
      "Non-trainable params: 1,792\n",
      "_________________________________________________________________\n",
      "WARNING:tensorflow:From C:\\Users\\KenChen\\AppData\\Local\\Continuum\\anaconda3\\lib\\site-packages\\tensorflow\\python\\ops\\math_ops.py:3066: to_int32 (from tensorflow.python.ops.math_ops) is deprecated and will be removed in a future version.\n",
      "Instructions for updating:\n",
      "Use tf.cast instead.\n",
      "Train on 50000 samples, validate on 10000 samples\n",
      "Epoch 1/50\n",
      "50000/50000 [==============================] - 9s 175us/step - loss: 2.2086 - acc: 0.2712 - val_loss: 2.1668 - val_acc: 0.3117\n",
      "Epoch 2/50\n",
      " 1024/50000 [..............................] - ETA: 6s - loss: 1.8719 - acc: 0.3457"
     ]
    },
    {
     "name": "stderr",
     "output_type": "stream",
     "text": [
      "C:\\Users\\KenChen\\AppData\\Local\\Continuum\\anaconda3\\lib\\site-packages\\sklearn\\metrics\\classification.py:1143: UndefinedMetricWarning: F-score is ill-defined and being set to 0.0 in labels with no predicted samples.\n",
      "  'precision', 'predicted', average, warn_for)\n"
     ]
    },
    {
     "name": "stdout",
     "output_type": "stream",
     "text": [
      "50000/50000 [==============================] - 8s 151us/step - loss: 1.7489 - acc: 0.3924 - val_loss: 1.8771 - val_acc: 0.3620\n",
      "Epoch 3/50\n",
      "50000/50000 [==============================] - 7s 150us/step - loss: 1.6205 - acc: 0.4342 - val_loss: 1.6987 - val_acc: 0.4126\n",
      "Epoch 4/50\n",
      "50000/50000 [==============================] - 8s 151us/step - loss: 1.5435 - acc: 0.4600 - val_loss: 1.6407 - val_acc: 0.4248\n",
      "Epoch 5/50\n",
      "50000/50000 [==============================] - 7s 149us/step - loss: 1.4867 - acc: 0.4811 - val_loss: 1.6147 - val_acc: 0.4363\n",
      "Epoch 6/50\n",
      "50000/50000 [==============================] - 7s 149us/step - loss: 1.4399 - acc: 0.4978 - val_loss: 1.5811 - val_acc: 0.4501\n",
      "Epoch 7/50\n",
      "50000/50000 [==============================] - 8s 155us/step - loss: 1.3998 - acc: 0.5116 - val_loss: 1.5518 - val_acc: 0.4559\n",
      "Epoch 8/50\n",
      "50000/50000 [==============================] - 8s 151us/step - loss: 1.3613 - acc: 0.5271 - val_loss: 1.5396 - val_acc: 0.4578\n",
      "Epoch 9/50\n",
      "50000/50000 [==============================] - 8s 162us/step - loss: 1.3296 - acc: 0.5383 - val_loss: 1.5202 - val_acc: 0.4666\n",
      "Epoch 10/50\n",
      "50000/50000 [==============================] - 9s 189us/step - loss: 1.2987 - acc: 0.5508 - val_loss: 1.5087 - val_acc: 0.4743\n",
      "Epoch 11/50\n",
      "50000/50000 [==============================] - 8s 157us/step - loss: 1.2691 - acc: 0.5614 - val_loss: 1.5031 - val_acc: 0.4768\n",
      "Epoch 12/50\n",
      "50000/50000 [==============================] - 8s 158us/step - loss: 1.2429 - acc: 0.5707 - val_loss: 1.5039 - val_acc: 0.4744\n",
      "Epoch 13/50\n",
      "50000/50000 [==============================] - 8s 156us/step - loss: 1.2167 - acc: 0.5806 - val_loss: 1.4914 - val_acc: 0.4783\n",
      "Epoch 14/50\n",
      "50000/50000 [==============================] - 8s 157us/step - loss: 1.1926 - acc: 0.5897 - val_loss: 1.4825 - val_acc: 0.4828\n",
      "Epoch 15/50\n",
      "50000/50000 [==============================] - 8s 168us/step - loss: 1.1668 - acc: 0.6004 - val_loss: 1.4714 - val_acc: 0.4848\n",
      "Epoch 16/50\n",
      "50000/50000 [==============================] - 9s 186us/step - loss: 1.1431 - acc: 0.6095 - val_loss: 1.4758 - val_acc: 0.4883\n",
      "Epoch 17/50\n",
      "50000/50000 [==============================] - 8s 167us/step - loss: 1.1205 - acc: 0.6166 - val_loss: 1.4692 - val_acc: 0.4890\n",
      "Epoch 18/50\n",
      "50000/50000 [==============================] - 9s 181us/step - loss: 1.0989 - acc: 0.6268 - val_loss: 1.4775 - val_acc: 0.4868\n",
      "Epoch 19/50\n",
      "50000/50000 [==============================] - 9s 180us/step - loss: 1.0772 - acc: 0.6356 - val_loss: 1.4785 - val_acc: 0.4877\n",
      "Epoch 20/50\n",
      "50000/50000 [==============================] - 8s 170us/step - loss: 1.0514 - acc: 0.6451 - val_loss: 1.4593 - val_acc: 0.4967\n",
      "Epoch 21/50\n",
      "50000/50000 [==============================] - 8s 163us/step - loss: 1.0332 - acc: 0.6520 - val_loss: 1.4705 - val_acc: 0.4886\n",
      "Epoch 22/50\n",
      "50000/50000 [==============================] - 8s 161us/step - loss: 1.0114 - acc: 0.6595 - val_loss: 1.4723 - val_acc: 0.4932\n",
      "Epoch 23/50\n",
      "50000/50000 [==============================] - 8s 164us/step - loss: 0.9895 - acc: 0.6677 - val_loss: 1.4760 - val_acc: 0.4936\n",
      "Epoch 24/50\n",
      "50000/50000 [==============================] - 8s 162us/step - loss: 0.9682 - acc: 0.6790 - val_loss: 1.4669 - val_acc: 0.5006\n",
      "Epoch 25/50\n",
      "50000/50000 [==============================] - 9s 171us/step - loss: 0.9505 - acc: 0.6825 - val_loss: 1.4924 - val_acc: 0.4889\n",
      "Epoch 26/50\n",
      "50000/50000 [==============================] - 8s 169us/step - loss: 0.9273 - acc: 0.6928 - val_loss: 1.4899 - val_acc: 0.4960\n",
      "Epoch 27/50\n",
      "50000/50000 [==============================] - 8s 160us/step - loss: 0.9083 - acc: 0.7014 - val_loss: 1.4809 - val_acc: 0.4961\n",
      "Epoch 28/50\n",
      "50000/50000 [==============================] - 9s 182us/step - loss: 0.8896 - acc: 0.7079 - val_loss: 1.4897 - val_acc: 0.4991\n",
      "Epoch 29/50\n",
      "50000/50000 [==============================] - 10s 191us/step - loss: 0.8667 - acc: 0.7173 - val_loss: 1.4880 - val_acc: 0.4989\n",
      "Epoch 30/50\n",
      "50000/50000 [==============================] - 10s 207us/step - loss: 0.8481 - acc: 0.7240 - val_loss: 1.4911 - val_acc: 0.4989\n",
      "Epoch 31/50\n",
      "50000/50000 [==============================] - 10s 197us/step - loss: 0.8283 - acc: 0.7300 - val_loss: 1.4906 - val_acc: 0.5017\n",
      "Epoch 32/50\n",
      "50000/50000 [==============================] - 10s 206us/step - loss: 0.8081 - acc: 0.7406 - val_loss: 1.5079 - val_acc: 0.4956\n",
      "Epoch 33/50\n",
      "50000/50000 [==============================] - 8s 156us/step - loss: 0.7897 - acc: 0.7453 - val_loss: 1.5150 - val_acc: 0.4958\n",
      "Epoch 34/50\n",
      "50000/50000 [==============================] - 7s 149us/step - loss: 0.7720 - acc: 0.7547 - val_loss: 1.5201 - val_acc: 0.4972\n",
      "Epoch 35/50\n",
      "50000/50000 [==============================] - 8s 162us/step - loss: 0.7529 - acc: 0.7615 - val_loss: 1.5125 - val_acc: 0.5024\n",
      "Epoch 36/50\n",
      "50000/50000 [==============================] - 7s 148us/step - loss: 0.7324 - acc: 0.7690 - val_loss: 1.5322 - val_acc: 0.4956\n",
      "Epoch 37/50\n",
      "50000/50000 [==============================] - 9s 176us/step - loss: 0.7151 - acc: 0.7747 - val_loss: 1.5416 - val_acc: 0.4998\n",
      "Epoch 38/50\n",
      "50000/50000 [==============================] - 9s 183us/step - loss: 0.6964 - acc: 0.7831 - val_loss: 1.5458 - val_acc: 0.4955\n",
      "Epoch 39/50\n",
      "50000/50000 [==============================] - 9s 172us/step - loss: 0.6762 - acc: 0.7907 - val_loss: 1.5707 - val_acc: 0.4919\n",
      "Epoch 40/50\n",
      "50000/50000 [==============================] - 8s 152us/step - loss: 0.6578 - acc: 0.7990 - val_loss: 1.5896 - val_acc: 0.4916\n",
      "Epoch 41/50\n",
      "50000/50000 [==============================] - 7s 148us/step - loss: 0.6393 - acc: 0.8053 - val_loss: 1.5843 - val_acc: 0.4919\n",
      "Epoch 42/50\n",
      "50000/50000 [==============================] - 7s 149us/step - loss: 0.6238 - acc: 0.8117 - val_loss: 1.6258 - val_acc: 0.4887\n",
      "Epoch 43/50\n",
      "50000/50000 [==============================] - 7s 148us/step - loss: 0.6044 - acc: 0.8195 - val_loss: 1.6072 - val_acc: 0.4932\n",
      "Epoch 44/50\n",
      "50000/50000 [==============================] - 7s 150us/step - loss: 0.5883 - acc: 0.8255 - val_loss: 1.6060 - val_acc: 0.4907\n",
      "Epoch 45/50\n",
      "50000/50000 [==============================] - 7s 149us/step - loss: 0.5697 - acc: 0.8323 - val_loss: 1.6442 - val_acc: 0.4883\n",
      "Epoch 46/50\n",
      "50000/50000 [==============================] - 8s 155us/step - loss: 0.5528 - acc: 0.8405 - val_loss: 1.6425 - val_acc: 0.4931\n",
      "Epoch 47/50\n",
      "50000/50000 [==============================] - 8s 158us/step - loss: 0.5353 - acc: 0.8468 - val_loss: 1.6567 - val_acc: 0.4904\n",
      "Epoch 48/50\n",
      "50000/50000 [==============================] - 7s 149us/step - loss: 0.5192 - acc: 0.8537 - val_loss: 1.6626 - val_acc: 0.4904\n",
      "Epoch 49/50\n",
      "50000/50000 [==============================] - 8s 166us/step - loss: 0.5028 - acc: 0.8611 - val_loss: 1.6782 - val_acc: 0.4944\n",
      "Epoch 50/50\n",
      "50000/50000 [==============================] - 8s 170us/step - loss: 0.4886 - acc: 0.8650 - val_loss: 1.6892 - val_acc: 0.4935\n"
     ]
    }
   ],
   "source": [
    "model = build_mlp(input_shape=x_train.shape[1:])\n",
    "model.summary()\n",
    "optimizer = keras.optimizers.SGD(lr=LEARNING_RATE, nesterov=True, momentum=MOMENTUM)\n",
    "model.compile(loss=\"categorical_crossentropy\", metrics=[\"accuracy\"], optimizer=optimizer)\n",
    "\n",
    "model.fit(x_train, y_train, \n",
    "          epochs=EPOCHS, \n",
    "          batch_size=BATCH_SIZE, \n",
    "          validation_data=(x_test, y_test), \n",
    "          shuffle=True,\n",
    "          callbacks=[log_f1sc]\n",
    "         )\n",
    "\n",
    "# Collect results\n",
    "train_loss = model.history.history[\"loss\"]\n",
    "valid_loss = model.history.history[\"val_loss\"]\n",
    "train_acc = model.history.history[\"acc\"]\n",
    "valid_acc = model.history.history[\"val_acc\"]\n",
    "\n",
    "# 在訓練後，將 f1sc 紀錄調出\n",
    "valid_f1sc = model.history.history['val_f1sc']"
   ]
  },
  {
   "cell_type": "code",
   "execution_count": 10,
   "metadata": {},
   "outputs": [
    {
     "data": {
      "image/png": "[encoded data removed]",
      "text/plain": [
       "<Figure size 432x288 with 1 Axes>"
      ]
     },
     "metadata": {
      "needs_background": "light"
     },
     "output_type": "display_data"
    },
    {
     "data": {
      "image/png": "[encoded data removed]",
      "text/plain": [
       "<Figure size 432x288 with 1 Axes>"
      ]
     },
     "metadata": {
      "needs_background": "light"
     },
     "output_type": "display_data"
    },
    {
     "data": {
      "image/png": "[encoded data removed]",
      "text/plain": [
       "<Figure size 432x288 with 1 Axes>"
      ]
     },
     "metadata": {
      "needs_background": "light"
     },
     "output_type": "display_data"
    }
   ],
   "source": [
    "import matplotlib.pyplot as plt\n",
    "%matplotlib inline\n",
    "\n",
    "plt.plot(range(len(train_loss)), train_loss, label=\"train loss\")\n",
    "plt.plot(range(len(valid_loss)), valid_loss, label=\"valid loss\")\n",
    "plt.legend()\n",
    "plt.title(\"Loss\")\n",
    "plt.show()\n",
    "\n",
    "plt.plot(range(len(train_acc)), train_acc, label=\"train accuracy\")\n",
    "plt.plot(range(len(valid_acc)), valid_acc, label=\"valid accuracy\")\n",
    "plt.legend()\n",
    "plt.title(\"Accuracy\")\n",
    "plt.show()\n",
    "\n",
    "plt.plot(range(len(valid_f1sc)), valid_f1sc, label=\"valid f1-score\")\n",
    "plt.legend()\n",
    "plt.title(\"F1-score\")\n",
    "plt.show()\n"
   ]
  },
  {
   "cell_type": "markdown",
   "metadata": {},
   "source": [
    "## Work\n",
    "1. 請嘗試寫一個 callback 用來記錄各類別在訓練過程中，對驗證集的 True Positive 與 True Negative"
   ]
  }
 ],
 "metadata": {
  "kernelspec": {
   "display_name": "Python 3",
   "language": "python",
   "name": "python3"
  },
  "language_info": {
   "codemirror_mode": {
    "name": "ipython",
    "version": 3
   },
   "file_extension": ".py",
   "mimetype": "text/x-python",
   "name": "python",
   "nbconvert_exporter": "python",
   "pygments_lexer": "ipython3",
   "version": "3.7.3"
  }
 },
 "nbformat": 4,
 "nbformat_minor": 2
}
