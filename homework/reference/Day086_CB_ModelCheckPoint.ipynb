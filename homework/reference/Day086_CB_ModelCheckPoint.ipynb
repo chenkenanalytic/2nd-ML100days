{
 "cells": [
  {
   "cell_type": "markdown",
   "metadata": {},
   "source": [
    "## 範例重點\n",
    "* 學習如何在 keras 中加入 model checkpoint\n",
    "* 知道如何設定監控目標\n",
    "* 比較使用最佳與非最佳參數時的 performance"
   ]
  },
  {
   "cell_type": "code",
   "execution_count": 1,
   "metadata": {},
   "outputs": [
    {
     "name": "stderr",
     "output_type": "stream",
     "text": [
      "Using TensorFlow backend.\n"
     ]
    }
   ],
   "source": [
    "import os\n",
    "import keras\n",
    "\n",
    "# 本範例不需使用 GPU, 將 GPU 設定為 \"無\"\n",
    "os.environ[\"CUDA_VISIBLE_DEVICES\"] = \"\""
   ]
  },
  {
   "cell_type": "code",
   "execution_count": 2,
   "metadata": {},
   "outputs": [],
   "source": [
    "train, test = keras.datasets.cifar10.load_data()"
   ]
  },
  {
   "cell_type": "code",
   "execution_count": 3,
   "metadata": {},
   "outputs": [],
   "source": [
    "## 資料前處理\n",
    "def preproc_x(x, flatten=True):\n",
    "    x = x / 255.\n",
    "    if flatten:\n",
    "        x = x.reshape((len(x), -1))\n",
    "    return x\n",
    "\n",
    "def preproc_y(y, num_classes=10):\n",
    "    if y.shape[-1] == 1:\n",
    "        y = keras.utils.to_categorical(y, num_classes)\n",
    "    return y    "
   ]
  },
  {
   "cell_type": "code",
   "execution_count": 4,
   "metadata": {},
   "outputs": [],
   "source": [
    "x_train, y_train = train\n",
    "x_test, y_test = test\n",
    "\n",
    "# 資料前處理 - X 標準化\n",
    "x_train = preproc_x(x_train)\n",
    "x_test = preproc_x(x_test)\n",
    "\n",
    "# 資料前處理 -Y 轉成 onehot\n",
    "y_train = preproc_y(y_train)\n",
    "y_test = preproc_y(y_test)"
   ]
  },
  {
   "cell_type": "code",
   "execution_count": 5,
   "metadata": {},
   "outputs": [],
   "source": [
    "from keras.layers import BatchNormalization\n",
    "\n",
    "\"\"\"\n",
    "建立神經網路，並加入 BN layer\n",
    "\"\"\"\n",
    "def build_mlp(input_shape, output_units=10, num_neurons=[512, 256, 128]):\n",
    "    input_layer = keras.layers.Input(input_shape)\n",
    "    \n",
    "    for i, n_units in enumerate(num_neurons):\n",
    "        if i == 0:\n",
    "            x = keras.layers.Dense(units=n_units, \n",
    "                                   activation=\"relu\", \n",
    "                                   name=\"hidden_layer\"+str(i+1))(input_layer)\n",
    "            x = BatchNormalization()(x)\n",
    "        else:\n",
    "            x = keras.layers.Dense(units=n_units, \n",
    "                                   activation=\"relu\", \n",
    "                                   name=\"hidden_layer\"+str(i+1))(x)\n",
    "            x = BatchNormalization()(x)\n",
    "    \n",
    "    out = keras.layers.Dense(units=output_units, activation=\"softmax\", name=\"output\")(x)\n",
    "    \n",
    "    model = keras.models.Model(inputs=[input_layer], outputs=[out])\n",
    "    return model"
   ]
  },
  {
   "cell_type": "code",
   "execution_count": 6,
   "metadata": {},
   "outputs": [],
   "source": [
    "## 超參數設定\n",
    "LEARNING_RATE = 1e-3\n",
    "EPOCHS = 50\n",
    "BATCH_SIZE = 1024\n",
    "MOMENTUM = 0.95"
   ]
  },
  {
   "cell_type": "code",
   "execution_count": 7,
   "metadata": {},
   "outputs": [],
   "source": [
    "\"\"\"\n",
    "# 載入 Callbacks, 並將監控目標設為 validation loss, 且只存最佳參數時的模型\n",
    "\"\"\"\n",
    "from keras.callbacks import ModelCheckpoint\n",
    "\n",
    "model_ckpt = ModelCheckpoint(filepath=\"./tmp.h5\", \n",
    "                             monitor=\"val_loss\", \n",
    "                             save_best_only=True)"
   ]
  },
  {
   "cell_type": "code",
   "execution_count": 8,
   "metadata": {
    "scrolled": true
   },
   "outputs": [
    {
     "name": "stdout",
     "output_type": "stream",
     "text": [
      "WARNING:tensorflow:From C:\\Users\\KenChen\\AppData\\Local\\Continuum\\anaconda3\\lib\\site-packages\\tensorflow\\python\\framework\\op_def_library.py:263: colocate_with (from tensorflow.python.framework.ops) is deprecated and will be removed in a future version.\n",
      "Instructions for updating:\n",
      "Colocations handled automatically by placer.\n",
      "_________________________________________________________________\n",
      "Layer (type)                 Output Shape              Param #   \n",
      "=================================================================\n",
      "input_1 (InputLayer)         (None, 3072)              0         \n",
      "_________________________________________________________________\n",
      "hidden_layer1 (Dense)        (None, 512)               1573376   \n",
      "_________________________________________________________________\n",
      "batch_normalization_1 (Batch (None, 512)               2048      \n",
      "_________________________________________________________________\n",
      "hidden_layer2 (Dense)        (None, 256)               131328    \n",
      "_________________________________________________________________\n",
      "batch_normalization_2 (Batch (None, 256)               1024      \n",
      "_________________________________________________________________\n",
      "hidden_layer3 (Dense)        (None, 128)               32896     \n",
      "_________________________________________________________________\n",
      "batch_normalization_3 (Batch (None, 128)               512       \n",
      "_________________________________________________________________\n",
      "output (Dense)               (None, 10)                1290      \n",
      "=================================================================\n",
      "Total params: 1,742,474\n",
      "Trainable params: 1,740,682\n",
      "Non-trainable params: 1,792\n",
      "_________________________________________________________________\n",
      "WARNING:tensorflow:From C:\\Users\\KenChen\\AppData\\Local\\Continuum\\anaconda3\\lib\\site-packages\\tensorflow\\python\\ops\\math_ops.py:3066: to_int32 (from tensorflow.python.ops.math_ops) is deprecated and will be removed in a future version.\n",
      "Instructions for updating:\n",
      "Use tf.cast instead.\n",
      "Train on 50000 samples, validate on 10000 samples\n",
      "Epoch 1/50\n",
      "50000/50000 [==============================] - 8s 166us/step - loss: 2.1949 - acc: 0.2760 - val_loss: 2.0709 - val_acc: 0.3228\n",
      "Epoch 2/50\n",
      "50000/50000 [==============================] - 8s 165us/step - loss: 1.7418 - acc: 0.3957 - val_loss: 1.7918 - val_acc: 0.3817\n",
      "Epoch 3/50\n",
      "50000/50000 [==============================] - 8s 162us/step - loss: 1.6252 - acc: 0.4336 - val_loss: 1.6981 - val_acc: 0.4052\n",
      "Epoch 4/50\n",
      "50000/50000 [==============================] - 8s 162us/step - loss: 1.5523 - acc: 0.4612 - val_loss: 1.6601 - val_acc: 0.4168\n",
      "Epoch 5/50\n",
      "50000/50000 [==============================] - 8s 164us/step - loss: 1.4982 - acc: 0.4782 - val_loss: 1.6205 - val_acc: 0.4286\n",
      "Epoch 6/50\n",
      "50000/50000 [==============================] - 8s 161us/step - loss: 1.4530 - acc: 0.4915 - val_loss: 1.5776 - val_acc: 0.4416\n",
      "Epoch 7/50\n",
      "50000/50000 [==============================] - 8s 151us/step - loss: 1.4129 - acc: 0.5075 - val_loss: 1.5543 - val_acc: 0.4485\n",
      "Epoch 8/50\n",
      "50000/50000 [==============================] - 8s 163us/step - loss: 1.3759 - acc: 0.5209 - val_loss: 1.5498 - val_acc: 0.4467\n",
      "Epoch 9/50\n",
      "50000/50000 [==============================] - 8s 160us/step - loss: 1.3437 - acc: 0.5323 - val_loss: 1.5237 - val_acc: 0.4594\n",
      "Epoch 10/50\n",
      "50000/50000 [==============================] - 9s 176us/step - loss: 1.3133 - acc: 0.5443 - val_loss: 1.5056 - val_acc: 0.4673\n",
      "Epoch 11/50\n",
      "50000/50000 [==============================] - 8s 164us/step - loss: 1.2840 - acc: 0.5551 - val_loss: 1.4921 - val_acc: 0.4675\n",
      "Epoch 12/50\n",
      "50000/50000 [==============================] - 8s 164us/step - loss: 1.2570 - acc: 0.5630 - val_loss: 1.5028 - val_acc: 0.4667\n",
      "Epoch 13/50\n",
      "50000/50000 [==============================] - 12s 238us/step - loss: 1.2319 - acc: 0.5742 - val_loss: 1.4769 - val_acc: 0.4745\n",
      "Epoch 14/50\n",
      "50000/50000 [==============================] - 10s 203us/step - loss: 1.2057 - acc: 0.5825 - val_loss: 1.4691 - val_acc: 0.4816\n",
      "Epoch 15/50\n",
      "50000/50000 [==============================] - 9s 189us/step - loss: 1.1808 - acc: 0.5927 - val_loss: 1.4727 - val_acc: 0.4784\n",
      "Epoch 16/50\n",
      "50000/50000 [==============================] - 9s 181us/step - loss: 1.1565 - acc: 0.6003 - val_loss: 1.4606 - val_acc: 0.4852\n",
      "Epoch 17/50\n",
      "50000/50000 [==============================] - 9s 182us/step - loss: 1.1345 - acc: 0.6082 - val_loss: 1.4638 - val_acc: 0.4825\n",
      "Epoch 18/50\n",
      "50000/50000 [==============================] - 9s 183us/step - loss: 1.1128 - acc: 0.6179 - val_loss: 1.4618 - val_acc: 0.4899\n",
      "Epoch 19/50\n",
      "50000/50000 [==============================] - 10s 191us/step - loss: 1.0904 - acc: 0.6250 - val_loss: 1.4623 - val_acc: 0.4899\n",
      "Epoch 20/50\n",
      "50000/50000 [==============================] - 8s 163us/step - loss: 1.0680 - acc: 0.6349 - val_loss: 1.4576 - val_acc: 0.4918\n",
      "Epoch 21/50\n",
      "50000/50000 [==============================] - 8s 167us/step - loss: 1.0486 - acc: 0.6406 - val_loss: 1.4500 - val_acc: 0.4886\n",
      "Epoch 22/50\n",
      "50000/50000 [==============================] - 10s 194us/step - loss: 1.0266 - acc: 0.6508 - val_loss: 1.4800 - val_acc: 0.4841\n",
      "Epoch 23/50\n",
      "50000/50000 [==============================] - 8s 153us/step - loss: 1.0058 - acc: 0.6581 - val_loss: 1.4789 - val_acc: 0.4892\n",
      "Epoch 24/50\n",
      "50000/50000 [==============================] - 8s 152us/step - loss: 0.9835 - acc: 0.6670 - val_loss: 1.4475 - val_acc: 0.4976\n",
      "Epoch 25/50\n",
      "50000/50000 [==============================] - 11s 213us/step - loss: 0.9637 - acc: 0.6752 - val_loss: 1.4667 - val_acc: 0.4902\n",
      "Epoch 26/50\n",
      "50000/50000 [==============================] - 10s 202us/step - loss: 0.9451 - acc: 0.6819 - val_loss: 1.4705 - val_acc: 0.4924\n",
      "Epoch 27/50\n",
      "50000/50000 [==============================] - 9s 178us/step - loss: 0.9256 - acc: 0.6897 - val_loss: 1.4661 - val_acc: 0.4990\n",
      "Epoch 28/50\n",
      "50000/50000 [==============================] - 7s 149us/step - loss: 0.9046 - acc: 0.6964 - val_loss: 1.4808 - val_acc: 0.4928\n",
      "Epoch 29/50\n",
      "50000/50000 [==============================] - 7s 149us/step - loss: 0.8856 - acc: 0.7043 - val_loss: 1.4787 - val_acc: 0.4950\n",
      "Epoch 30/50\n",
      "50000/50000 [==============================] - 8s 156us/step - loss: 0.8657 - acc: 0.7141 - val_loss: 1.4866 - val_acc: 0.4890\n",
      "Epoch 31/50\n",
      "50000/50000 [==============================] - 11s 226us/step - loss: 0.8449 - acc: 0.7224 - val_loss: 1.4764 - val_acc: 0.4990\n",
      "Epoch 32/50\n",
      "50000/50000 [==============================] - 11s 213us/step - loss: 0.8248 - acc: 0.7295 - val_loss: 1.4992 - val_acc: 0.4970\n",
      "Epoch 33/50\n",
      "50000/50000 [==============================] - 7s 150us/step - loss: 0.8071 - acc: 0.7362 - val_loss: 1.4944 - val_acc: 0.4981\n",
      "Epoch 34/50\n",
      "50000/50000 [==============================] - 8s 151us/step - loss: 0.7885 - acc: 0.7432 - val_loss: 1.5190 - val_acc: 0.4911\n",
      "Epoch 35/50\n",
      "50000/50000 [==============================] - 7s 150us/step - loss: 0.7688 - acc: 0.7514 - val_loss: 1.5120 - val_acc: 0.4974\n",
      "Epoch 36/50\n",
      "50000/50000 [==============================] - 7s 149us/step - loss: 0.7483 - acc: 0.7589 - val_loss: 1.5257 - val_acc: 0.4952\n",
      "Epoch 37/50\n",
      "50000/50000 [==============================] - 7s 149us/step - loss: 0.7312 - acc: 0.7664 - val_loss: 1.5490 - val_acc: 0.4870\n",
      "Epoch 38/50\n",
      "50000/50000 [==============================] - 7s 148us/step - loss: 0.7119 - acc: 0.7745 - val_loss: 1.5479 - val_acc: 0.4890\n",
      "Epoch 39/50\n",
      "50000/50000 [==============================] - 8s 163us/step - loss: 0.6912 - acc: 0.7807 - val_loss: 1.5644 - val_acc: 0.4907\n",
      "Epoch 40/50\n",
      "50000/50000 [==============================] - 8s 152us/step - loss: 0.6755 - acc: 0.7882 - val_loss: 1.5574 - val_acc: 0.4956\n",
      "Epoch 41/50\n",
      "50000/50000 [==============================] - 7s 149us/step - loss: 0.6568 - acc: 0.7961 - val_loss: 1.5888 - val_acc: 0.4859\n",
      "Epoch 42/50\n",
      "50000/50000 [==============================] - 7s 150us/step - loss: 0.6404 - acc: 0.8012 - val_loss: 1.5664 - val_acc: 0.4936\n",
      "Epoch 43/50\n",
      "50000/50000 [==============================] - 7s 148us/step - loss: 0.6222 - acc: 0.8083 - val_loss: 1.5807 - val_acc: 0.4978\n",
      "Epoch 44/50\n",
      "50000/50000 [==============================] - 7s 149us/step - loss: 0.6044 - acc: 0.8172 - val_loss: 1.6115 - val_acc: 0.4877\n",
      "Epoch 45/50\n"
     ]
    },
    {
     "name": "stdout",
     "output_type": "stream",
     "text": [
      "50000/50000 [==============================] - 7s 149us/step - loss: 0.5866 - acc: 0.8222 - val_loss: 1.6134 - val_acc: 0.4908\n",
      "Epoch 46/50\n",
      "50000/50000 [==============================] - 7s 149us/step - loss: 0.5703 - acc: 0.8312 - val_loss: 1.6111 - val_acc: 0.4899\n",
      "Epoch 47/50\n",
      "50000/50000 [==============================] - 7s 150us/step - loss: 0.5513 - acc: 0.8385 - val_loss: 1.6296 - val_acc: 0.4934\n",
      "Epoch 48/50\n",
      "50000/50000 [==============================] - 8s 151us/step - loss: 0.5375 - acc: 0.8434 - val_loss: 1.6758 - val_acc: 0.4894\n",
      "Epoch 49/50\n",
      "50000/50000 [==============================] - 8s 153us/step - loss: 0.5196 - acc: 0.8516 - val_loss: 1.6683 - val_acc: 0.4832\n",
      "Epoch 50/50\n",
      "50000/50000 [==============================] - 7s 149us/step - loss: 0.5024 - acc: 0.8593 - val_loss: 1.6718 - val_acc: 0.4888\n",
      "10000/10000 [==============================] - 1s 120us/step\n"
     ]
    }
   ],
   "source": [
    "model = build_mlp(input_shape=x_train.shape[1:])\n",
    "model.summary()\n",
    "optimizer = keras.optimizers.SGD(lr=LEARNING_RATE, nesterov=True, momentum=MOMENTUM)\n",
    "model.compile(loss=\"categorical_crossentropy\", metrics=[\"accuracy\"], optimizer=optimizer)\n",
    "\n",
    "model.fit(x_train, y_train, \n",
    "          epochs=EPOCHS, \n",
    "          batch_size=BATCH_SIZE, \n",
    "          validation_data=(x_test, y_test), \n",
    "          shuffle=True,\n",
    "          callbacks=[model_ckpt]\n",
    "         )\n",
    "\n",
    "# Collect results\n",
    "train_loss = model.history.history[\"loss\"]\n",
    "valid_loss = model.history.history[\"val_loss\"]\n",
    "train_acc = model.history.history[\"acc\"]\n",
    "valid_acc = model.history.history[\"val_acc\"]\n",
    "\n",
    "# Load back\n",
    "model = keras.models.load_model(\"./tmp.h5\")\n",
    "loss_loadback, acc_loadback = model.evaluate(x_test, y_test)"
   ]
  },
  {
   "cell_type": "code",
   "execution_count": 9,
   "metadata": {},
   "outputs": [
    {
     "data": {
      "image/png": "[encoded data removed]",
      "text/plain": [
       "<Figure size 432x288 with 1 Axes>"
      ]
     },
     "metadata": {
      "needs_background": "light"
     },
     "output_type": "display_data"
    },
    {
     "data": {
      "image/png": "[encoded data removed]",
      "text/plain": [
       "<Figure size 432x288 with 1 Axes>"
      ]
     },
     "metadata": {
      "needs_background": "light"
     },
     "output_type": "display_data"
    }
   ],
   "source": [
    "import matplotlib.pyplot as plt\n",
    "%matplotlib inline\n",
    "\n",
    "plt.plot(range(len(train_loss)), train_loss, label=\"train loss\")\n",
    "plt.plot(range(len(valid_loss)), valid_loss, label=\"valid loss\")\n",
    "plt.hlines(y=loss_loadback, xmin=0, xmax=len(train_loss), colors='r', linestyles='--')\n",
    "plt.legend()\n",
    "plt.title(\"Loss\")\n",
    "plt.show()\n",
    "\n",
    "plt.plot(range(len(train_acc)), train_acc, label=\"train accuracy\")\n",
    "plt.plot(range(len(valid_acc)), valid_acc, label=\"valid accuracy\")\n",
    "plt.hlines(y=acc_loadback, xmin=0, xmax=len(train_loss), colors='r', linestyles='--')\n",
    "plt.legend()\n",
    "plt.title(\"Accuracy\")\n",
    "plt.show()"
   ]
  },
  {
   "cell_type": "markdown",
   "metadata": {},
   "source": [
    "## Work\n",
    "1. 試比較 save_best_only 與否的差異\n",
    "2. 請僅存入將 save_weights_only 設定為 True, 並嘗試 reset ipynb 並將模型與權重重新建回並預測 x_test"
   ]
  }
 ],
 "metadata": {
  "kernelspec": {
   "display_name": "Python 3",
   "language": "python",
   "name": "python3"
  },
  "language_info": {
   "codemirror_mode": {
    "name": "ipython",
    "version": 3
   },
   "file_extension": ".py",
   "mimetype": "text/x-python",
   "name": "python",
   "nbconvert_exporter": "python",
   "pygments_lexer": "ipython3",
   "version": "3.7.3"
  }
 },
 "nbformat": 4,
 "nbformat_minor": 2
}
