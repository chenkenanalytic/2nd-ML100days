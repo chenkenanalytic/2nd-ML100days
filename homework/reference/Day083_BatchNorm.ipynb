{
 "cells": [
  {
   "cell_type": "markdown",
   "metadata": {},
   "source": [
    "## 範例重點\n",
    "* 學習如何在 keras 中加入 BatchNorm\n",
    "* 知道有無 BN 對訓練的影響\n",
    "* 比較 BN 在不同 batch size 下的效果"
   ]
  },
  {
   "cell_type": "code",
   "execution_count": 1,
   "metadata": {},
   "outputs": [
    {
     "name": "stderr",
     "output_type": "stream",
     "text": [
      "Using TensorFlow backend.\n"
     ]
    }
   ],
   "source": [
    "import os\n",
    "import keras\n",
    "\n",
    "# 本範例不需使用 GPU, 將 GPU 設定為 \"無\"\n",
    "os.environ[\"CUDA_VISIBLE_DEVICES\"] = \"\""
   ]
  },
  {
   "cell_type": "code",
   "execution_count": 2,
   "metadata": {},
   "outputs": [],
   "source": [
    "train, test = keras.datasets.cifar10.load_data()"
   ]
  },
  {
   "cell_type": "code",
   "execution_count": 3,
   "metadata": {},
   "outputs": [],
   "source": [
    "## 資料前處理\n",
    "def preproc_x(x, flatten=True):\n",
    "    x = x / 255.\n",
    "    if flatten:\n",
    "        x = x.reshape((len(x), -1))\n",
    "    return x\n",
    "\n",
    "def preproc_y(y, num_classes=10):\n",
    "    if y.shape[-1] == 1:\n",
    "        y = keras.utils.to_categorical(y, num_classes)\n",
    "    return y    "
   ]
  },
  {
   "cell_type": "code",
   "execution_count": 4,
   "metadata": {},
   "outputs": [],
   "source": [
    "x_train, y_train = train\n",
    "x_test, y_test = test\n",
    "\n",
    "# 資料前處理 - X 標準化\n",
    "x_train = preproc_x(x_train)\n",
    "x_test = preproc_x(x_test)\n",
    "\n",
    "# 資料前處理 -Y 轉成 onehot\n",
    "y_train = preproc_y(y_train)\n",
    "y_test = preproc_y(y_test)"
   ]
  },
  {
   "cell_type": "code",
   "execution_count": 5,
   "metadata": {},
   "outputs": [],
   "source": [
    "from keras.layers import BatchNormalization\n",
    "\n",
    "\"\"\"\n",
    "建立神經網路，並加入 BN layer\n",
    "\"\"\"\n",
    "def build_mlp(input_shape, output_units=10, num_neurons=[512, 256, 128]):\n",
    "    input_layer = keras.layers.Input(input_shape)\n",
    "    \n",
    "    for i, n_units in enumerate(num_neurons):\n",
    "        if i == 0:\n",
    "            x = keras.layers.Dense(units=n_units, \n",
    "                                   activation=\"relu\", \n",
    "                                   name=\"hidden_layer\"+str(i+1))(input_layer)\n",
    "            x = BatchNormalization()(x)\n",
    "        else:\n",
    "            x = keras.layers.Dense(units=n_units, \n",
    "                                   activation=\"relu\", \n",
    "                                   name=\"hidden_layer\"+str(i+1))(x)\n",
    "            x = BatchNormalization()(x)\n",
    "    \n",
    "    out = keras.layers.Dense(units=output_units, activation=\"softmax\", name=\"output\")(x)\n",
    "    \n",
    "    model = keras.models.Model(inputs=[input_layer], outputs=[out])\n",
    "    return model\n",
    "\n"
   ]
  },
  {
   "cell_type": "code",
   "execution_count": 6,
   "metadata": {},
   "outputs": [],
   "source": [
    "## 超參數設定\n",
    "LEARNING_RATE = 1e-3\n",
    "EPOCHS = 50\n",
    "BATCH_SIZE = 1024\n",
    "MOMENTUM = 0.95"
   ]
  },
  {
   "cell_type": "code",
   "execution_count": 7,
   "metadata": {
    "scrolled": true
   },
   "outputs": [
    {
     "name": "stdout",
     "output_type": "stream",
     "text": [
      "WARNING:tensorflow:From C:\\Users\\KenChen\\AppData\\Local\\Continuum\\anaconda3\\lib\\site-packages\\tensorflow\\python\\framework\\op_def_library.py:263: colocate_with (from tensorflow.python.framework.ops) is deprecated and will be removed in a future version.\n",
      "Instructions for updating:\n",
      "Colocations handled automatically by placer.\n",
      "_________________________________________________________________\n",
      "Layer (type)                 Output Shape              Param #   \n",
      "=================================================================\n",
      "input_1 (InputLayer)         (None, 3072)              0         \n",
      "_________________________________________________________________\n",
      "hidden_layer1 (Dense)        (None, 512)               1573376   \n",
      "_________________________________________________________________\n",
      "batch_normalization_1 (Batch (None, 512)               2048      \n",
      "_________________________________________________________________\n",
      "hidden_layer2 (Dense)        (None, 256)               131328    \n",
      "_________________________________________________________________\n",
      "batch_normalization_2 (Batch (None, 256)               1024      \n",
      "_________________________________________________________________\n",
      "hidden_layer3 (Dense)        (None, 128)               32896     \n",
      "_________________________________________________________________\n",
      "batch_normalization_3 (Batch (None, 128)               512       \n",
      "_________________________________________________________________\n",
      "output (Dense)               (None, 10)                1290      \n",
      "=================================================================\n",
      "Total params: 1,742,474\n",
      "Trainable params: 1,740,682\n",
      "Non-trainable params: 1,792\n",
      "_________________________________________________________________\n",
      "WARNING:tensorflow:From C:\\Users\\KenChen\\AppData\\Local\\Continuum\\anaconda3\\lib\\site-packages\\tensorflow\\python\\ops\\math_ops.py:3066: to_int32 (from tensorflow.python.ops.math_ops) is deprecated and will be removed in a future version.\n",
      "Instructions for updating:\n",
      "Use tf.cast instead.\n",
      "Train on 50000 samples, validate on 10000 samples\n",
      "Epoch 1/50\n",
      "50000/50000 [==============================] - 9s 179us/step - loss: 2.2211 - acc: 0.2585 - val_loss: 2.1201 - val_acc: 0.3136\n",
      "Epoch 2/50\n",
      "50000/50000 [==============================] - 9s 185us/step - loss: 1.7496 - acc: 0.3893 - val_loss: 1.7837 - val_acc: 0.3845\n",
      "Epoch 3/50\n",
      "50000/50000 [==============================] - 8s 164us/step - loss: 1.6249 - acc: 0.4317 - val_loss: 1.6768 - val_acc: 0.4136\n",
      "Epoch 4/50\n",
      "50000/50000 [==============================] - 7s 149us/step - loss: 1.5507 - acc: 0.4571 - val_loss: 1.6323 - val_acc: 0.4303\n",
      "Epoch 5/50\n",
      "50000/50000 [==============================] - 8s 150us/step - loss: 1.4946 - acc: 0.4767 - val_loss: 1.5857 - val_acc: 0.4426\n",
      "Epoch 6/50\n",
      "50000/50000 [==============================] - 7s 149us/step - loss: 1.4509 - acc: 0.4913 - val_loss: 1.5861 - val_acc: 0.4444\n",
      "Epoch 7/50\n",
      "50000/50000 [==============================] - 8s 150us/step - loss: 1.4111 - acc: 0.5073 - val_loss: 1.5595 - val_acc: 0.4591\n",
      "Epoch 8/50\n",
      "50000/50000 [==============================] - 8s 159us/step - loss: 1.3763 - acc: 0.5211 - val_loss: 1.5309 - val_acc: 0.4673\n",
      "Epoch 9/50\n",
      "50000/50000 [==============================] - 13s 261us/step - loss: 1.3438 - acc: 0.5317 - val_loss: 1.5177 - val_acc: 0.4669\n",
      "Epoch 10/50\n",
      "50000/50000 [==============================] - 8s 150us/step - loss: 1.3122 - acc: 0.5431 - val_loss: 1.4954 - val_acc: 0.4769\n",
      "Epoch 11/50\n",
      "50000/50000 [==============================] - 8s 168us/step - loss: 1.2860 - acc: 0.5535 - val_loss: 1.4989 - val_acc: 0.4770\n",
      "Epoch 12/50\n",
      "50000/50000 [==============================] - 9s 183us/step - loss: 1.2590 - acc: 0.5637 - val_loss: 1.4878 - val_acc: 0.4812\n",
      "Epoch 13/50\n",
      "50000/50000 [==============================] - 8s 157us/step - loss: 1.2343 - acc: 0.5720 - val_loss: 1.4739 - val_acc: 0.4856\n",
      "Epoch 14/50\n",
      "50000/50000 [==============================] - 9s 170us/step - loss: 1.2081 - acc: 0.5841 - val_loss: 1.4773 - val_acc: 0.4887\n",
      "Epoch 15/50\n",
      "50000/50000 [==============================] - 8s 163us/step - loss: 1.1840 - acc: 0.5911 - val_loss: 1.4706 - val_acc: 0.4874\n",
      "Epoch 16/50\n",
      "50000/50000 [==============================] - 8s 158us/step - loss: 1.1612 - acc: 0.6001 - val_loss: 1.4733 - val_acc: 0.4912\n",
      "Epoch 17/50\n",
      "50000/50000 [==============================] - 8s 155us/step - loss: 1.1388 - acc: 0.6079 - val_loss: 1.4629 - val_acc: 0.4916\n",
      "Epoch 18/50\n",
      "50000/50000 [==============================] - 8s 157us/step - loss: 1.1158 - acc: 0.6177 - val_loss: 1.4697 - val_acc: 0.4896\n",
      "Epoch 19/50\n",
      "50000/50000 [==============================] - 8s 161us/step - loss: 1.0953 - acc: 0.6257 - val_loss: 1.4600 - val_acc: 0.4906\n",
      "Epoch 20/50\n",
      "50000/50000 [==============================] - 8s 159us/step - loss: 1.0727 - acc: 0.6327 - val_loss: 1.4600 - val_acc: 0.4950\n",
      "Epoch 21/50\n",
      "50000/50000 [==============================] - 8s 158us/step - loss: 1.0501 - acc: 0.6438 - val_loss: 1.4653 - val_acc: 0.4968\n",
      "Epoch 22/50\n",
      "50000/50000 [==============================] - 8s 154us/step - loss: 1.0297 - acc: 0.6527 - val_loss: 1.4547 - val_acc: 0.4930\n",
      "Epoch 23/50\n",
      "50000/50000 [==============================] - 8s 157us/step - loss: 1.0106 - acc: 0.6581 - val_loss: 1.4590 - val_acc: 0.4953\n",
      "Epoch 24/50\n",
      "50000/50000 [==============================] - 8s 160us/step - loss: 0.9885 - acc: 0.6679 - val_loss: 1.4597 - val_acc: 0.4972\n",
      "Epoch 25/50\n",
      "50000/50000 [==============================] - 8s 152us/step - loss: 0.9686 - acc: 0.6748 - val_loss: 1.4718 - val_acc: 0.4970\n",
      "Epoch 26/50\n",
      "50000/50000 [==============================] - 8s 150us/step - loss: 0.9483 - acc: 0.6806 - val_loss: 1.4642 - val_acc: 0.5002\n",
      "Epoch 27/50\n",
      "50000/50000 [==============================] - 8s 154us/step - loss: 0.9269 - acc: 0.6903 - val_loss: 1.4702 - val_acc: 0.4966\n",
      "Epoch 28/50\n",
      "50000/50000 [==============================] - 9s 170us/step - loss: 0.9066 - acc: 0.6994 - val_loss: 1.4724 - val_acc: 0.4952\n",
      "Epoch 29/50\n",
      "50000/50000 [==============================] - 8s 153us/step - loss: 0.8874 - acc: 0.7062 - val_loss: 1.4742 - val_acc: 0.5016\n",
      "Epoch 30/50\n",
      "50000/50000 [==============================] - 9s 176us/step - loss: 0.8684 - acc: 0.7145 - val_loss: 1.4744 - val_acc: 0.5008\n",
      "Epoch 31/50\n",
      "50000/50000 [==============================] - 9s 186us/step - loss: 0.8486 - acc: 0.7209 - val_loss: 1.4917 - val_acc: 0.4937: \n",
      "Epoch 32/50\n",
      "50000/50000 [==============================] - 8s 160us/step - loss: 0.8305 - acc: 0.7295 - val_loss: 1.4994 - val_acc: 0.4932\n",
      "Epoch 33/50\n",
      "50000/50000 [==============================] - 8s 151us/step - loss: 0.8104 - acc: 0.7366 - val_loss: 1.4986 - val_acc: 0.4940\n",
      "Epoch 34/50\n",
      "50000/50000 [==============================] - 8s 152us/step - loss: 0.7921 - acc: 0.7443 - val_loss: 1.5064 - val_acc: 0.4938\n",
      "Epoch 35/50\n",
      "50000/50000 [==============================] - 8s 167us/step - loss: 0.7711 - acc: 0.7530 - val_loss: 1.5184 - val_acc: 0.4946\n",
      "Epoch 36/50\n",
      "50000/50000 [==============================] - 8s 162us/step - loss: 0.7524 - acc: 0.7590 - val_loss: 1.5282 - val_acc: 0.4888\n",
      "Epoch 37/50\n",
      "50000/50000 [==============================] - 9s 174us/step - loss: 0.7331 - acc: 0.7674 - val_loss: 1.5201 - val_acc: 0.4977\n",
      "Epoch 38/50\n",
      "50000/50000 [==============================] - 9s 178us/step - loss: 0.7165 - acc: 0.7746 - val_loss: 1.5188 - val_acc: 0.5002\n",
      "Epoch 39/50\n",
      "50000/50000 [==============================] - 10s 202us/step - loss: 0.6972 - acc: 0.7824 - val_loss: 1.5478 - val_acc: 0.4934\n",
      "Epoch 40/50\n",
      "50000/50000 [==============================] - 12s 243us/step - loss: 0.6800 - acc: 0.7888 - val_loss: 1.5577 - val_acc: 0.4896\n",
      "Epoch 41/50\n",
      "50000/50000 [==============================] - 8s 155us/step - loss: 0.6640 - acc: 0.7937 - val_loss: 1.5755 - val_acc: 0.4833\n",
      "Epoch 42/50\n",
      "50000/50000 [==============================] - 9s 187us/step - loss: 0.6442 - acc: 0.8037 - val_loss: 1.5743 - val_acc: 0.4849\n",
      "Epoch 43/50\n",
      "50000/50000 [==============================] - 8s 160us/step - loss: 0.6276 - acc: 0.8084 - val_loss: 1.5693 - val_acc: 0.4960\n",
      "Epoch 44/50\n",
      "50000/50000 [==============================] - 9s 170us/step - loss: 0.6096 - acc: 0.8157 - val_loss: 1.6132 - val_acc: 0.4829\n",
      "Epoch 45/50\n",
      "50000/50000 [==============================] - 15s 292us/step - loss: 0.5935 - acc: 0.8204 - val_loss: 1.6348 - val_acc: 0.4770\n",
      "Epoch 46/50\n",
      "50000/50000 [==============================] - 12s 244us/step - loss: 0.5765 - acc: 0.8270 - val_loss: 1.6254 - val_acc: 0.4898\n",
      "Epoch 47/50\n",
      "50000/50000 [==============================] - 8s 155us/step - loss: 0.5583 - acc: 0.8370 - val_loss: 1.6286 - val_acc: 0.4864\n",
      "Epoch 48/50\n",
      "50000/50000 [==============================] - 7s 149us/step - loss: 0.5411 - acc: 0.8419 - val_loss: 1.6511 - val_acc: 0.4795\n",
      "Epoch 49/50\n",
      "50000/50000 [==============================] - 8s 152us/step - loss: 0.5248 - acc: 0.8483 - val_loss: 1.6508 - val_acc: 0.4906\n",
      "Epoch 50/50\n",
      "50000/50000 [==============================] - 8s 160us/step - loss: 0.5097 - acc: 0.8557 - val_loss: 1.6487 - val_acc: 0.4857\n"
     ]
    }
   ],
   "source": [
    "model = build_mlp(input_shape=x_train.shape[1:])\n",
    "model.summary()\n",
    "optimizer = keras.optimizers.SGD(lr=LEARNING_RATE, nesterov=True, momentum=MOMENTUM)\n",
    "model.compile(loss=\"categorical_crossentropy\", metrics=[\"accuracy\"], optimizer=optimizer)\n",
    "\n",
    "model.fit(x_train, y_train, \n",
    "          epochs=EPOCHS, \n",
    "          batch_size=BATCH_SIZE, \n",
    "          validation_data=(x_test, y_test), \n",
    "          shuffle=True)\n",
    "\n",
    "# Collect results\n",
    "train_loss = model.history.history[\"loss\"]\n",
    "valid_loss = model.history.history[\"val_loss\"]\n",
    "train_acc = model.history.history[\"acc\"]\n",
    "valid_acc = model.history.history[\"val_acc\"]"
   ]
  },
  {
   "cell_type": "code",
   "execution_count": 8,
   "metadata": {},
   "outputs": [
    {
     "data": {
      "image/png": "[encoded data removed]",
      "text/plain": [
       "<Figure size 432x288 with 1 Axes>"
      ]
     },
     "metadata": {
      "needs_background": "light"
     },
     "output_type": "display_data"
    },
    {
     "data": {
      "image/png": "[encoded data removed]",
      "text/plain": [
       "<Figure size 432x288 with 1 Axes>"
      ]
     },
     "metadata": {
      "needs_background": "light"
     },
     "output_type": "display_data"
    }
   ],
   "source": [
    "import matplotlib.pyplot as plt\n",
    "%matplotlib inline\n",
    "\n",
    "plt.plot(range(len(train_loss)), train_loss, label=\"train loss\")\n",
    "plt.plot(range(len(valid_loss)), valid_loss, label=\"valid loss\")\n",
    "plt.legend()\n",
    "plt.title(\"Loss\")\n",
    "plt.show()\n",
    "\n",
    "plt.plot(range(len(train_acc)), train_acc, label=\"train accuracy\")\n",
    "plt.plot(range(len(valid_acc)), valid_acc, label=\"valid accuracy\")\n",
    "plt.legend()\n",
    "plt.title(\"Accuracy\")\n",
    "plt.show()"
   ]
  },
  {
   "cell_type": "markdown",
   "metadata": {},
   "source": [
    "## Work\n",
    "1. 試比較有 BN 在 Batch_size = 2, 16, 32, 128, 256 下的差異\n",
    "2. 請嘗試將 BN 放在 Activation 之前，並比較訓練結果\n",
    "3. 請於 BN 放在 Input Layer 後，並比較結果"
   ]
  }
 ],
 "metadata": {
  "kernelspec": {
   "display_name": "Python 3",
   "language": "python",
   "name": "python3"
  },
  "language_info": {
   "codemirror_mode": {
    "name": "ipython",
    "version": 3
   },
   "file_extension": ".py",
   "mimetype": "text/x-python",
   "name": "python",
   "nbconvert_exporter": "python",
   "pygments_lexer": "ipython3",
   "version": "3.7.3"
  }
 },
 "nbformat": 4,
 "nbformat_minor": 2
}
