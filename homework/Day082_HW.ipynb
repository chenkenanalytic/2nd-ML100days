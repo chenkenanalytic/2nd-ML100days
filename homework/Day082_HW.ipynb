{
 "cells": [
  {
   "cell_type": "markdown",
   "metadata": {},
   "source": [
    "## Work\n",
    "1. 請比較使用不同層數以及不同 Dropout rate 對訓練的效果\n",
    "2. 將 optimizer 改成使用 Adam 並加上適當的 dropout rate 檢視結果"
   ]
  },
  {
   "cell_type": "code",
   "execution_count": 1,
   "metadata": {},
   "outputs": [
    {
     "name": "stderr",
     "output_type": "stream",
     "text": [
      "Using TensorFlow backend.\n"
     ]
    }
   ],
   "source": [
    "import os\n",
    "import keras\n",
    "import itertools\n",
    "# Disable GPU\n",
    "os.environ[\"CUDA_VISIBLE_DEVICES\"] = \"\""
   ]
  },
  {
   "cell_type": "code",
   "execution_count": 2,
   "metadata": {},
   "outputs": [],
   "source": [
    "train, test = keras.datasets.cifar10.load_data()"
   ]
  },
  {
   "cell_type": "code",
   "execution_count": 3,
   "metadata": {},
   "outputs": [],
   "source": [
    "## 資料前處理\n",
    "def preproc_x(x, flatten=True):\n",
    "    x = x / 255.\n",
    "    if flatten:\n",
    "        x = x.reshape((len(x), -1))\n",
    "    return x\n",
    "\n",
    "def preproc_y(y, num_classes=10):\n",
    "    if y.shape[-1] == 1:\n",
    "        y = keras.utils.to_categorical(y, num_classes)\n",
    "    return y    "
   ]
  },
  {
   "cell_type": "code",
   "execution_count": 4,
   "metadata": {},
   "outputs": [],
   "source": [
    "x_train, y_train = train\n",
    "x_test, y_test = test\n",
    "\n",
    "# Preproc the inputs\n",
    "x_train = preproc_x(x_train)\n",
    "x_test = preproc_x(x_test)\n",
    "\n",
    "# Preprc the outputs\n",
    "y_train = preproc_y(y_train)\n",
    "y_test = preproc_y(y_test)"
   ]
  },
  {
   "cell_type": "code",
   "execution_count": 8,
   "metadata": {},
   "outputs": [],
   "source": [
    "def build_mlp(input_shape, output_units=10, num_neurons=[512, 256, 128, 64], drp_ratio=0.2):\n",
    "    input_layer = keras.layers.Input(input_shape)\n",
    "    \n",
    "    for i, n_units in enumerate(num_neurons):\n",
    "        if i == 0:\n",
    "            x = keras.layers.Dense(units=n_units, \n",
    "                                   activation=\"relu\", \n",
    "                                   name=\"hidden_layer\"+str(i+1))(input_layer)\n",
    "            x = Dropout(drp_ratio)(x)\n",
    "        else:\n",
    "            x = keras.layers.Dense(units=n_units, \n",
    "                                   activation=\"relu\", \n",
    "                                   name=\"hidden_layer\"+str(i+1))(x)\n",
    "            x = Dropout(drp_ratio)(x)\n",
    "    \n",
    "    out = keras.layers.Dense(units=output_units, activation=\"softmax\", name=\"output\")(x)\n",
    "    \n",
    "    model = keras.models.Model(inputs=[input_layer], outputs=[out])\n",
    "    return model"
   ]
  },
  {
   "cell_type": "code",
   "execution_count": 9,
   "metadata": {},
   "outputs": [],
   "source": [
    "\"\"\"Code Here\n",
    "設定超參數\n",
    "\"\"\"\n",
    "\n",
    "LEARNING_RATE = 1e-3\n",
    "EPOCHS = 50\n",
    "BATCH_SIZE = 256\n",
    "MOMENTUM = 0.95\n",
    "Dropout_EXP = 0.3"
   ]
  },
  {
   "cell_type": "code",
   "execution_count": 11,
   "metadata": {
    "scrolled": true
   },
   "outputs": [
    {
     "name": "stdout",
     "output_type": "stream",
     "text": [
      "WARNING:tensorflow:From C:\\Users\\KenChen\\AppData\\Local\\Continuum\\anaconda3\\lib\\site-packages\\keras\\backend\\tensorflow_backend.py:3445: calling dropout (from tensorflow.python.ops.nn_ops) with keep_prob is deprecated and will be removed in a future version.\n",
      "Instructions for updating:\n",
      "Please use `rate` instead of `keep_prob`. Rate should be set to `rate = 1 - keep_prob`.\n",
      "_________________________________________________________________\n",
      "Layer (type)                 Output Shape              Param #   \n",
      "=================================================================\n",
      "input_2 (InputLayer)         (None, 3072)              0         \n",
      "_________________________________________________________________\n",
      "hidden_layer1 (Dense)        (None, 512)               1573376   \n",
      "_________________________________________________________________\n",
      "dropout_1 (Dropout)          (None, 512)               0         \n",
      "_________________________________________________________________\n",
      "hidden_layer2 (Dense)        (None, 256)               131328    \n",
      "_________________________________________________________________\n",
      "dropout_2 (Dropout)          (None, 256)               0         \n",
      "_________________________________________________________________\n",
      "hidden_layer3 (Dense)        (None, 128)               32896     \n",
      "_________________________________________________________________\n",
      "dropout_3 (Dropout)          (None, 128)               0         \n",
      "_________________________________________________________________\n",
      "hidden_layer4 (Dense)        (None, 64)                8256      \n",
      "_________________________________________________________________\n",
      "dropout_4 (Dropout)          (None, 64)                0         \n",
      "_________________________________________________________________\n",
      "output (Dense)               (None, 10)                650       \n",
      "=================================================================\n",
      "Total params: 1,746,506\n",
      "Trainable params: 1,746,506\n",
      "Non-trainable params: 0\n",
      "_________________________________________________________________\n",
      "WARNING:tensorflow:From C:\\Users\\KenChen\\AppData\\Local\\Continuum\\anaconda3\\lib\\site-packages\\tensorflow\\python\\ops\\math_ops.py:3066: to_int32 (from tensorflow.python.ops.math_ops) is deprecated and will be removed in a future version.\n",
      "Instructions for updating:\n",
      "Use tf.cast instead.\n",
      "Train on 50000 samples, validate on 10000 samples\n",
      "Epoch 1/50\n",
      "50000/50000 [==============================] - 18s 352us/step - loss: 2.1745 - acc: 0.1731 - val_loss: 2.0000 - val_acc: 0.2688\n",
      "Epoch 2/50\n",
      "50000/50000 [==============================] - 16s 315us/step - loss: 1.9988 - acc: 0.2511 - val_loss: 1.8789 - val_acc: 0.3147\n",
      "Epoch 3/50\n",
      "50000/50000 [==============================] - 14s 277us/step - loss: 1.9449 - acc: 0.2693 - val_loss: 1.8896 - val_acc: 0.3314\n",
      "Epoch 4/50\n",
      "50000/50000 [==============================] - 14s 270us/step - loss: 1.9222 - acc: 0.2824 - val_loss: 1.8322 - val_acc: 0.3430\n",
      "Epoch 5/50\n",
      "50000/50000 [==============================] - 14s 288us/step - loss: 1.8790 - acc: 0.3073 - val_loss: 1.8094 - val_acc: 0.3512\n",
      "Epoch 6/50\n",
      "50000/50000 [==============================] - 16s 316us/step - loss: 1.8712 - acc: 0.3103 - val_loss: 1.7991 - val_acc: 0.3604\n",
      "Epoch 7/50\n",
      "50000/50000 [==============================] - 14s 283us/step - loss: 1.8531 - acc: 0.3142 - val_loss: 1.7772 - val_acc: 0.3682\n",
      "Epoch 8/50\n",
      "50000/50000 [==============================] - 14s 276us/step - loss: 1.8345 - acc: 0.3271 - val_loss: 1.7553 - val_acc: 0.3792\n",
      "Epoch 9/50\n",
      "50000/50000 [==============================] - 15s 301us/step - loss: 1.8313 - acc: 0.3299 - val_loss: 1.7829 - val_acc: 0.3725\n",
      "Epoch 10/50\n",
      "50000/50000 [==============================] - 14s 286us/step - loss: 1.8302 - acc: 0.3296 - val_loss: 1.7745 - val_acc: 0.3698\n",
      "Epoch 11/50\n",
      "50000/50000 [==============================] - 15s 292us/step - loss: 1.8121 - acc: 0.3410 - val_loss: 1.7274 - val_acc: 0.3961\n",
      "Epoch 12/50\n",
      "50000/50000 [==============================] - 17s 344us/step - loss: 1.8064 - acc: 0.3403 - val_loss: 1.7225 - val_acc: 0.3842\n",
      "Epoch 13/50\n",
      "50000/50000 [==============================] - 15s 306us/step - loss: 1.7913 - acc: 0.3484 - val_loss: 1.7606 - val_acc: 0.3810\n",
      "Epoch 14/50\n",
      "50000/50000 [==============================] - 13s 258us/step - loss: 1.7842 - acc: 0.3494 - val_loss: 1.7288 - val_acc: 0.3888\n",
      "Epoch 15/50\n",
      "50000/50000 [==============================] - 13s 262us/step - loss: 1.7750 - acc: 0.3552 - val_loss: 1.7103 - val_acc: 0.3913\n",
      "Epoch 16/50\n",
      "50000/50000 [==============================] - 14s 285us/step - loss: 1.7763 - acc: 0.3566 - val_loss: 1.7133 - val_acc: 0.4048\n",
      "Epoch 17/50\n",
      "50000/50000 [==============================] - 14s 276us/step - loss: 1.7646 - acc: 0.3580 - val_loss: 1.7086 - val_acc: 0.3986\n",
      "Epoch 18/50\n",
      "50000/50000 [==============================] - 15s 298us/step - loss: 1.7606 - acc: 0.3626 - val_loss: 1.6911 - val_acc: 0.4030\n",
      "Epoch 19/50\n",
      "50000/50000 [==============================] - 14s 272us/step - loss: 1.7500 - acc: 0.3675 - val_loss: 1.6683 - val_acc: 0.4097\n",
      "Epoch 20/50\n",
      "50000/50000 [==============================] - 16s 314us/step - loss: 1.7596 - acc: 0.3589 - val_loss: 1.6916 - val_acc: 0.4047\n",
      "Epoch 21/50\n",
      "50000/50000 [==============================] - 15s 309us/step - loss: 1.7424 - acc: 0.3686 - val_loss: 1.6664 - val_acc: 0.4109\n",
      "Epoch 22/50\n",
      "50000/50000 [==============================] - 14s 274us/step - loss: 1.7421 - acc: 0.3678 - val_loss: 1.6702 - val_acc: 0.4019\n",
      "Epoch 23/50\n",
      "50000/50000 [==============================] - 14s 278us/step - loss: 1.7388 - acc: 0.3701 - val_loss: 1.6847 - val_acc: 0.4028\n",
      "Epoch 24/50\n",
      "50000/50000 [==============================] - 14s 278us/step - loss: 1.7311 - acc: 0.3721 - val_loss: 1.6511 - val_acc: 0.4111\n",
      "Epoch 25/50\n",
      "50000/50000 [==============================] - 14s 275us/step - loss: 1.7321 - acc: 0.3734 - val_loss: 1.7066 - val_acc: 0.3865\n",
      "Epoch 26/50\n",
      "50000/50000 [==============================] - 16s 326us/step - loss: 1.7238 - acc: 0.3755 - val_loss: 1.6839 - val_acc: 0.4165\n",
      "Epoch 27/50\n",
      "50000/50000 [==============================] - 17s 348us/step - loss: 1.7198 - acc: 0.3810 - val_loss: 1.6787 - val_acc: 0.4073\n",
      "Epoch 28/50\n",
      "50000/50000 [==============================] - 14s 285us/step - loss: 1.7231 - acc: 0.3772 - val_loss: 1.6671 - val_acc: 0.4179\n",
      "Epoch 29/50\n",
      "50000/50000 [==============================] - 14s 277us/step - loss: 1.7177 - acc: 0.3789 - val_loss: 1.6643 - val_acc: 0.4164\n",
      "Epoch 30/50\n",
      "50000/50000 [==============================] - 17s 332us/step - loss: 1.7085 - acc: 0.3822 - val_loss: 1.6432 - val_acc: 0.4254\n",
      "Epoch 31/50\n",
      "50000/50000 [==============================] - 14s 280us/step - loss: 1.7183 - acc: 0.3775 - val_loss: 1.6630 - val_acc: 0.4190\n",
      "Epoch 32/50\n",
      "50000/50000 [==============================] - 14s 283us/step - loss: 1.7094 - acc: 0.3802 - val_loss: 1.6386 - val_acc: 0.4201\n",
      "Epoch 33/50\n",
      "50000/50000 [==============================] - 14s 276us/step - loss: 1.7049 - acc: 0.3855 - val_loss: 1.6582 - val_acc: 0.4252\n",
      "Epoch 34/50\n",
      "50000/50000 [==============================] - 14s 283us/step - loss: 1.6956 - acc: 0.3835 - val_loss: 1.6323 - val_acc: 0.4217\n",
      "Epoch 35/50\n",
      "50000/50000 [==============================] - 14s 273us/step - loss: 1.6992 - acc: 0.3864 - val_loss: 1.6607 - val_acc: 0.4137\n",
      "Epoch 36/50\n",
      "50000/50000 [==============================] - 14s 274us/step - loss: 1.6979 - acc: 0.3881 - val_loss: 1.6575 - val_acc: 0.4167\n",
      "Epoch 37/50\n",
      "50000/50000 [==============================] - 14s 275us/step - loss: 1.6937 - acc: 0.3914 - val_loss: 1.6216 - val_acc: 0.4282\n",
      "Epoch 38/50\n",
      "50000/50000 [==============================] - 14s 274us/step - loss: 1.6928 - acc: 0.3878 - val_loss: 1.6392 - val_acc: 0.4195\n",
      "Epoch 39/50\n",
      "50000/50000 [==============================] - 14s 273us/step - loss: 1.6914 - acc: 0.3901 - val_loss: 1.6348 - val_acc: 0.4303\n",
      "Epoch 40/50\n",
      "50000/50000 [==============================] - 14s 279us/step - loss: 1.6865 - acc: 0.3902 - val_loss: 1.6383 - val_acc: 0.4266\n",
      "Epoch 41/50\n",
      "50000/50000 [==============================] - 14s 275us/step - loss: 1.6894 - acc: 0.3923 - val_loss: 1.6361 - val_acc: 0.4236\n",
      "Epoch 42/50\n",
      "50000/50000 [==============================] - 14s 275us/step - loss: 1.6862 - acc: 0.3890 - val_loss: 1.6651 - val_acc: 0.4149\n"
     ]
    },
    {
     "name": "stdout",
     "output_type": "stream",
     "text": [
      "Epoch 43/50\n",
      "50000/50000 [==============================] - 13s 268us/step - loss: 1.6837 - acc: 0.3921 - val_loss: 1.6150 - val_acc: 0.4238\n",
      "Epoch 44/50\n",
      "50000/50000 [==============================] - 13s 267us/step - loss: 1.6793 - acc: 0.3922 - val_loss: 1.6474 - val_acc: 0.4157\n",
      "Epoch 45/50\n",
      "50000/50000 [==============================] - 14s 271us/step - loss: 1.6815 - acc: 0.3908 - val_loss: 1.6304 - val_acc: 0.4256\n",
      "Epoch 46/50\n",
      "50000/50000 [==============================] - 13s 267us/step - loss: 1.6790 - acc: 0.3940 - val_loss: 1.6147 - val_acc: 0.4377\n",
      "Epoch 47/50\n",
      "50000/50000 [==============================] - 15s 295us/step - loss: 1.6756 - acc: 0.3945 - val_loss: 1.6150 - val_acc: 0.4326\n",
      "Epoch 48/50\n",
      "50000/50000 [==============================] - 16s 324us/step - loss: 1.6746 - acc: 0.3943 - val_loss: 1.6366 - val_acc: 0.4222\n",
      "Epoch 49/50\n",
      "50000/50000 [==============================] - 15s 292us/step - loss: 1.6689 - acc: 0.3992 - val_loss: 1.6060 - val_acc: 0.4318\n",
      "Epoch 50/50\n",
      "50000/50000 [==============================] - 15s 291us/step - loss: 1.6743 - acc: 0.3975 - val_loss: 1.6507 - val_acc: 0.4236\n"
     ]
    },
    {
     "ename": "NameError",
     "evalue": "name 'exp_name_tag' is not defined",
     "output_type": "error",
     "traceback": [
      "\u001b[1;31m---------------------------------------------------------------------------\u001b[0m",
      "\u001b[1;31mNameError\u001b[0m                                 Traceback (most recent call last)",
      "\u001b[1;32m<ipython-input-11-480bae7dfa69>\u001b[0m in \u001b[0;36m<module>\u001b[1;34m\u001b[0m\n\u001b[0;32m     24\u001b[0m                          \u001b[1;34m'valid-loss'\u001b[0m\u001b[1;33m:\u001b[0m \u001b[0mvalid_loss\u001b[0m\u001b[1;33m,\u001b[0m\u001b[1;33m\u001b[0m\u001b[1;33m\u001b[0m\u001b[0m\n\u001b[0;32m     25\u001b[0m                          \u001b[1;34m'train-acc'\u001b[0m\u001b[1;33m:\u001b[0m \u001b[0mtrain_acc\u001b[0m\u001b[1;33m,\u001b[0m\u001b[1;33m\u001b[0m\u001b[1;33m\u001b[0m\u001b[0m\n\u001b[1;32m---> 26\u001b[1;33m                          'valid-acc': valid_acc}\n\u001b[0m",
      "\u001b[1;31mNameError\u001b[0m: name 'exp_name_tag' is not defined"
     ]
    }
   ],
   "source": [
    "from keras.layers import Dropout\n",
    "results = {}\n",
    "\"\"\"Code Here\n",
    "撰寫你的訓練流程並將結果用 dictionary 紀錄\n",
    "\"\"\"\n",
    "model = build_mlp(input_shape=x_train.shape[1:], drp_ratio=Dropout_EXP)\n",
    "model.summary()\n",
    "optimizer = keras.optimizers.Adam(lr=LEARNING_RATE)\n",
    "model.compile(loss=\"categorical_crossentropy\", metrics=[\"accuracy\"], optimizer=optimizer)\n",
    "\n",
    "model.fit(x_train, y_train, \n",
    "          epochs=EPOCHS, \n",
    "          batch_size=BATCH_SIZE, \n",
    "          validation_data=(x_test, y_test), \n",
    "          shuffle=True)\n",
    "\n",
    "# Collect results\n",
    "train_loss = model.history.history[\"loss\"]\n",
    "valid_loss = model.history.history[\"val_loss\"]\n",
    "train_acc = model.history.history[\"acc\"]\n",
    "valid_acc = model.history.history[\"val_acc\"]\n",
    "\n",
    "# results[exp_name_tag] = {'train-loss': train_loss,\n",
    "#                          'valid-loss': valid_loss,\n",
    "#                          'train-acc': train_acc,\n",
    "#                          'valid-acc': valid_acc}"
   ]
  },
  {
   "cell_type": "code",
   "execution_count": 12,
   "metadata": {},
   "outputs": [
    {
     "data": {
      "image/png": "[encoded data removed]",
      "text/plain": [
       "<Figure size 432x288 with 1 Axes>"
      ]
     },
     "metadata": {
      "needs_background": "light"
     },
     "output_type": "display_data"
    },
    {
     "data": {
      "image/png": "[encoded data removed]",
      "text/plain": [
       "<Figure size 432x288 with 1 Axes>"
      ]
     },
     "metadata": {
      "needs_background": "light"
     },
     "output_type": "display_data"
    }
   ],
   "source": [
    "\"\"\"Code Here\n",
    "將結果繪出\n",
    "\"\"\"\n",
    "\n",
    "import matplotlib.pyplot as plt\n",
    "%matplotlib inline\n",
    "\n",
    "plt.plot(range(len(train_loss)), train_loss, label=\"train loss\")\n",
    "plt.plot(range(len(valid_loss)), valid_loss, label=\"valid loss\")\n",
    "plt.legend()\n",
    "plt.title(\"Loss\")\n",
    "plt.show()\n",
    "\n",
    "plt.plot(range(len(train_acc)), train_acc, label=\"train accuracy\")\n",
    "plt.plot(range(len(valid_acc)), valid_acc, label=\"valid accuracy\")\n",
    "plt.legend()\n",
    "plt.title(\"Accuracy\")\n",
    "plt.show()"
   ]
  },
  {
   "cell_type": "code",
   "execution_count": null,
   "metadata": {},
   "outputs": [],
   "source": []
  }
 ],
 "metadata": {
  "kernelspec": {
   "display_name": "Python 3",
   "language": "python",
   "name": "python3"
  },
  "language_info": {
   "codemirror_mode": {
    "name": "ipython",
    "version": 3
   },
   "file_extension": ".py",
   "mimetype": "text/x-python",
   "name": "python",
   "nbconvert_exporter": "python",
   "pygments_lexer": "ipython3",
   "version": "3.7.3"
  }
 },
 "nbformat": 4,
 "nbformat_minor": 2
}
