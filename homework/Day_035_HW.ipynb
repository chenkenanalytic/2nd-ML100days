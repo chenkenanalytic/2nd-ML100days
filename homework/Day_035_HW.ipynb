{
 "cells": [
  {
   "cell_type": "markdown",
   "metadata": {},
   "source": [
    "## 練習時間\n",
    "相信大家對回歸問題及分類問題都有初步的了解。今天的作業希望大家搜尋有關 multi-label 的案例問題。下圖是電影 \"奇異博士\" 的分類。可以看到同時有 \"Action\", \"Adventure\", \"Fantasy\" 的類別存在，代表這是個多標籤的問題。 "
   ]
  },
  {
   "cell_type": "markdown",
   "metadata": {},
   "source": [
    "![image](https://cdn-images-1.medium.com/max/1000/1*r0gYXMSQf5VhdMyl2bRDyg.png)"
   ]
  },
  {
   "cell_type": "markdown",
   "metadata": {},
   "source": [
    "## 請搜尋目標為多標籤問題 (Multi-label) 的機器學習案例，了解其資料來源、目標以及評估指標為何\n",
    "## Hint: 服飾"
   ]
  },
  {
   "cell_type": "markdown",
   "metadata": {},
   "source": [
    "## Answer:\n",
    "\n",
    "### 服飾分類 (多標籤問題)\n",
    "\n",
    "舉例： T-Shirt: 休閒服飾、居家衣著、\"特定品牌\"、夏季服飾、青少年服飾、流行服飾... (Labels)\n",
    "\n",
    "資料來源： 使用者服飾圖片、線上服飾圖片、線上購物商城產品資訊 (爬蟲)\n",
    "\n",
    "目標：提供線上購物商城使用者，能透過關鍵字搜尋找到需求的商品\n",
    "\n",
    "評估指標：標籤是否正確、是否能讓使用者透過不同產品類別描述找到需求商品\n"
   ]
  },
  {
   "cell_type": "code",
   "execution_count": null,
   "metadata": {
    "collapsed": true
   },
   "outputs": [],
   "source": []
  }
 ],
 "metadata": {
  "kernelspec": {
   "display_name": "Python 3",
   "language": "python",
   "name": "python3"
  },
  "language_info": {
   "codemirror_mode": {
    "name": "ipython",
    "version": 3
   },
   "file_extension": ".py",
   "mimetype": "text/x-python",
   "name": "python",
   "nbconvert_exporter": "python",
   "pygments_lexer": "ipython3",
   "version": "3.6.3"
  }
 },
 "nbformat": 4,
 "nbformat_minor": 2
}
