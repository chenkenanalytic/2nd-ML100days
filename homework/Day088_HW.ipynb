{
 "cells": [
  {
   "cell_type": "markdown",
   "metadata": {},
   "source": [
    "## Work\n",
    "1. 請嘗試寫一個 callback 用來記錄各類別在訓練過程中，對驗證集的 True Positive 與 True Negative"
   ]
  },
  {
   "cell_type": "code",
   "execution_count": 1,
   "metadata": {},
   "outputs": [
    {
     "name": "stderr",
     "output_type": "stream",
     "text": [
      "Using TensorFlow backend.\n"
     ]
    }
   ],
   "source": [
    "import os\n",
    "import keras\n",
    "\n",
    "# Disable GPU\n",
    "os.environ[\"CUDA_VISIBLE_DEVICES\"] = \"\""
   ]
  },
  {
   "cell_type": "code",
   "execution_count": 2,
   "metadata": {},
   "outputs": [],
   "source": [
    "train, test = keras.datasets.cifar10.load_data()"
   ]
  },
  {
   "cell_type": "code",
   "execution_count": 3,
   "metadata": {},
   "outputs": [],
   "source": [
    "## 資料前處理\n",
    "def preproc_x(x, flatten=True):\n",
    "    x = x / 255.\n",
    "    if flatten:\n",
    "        x = x.reshape((len(x), -1))\n",
    "    return x\n",
    "\n",
    "def preproc_y(y, num_classes=10):\n",
    "    if y.shape[-1] == 1:\n",
    "        y = keras.utils.to_categorical(y, num_classes)\n",
    "    return y    "
   ]
  },
  {
   "cell_type": "code",
   "execution_count": 4,
   "metadata": {},
   "outputs": [],
   "source": [
    "x_train, y_train = train\n",
    "x_test, y_test = test\n",
    "\n",
    "# Preproc the inputs\n",
    "x_train = preproc_x(x_train)\n",
    "x_test = preproc_x(x_test)\n",
    "\n",
    "# Preprc the outputs\n",
    "y_train = preproc_y(y_train)\n",
    "y_test = preproc_y(y_test)"
   ]
  },
  {
   "cell_type": "code",
   "execution_count": 6,
   "metadata": {},
   "outputs": [],
   "source": [
    "from keras.layers import BatchNormalization\n",
    "def build_mlp(input_shape, output_units=10, num_neurons=[256, 256, 256]):\n",
    "    \"\"\"Code Here\n",
    "    建立你的神經網路\n",
    "    \"\"\"\n",
    "    input_layer = keras.layers.Input(input_shape)\n",
    "    \n",
    "    for i, n_units in enumerate(num_neurons):\n",
    "        if i == 0:\n",
    "            x = keras.layers.Dense(units=n_units, \n",
    "                                   activation=\"relu\", \n",
    "                                   name=\"hidden_layer\"+str(i+1))(input_layer)\n",
    "            x = BatchNormalization()(x)\n",
    "        else:\n",
    "            x = keras.layers.Dense(units=n_units, \n",
    "                                   activation=\"relu\", \n",
    "                                   name=\"hidden_layer\"+str(i+1))(x)\n",
    "            x = BatchNormalization()(x)\n",
    "    \n",
    "    out = keras.layers.Dense(units=output_units, activation=\"softmax\", name=\"output\")(x)\n",
    "    \n",
    "    model = keras.models.Model(inputs=[input_layer], outputs=[out])\n",
    "    return model"
   ]
  },
  {
   "cell_type": "code",
   "execution_count": 7,
   "metadata": {},
   "outputs": [],
   "source": [
    "## 超參數設定\n",
    "LEARNING_RATE = 1e-3\n",
    "EPOCHS = 25\n",
    "BATCH_SIZE = 1024\n",
    "MOMENTUM = 0.95"
   ]
  },
  {
   "cell_type": "code",
   "execution_count": 23,
   "metadata": {},
   "outputs": [],
   "source": [
    "# 載入 Callbacks\n",
    "from keras.callbacks import Callback\n",
    "from sklearn.metrics import confusion_matrix\n",
    "\n",
    "# Record_fp_tp\n",
    "class Record_tp_tn(Callback):\n",
    "    \"\"\"Code Here\n",
    "    撰寫一個紀錄 ture positive 與 true negative 數量的 callbacks    \n",
    "    \"\"\"\n",
    "\n",
    "    def on_train_begin(self, epoch, logs = {}):\n",
    "        logs = logs or {}\n",
    "        record_items = [\"val_auc\", \"val_f1sc\", \"val_fp\", \"val_fn\", \"val_tp\", \"val_tn\"]\n",
    "        for i in record_items:\n",
    "            if i not in self.params['metrics']:\n",
    "                self.params['metrics'].append(i)\n",
    "    \n",
    "    def on_epoch_end(self, epoch, logs = {}, thres=0.5):\n",
    "        logs = logs or {}\n",
    "        y_true = self.validation_data[1].argmax(axis = 1)\n",
    "        y_pred = self.model.predict(self.validation_data[0])\n",
    "        y_pred = (y_pred[:, 1] >= thres) * 1\n",
    "        \n",
    "        tp = np.sum(np.logical_and(y_pred == 1, y_true == 1))\n",
    "        tn = np.sum(np.logical_and(y_pred == 0, y_true == 0))\n",
    "        logs[\"tp\"] = tp\n",
    "        logs[\"tn\"] = tn\n",
    "\n",
    "        \n",
    "rec_tptn = Record_tp_tn()"
   ]
  },
  {
   "cell_type": "code",
   "execution_count": 25,
   "metadata": {
    "scrolled": true
   },
   "outputs": [
    {
     "name": "stdout",
     "output_type": "stream",
     "text": [
      "_________________________________________________________________\n",
      "Layer (type)                 Output Shape              Param #   \n",
      "=================================================================\n",
      "input_8 (InputLayer)         (None, 3072)              0         \n",
      "_________________________________________________________________\n",
      "hidden_layer1 (Dense)        (None, 256)               786688    \n",
      "_________________________________________________________________\n",
      "batch_normalization_22 (Batc (None, 256)               1024      \n",
      "_________________________________________________________________\n",
      "hidden_layer2 (Dense)        (None, 256)               65792     \n",
      "_________________________________________________________________\n",
      "batch_normalization_23 (Batc (None, 256)               1024      \n",
      "_________________________________________________________________\n",
      "hidden_layer3 (Dense)        (None, 256)               65792     \n",
      "_________________________________________________________________\n",
      "batch_normalization_24 (Batc (None, 256)               1024      \n",
      "_________________________________________________________________\n",
      "output (Dense)               (None, 10)                2570      \n",
      "=================================================================\n",
      "Total params: 923,914\n",
      "Trainable params: 922,378\n",
      "Non-trainable params: 1,536\n",
      "_________________________________________________________________\n",
      "Train on 50000 samples, validate on 10000 samples\n",
      "Epoch 1/25\n",
      "50000/50000 [==============================] - 7s 137us/step - loss: 2.2485 - acc: 0.2675 - val_loss: 2.2964 - val_acc: 0.2964\n",
      "Epoch 2/25\n",
      "50000/50000 [==============================] - 5s 108us/step - loss: 1.7598 - acc: 0.3865 - val_loss: 1.8390 - val_acc: 0.3721\n",
      "Epoch 3/25\n",
      "50000/50000 [==============================] - 5s 107us/step - loss: 1.6270 - acc: 0.4301 - val_loss: 1.6946 - val_acc: 0.4074\n",
      "Epoch 4/25\n",
      "50000/50000 [==============================] - 5s 108us/step - loss: 1.5522 - acc: 0.4528 - val_loss: 1.6272 - val_acc: 0.4265\n",
      "Epoch 5/25\n",
      "50000/50000 [==============================] - 5s 107us/step - loss: 1.4993 - acc: 0.4734 - val_loss: 1.5857 - val_acc: 0.4366\n",
      "Epoch 6/25\n",
      "50000/50000 [==============================] - 5s 107us/step - loss: 1.4588 - acc: 0.4881 - val_loss: 1.5600 - val_acc: 0.4540\n",
      "Epoch 7/25\n",
      "50000/50000 [==============================] - 5s 109us/step - loss: 1.4213 - acc: 0.5004 - val_loss: 1.5462 - val_acc: 0.4558\n",
      "Epoch 8/25\n",
      "50000/50000 [==============================] - 6s 115us/step - loss: 1.3905 - acc: 0.5112 - val_loss: 1.5303 - val_acc: 0.4622\n",
      "Epoch 9/25\n",
      "50000/50000 [==============================] - 5s 109us/step - loss: 1.3625 - acc: 0.5233 - val_loss: 1.5121 - val_acc: 0.4689\n",
      "Epoch 10/25\n",
      "50000/50000 [==============================] - 5s 108us/step - loss: 1.3356 - acc: 0.5328 - val_loss: 1.4989 - val_acc: 0.4747\n",
      "Epoch 11/25\n",
      "50000/50000 [==============================] - 5s 109us/step - loss: 1.3104 - acc: 0.5400 - val_loss: 1.4940 - val_acc: 0.4765\n",
      "Epoch 12/25\n",
      "50000/50000 [==============================] - 5s 108us/step - loss: 1.2892 - acc: 0.5494 - val_loss: 1.4877 - val_acc: 0.4754\n",
      "Epoch 13/25\n",
      "50000/50000 [==============================] - 5s 106us/step - loss: 1.2655 - acc: 0.5592 - val_loss: 1.4731 - val_acc: 0.4821\n",
      "Epoch 14/25\n",
      "50000/50000 [==============================] - 5s 106us/step - loss: 1.2439 - acc: 0.5659 - val_loss: 1.4638 - val_acc: 0.4854\n",
      "Epoch 15/25\n",
      "50000/50000 [==============================] - 5s 107us/step - loss: 1.2248 - acc: 0.5737 - val_loss: 1.4723 - val_acc: 0.4858\n",
      "Epoch 16/25\n",
      "50000/50000 [==============================] - 5s 107us/step - loss: 1.2050 - acc: 0.5806 - val_loss: 1.4507 - val_acc: 0.4910\n",
      "Epoch 17/25\n",
      "50000/50000 [==============================] - 5s 107us/step - loss: 1.1867 - acc: 0.5870 - val_loss: 1.4525 - val_acc: 0.4933\n",
      "Epoch 18/25\n",
      "50000/50000 [==============================] - 5s 110us/step - loss: 1.1690 - acc: 0.5940 - val_loss: 1.4575 - val_acc: 0.4921\n",
      "Epoch 19/25\n",
      "50000/50000 [==============================] - 7s 133us/step - loss: 1.1515 - acc: 0.6012 - val_loss: 1.4470 - val_acc: 0.4954\n",
      "Epoch 20/25\n",
      "50000/50000 [==============================] - 6s 118us/step - loss: 1.1351 - acc: 0.6072 - val_loss: 1.4418 - val_acc: 0.4965\n",
      "Epoch 21/25\n",
      "50000/50000 [==============================] - 7s 137us/step - loss: 1.1175 - acc: 0.6148 - val_loss: 1.4397 - val_acc: 0.4965\n",
      "Epoch 22/25\n",
      "50000/50000 [==============================] - 6s 119us/step - loss: 1.0996 - acc: 0.6208 - val_loss: 1.4542 - val_acc: 0.4933\n",
      "Epoch 23/25\n",
      "50000/50000 [==============================] - 5s 108us/step - loss: 1.0864 - acc: 0.6246 - val_loss: 1.4520 - val_acc: 0.4981\n",
      "Epoch 24/25\n",
      "50000/50000 [==============================] - 5s 106us/step - loss: 1.0702 - acc: 0.6312 - val_loss: 1.4504 - val_acc: 0.5024\n",
      "Epoch 25/25\n",
      "50000/50000 [==============================] - 5s 109us/step - loss: 1.0536 - acc: 0.6387 - val_loss: 1.4493 - val_acc: 0.4966\n"
     ]
    }
   ],
   "source": [
    "import numpy as np\n",
    "\n",
    "model = build_mlp(input_shape=x_train.shape[1:])\n",
    "model.summary()\n",
    "optimizer = keras.optimizers.SGD(lr=LEARNING_RATE, nesterov=True, momentum=MOMENTUM)\n",
    "model.compile(loss=\"categorical_crossentropy\", metrics=[\"accuracy\"], optimizer=optimizer)\n",
    "\n",
    "\"\"\"Code Here\n",
    "將 callbacks 放入模型訓練流程中\n",
    "\"\"\"\n",
    "model.fit(x_train, y_train, \n",
    "          epochs=EPOCHS, \n",
    "          batch_size=BATCH_SIZE, \n",
    "          validation_data=(x_test, y_test), \n",
    "          shuffle=True,\n",
    "          callbacks=[rec_tptn]\n",
    "         )\n",
    "\n",
    "# Collect results\n",
    "train_loss = model.history.history[\"loss\"]\n",
    "valid_loss = model.history.history[\"val_loss\"]\n",
    "train_acc = model.history.history[\"acc\"]\n",
    "valid_acc = model.history.history[\"val_acc\"]\n",
    "\n",
    "\"\"\"Code Here\n",
    "將 tp/tn 從訓練完的模型中取出\n",
    "\"\"\"\n",
    "valid_tp = model.history.history[\"tp\"]\n",
    "valid_tn = model.history.history[\"tn\"]"
   ]
  },
  {
   "cell_type": "code",
   "execution_count": 26,
   "metadata": {},
   "outputs": [
    {
     "data": {
      "image/png": "[encoded data removed]",
      "text/plain": [
       "<Figure size 432x288 with 1 Axes>"
      ]
     },
     "metadata": {
      "needs_background": "light"
     },
     "output_type": "display_data"
    },
    {
     "data": {
      "image/png": "[encoded data removed]",
      "text/plain": [
       "<Figure size 432x288 with 1 Axes>"
      ]
     },
     "metadata": {
      "needs_background": "light"
     },
     "output_type": "display_data"
    },
    {
     "data": {
      "image/png": "[encoded data removed]",
      "text/plain": [
       "<Figure size 432x288 with 1 Axes>"
      ]
     },
     "metadata": {
      "needs_background": "light"
     },
     "output_type": "display_data"
    }
   ],
   "source": [
    "import matplotlib.pyplot as plt\n",
    "%matplotlib inline\n",
    "\n",
    "plt.plot(range(len(train_loss)), train_loss, label=\"train loss\")\n",
    "plt.plot(range(len(valid_loss)), valid_loss, label=\"valid loss\")\n",
    "plt.legend()\n",
    "plt.title(\"Loss\")\n",
    "plt.show()\n",
    "\n",
    "plt.plot(range(len(train_acc)), train_acc, label=\"train accuracy\")\n",
    "plt.plot(range(len(valid_acc)), valid_acc, label=\"valid accuracy\")\n",
    "plt.legend()\n",
    "plt.title(\"Accuracy\")\n",
    "plt.show()\n",
    "\n",
    "plt.plot(range(len(valid_tp)), valid_tp, label=\"valid tp\", color=\"navy\")\n",
    "plt.plot(range(len(valid_tn)), valid_tn, label=\"valid tn\", color=\"red\")\n",
    "plt.legend()\n",
    "plt.title(\"True positives and True Negatives\")\n",
    "plt.show()\n"
   ]
  },
  {
   "cell_type": "code",
   "execution_count": null,
   "metadata": {},
   "outputs": [],
   "source": []
  }
 ],
 "metadata": {
  "kernelspec": {
   "display_name": "Python 3",
   "language": "python",
   "name": "python3"
  },
  "language_info": {
   "codemirror_mode": {
    "name": "ipython",
    "version": 3
   },
   "file_extension": ".py",
   "mimetype": "text/x-python",
   "name": "python",
   "nbconvert_exporter": "python",
   "pygments_lexer": "ipython3",
   "version": "3.7.3"
  }
 },
 "nbformat": 4,
 "nbformat_minor": 2
}
